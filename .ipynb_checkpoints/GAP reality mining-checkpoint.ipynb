{
 "cells": [
  {
   "cell_type": "code",
   "execution_count": 1,
   "metadata": {},
   "outputs": [],
   "source": [
    "import scipy.io\n",
    "from datetime import datetime, timedelta\n",
    "import time\n",
    "import sys, os\n",
    "import itertools\n",
    "import numpy\n",
    "from collections import deque\n",
    "\n",
    "#start_date = 1094601600 #First day of classes in 04-05 academic year\n",
    "#end_date = 1133740800 #Last day of classes in 04-05 academic year"
   ]
  },
  {
   "cell_type": "code",
   "execution_count": 2,
   "metadata": {},
   "outputs": [],
   "source": [
    "def hasNumeric(obj, field):\n",
    "   try:\n",
    "      obj[field][0][0]\n",
    "      return True\n",
    "   except:\n",
    "      return False\n",
    "\n",
    "\n",
    "def getNumeric(obj, field):\n",
    "   return obj[field][0][0]"
   ]
  },
  {
   "cell_type": "code",
   "execution_count": 3,
   "metadata": {},
   "outputs": [],
   "source": [
    "def hasArray(obj, field):\n",
    "   try:\n",
    "      obj[field][0]\n",
    "      return True\n",
    "   except:\n",
    "      return False\n",
    "\n",
    "\n",
    "def getArray(obj, field):\n",
    "   return obj[field][0]"
   ]
  },
  {
   "cell_type": "code",
   "execution_count": 4,
   "metadata": {},
   "outputs": [],
   "source": [
    "def validSubjects(allSubjects):\n",
    "   return [s for s in allSubjects if hasNumeric(s,'mac') and hasNumeric(s,'my_hashedNumber')]\n",
    "\n",
    "\n",
    "# idDicts: subjects -> {int: subject}, {float: (int, subject)}, {int: (int, subject)}\n",
    "# First hash is contiguousId: subjectObject\n",
    "# second hash is macAddress: contiguousId, subjectObject\n",
    "# third hash is hashedNumber: contiguousId, subjectObject\n",
    "# because the id dictionaries reference the subject object, we can replace\n",
    "# the array of subject objects with these dictionaries.\n",
    "def idDicts(subjects):\n",
    "   return (dict((i, s) for (i,s) in enumerate(subjects)),\n",
    "      dict((getNumeric(s,'mac'), (i, s)) for (i,s) in enumerate(subjects)),\n",
    "      dict((getNumeric(s, 'my_hashedNumber'), (i, s)) for (i,s) in enumerate(subjects)))"
   ]
  },
  {
   "cell_type": "code",
   "execution_count": 5,
   "metadata": {},
   "outputs": [],
   "source": [
    "def allCommEvents(idDictionary):\n",
    "   events = []\n",
    "   for subjectId, subject in idDictionary.items():\n",
    "      if hasArray(subject, 'comm'):\n",
    "         events.extend([(subjectId, event) for event in getArray(subject, 'comm')])\n",
    "\n",
    "   print(\"%d total comm events\" % len(events))\n",
    "   return events"
   ]
  },
  {
   "cell_type": "code",
   "execution_count": 6,
   "metadata": {},
   "outputs": [],
   "source": [
    "# extract those call events which are voice calls and only between\n",
    "# two members of the study.\n",
    "def callsWithinStudy(commEvents, hashNumDict):\n",
    "   calls = [(subjectId, e) for (subjectId, e) in commEvents if getArray(e, 'description') == \"Voice call\"\n",
    "                                             and getNumeric(e, 'hashNum') in hashNumDict]\n",
    "   print(\"%d total calls within study\" % len(calls))\n",
    "   return calls"
   ]
  },
  {
   "cell_type": "code",
   "execution_count": 7,
   "metadata": {},
   "outputs": [],
   "source": [
    "def convertDatetime(dt):\n",
    "   return datetime.fromordinal(int(dt)) + timedelta(days=dt%1) - timedelta(days=366) - timedelta(hours=5)"
   ]
  },
  {
   "cell_type": "code",
   "execution_count": 8,
   "metadata": {},
   "outputs": [],
   "source": [
    "def processCallEvents(callEvents, hashNumDict):\n",
    "   processedCallEvents = []\n",
    "\n",
    "   for subjectId, event in callEvents:\n",
    "      direction = getArray(event, 'direction')\n",
    "      duration = 0 if direction == 'Missed' else getNumeric(event, 'duration')\n",
    "      date = convertDatetime(getNumeric(event, 'date'))\n",
    "      hashNum = getNumeric(event, 'hashNum')\n",
    "      otherPartyId = hashNumDict[hashNum][0]\n",
    "\n",
    "      eventAsDict = {'subjectId': subjectId,\n",
    "                      'direction': direction,\n",
    "                      'duration': duration,\n",
    "                      'otherPartyId': otherPartyId,\n",
    "                      'date': date}\n",
    "      processedCallEvents.append(eventAsDict)\n",
    "\n",
    "   print(\"%d call event dictionaries\" % len(processedCallEvents))\n",
    "   return processedCallEvents"
   ]
  },
  {
   "cell_type": "code",
   "execution_count": 9,
   "metadata": {},
   "outputs": [],
   "source": [
    "def inRange(dateRange, timevalue):\n",
    "   start, end = dateRange\n",
    "   unixTime = int(time.mktime(timevalue.timetuple()))\n",
    "   return start <= unixTime <= end"
   ]
  },
  {
   "cell_type": "code",
   "execution_count": 10,
   "metadata": {},
   "outputs": [],
   "source": [
    "def filterByDate(dateRange, events):\n",
    "   filteredCalls = [e for e in events if inRange(dateRange, e['date'])]\n",
    "   print(\"%d calls after filtering by date\" % len(filteredCalls))\n",
    "   return filteredCalls"
   ]
  },
  {
   "cell_type": "code",
   "execution_count": 11,
   "metadata": {},
   "outputs": [],
   "source": [
    "def writeCallEvents(callEventDicts, filename):\n",
    "   with open(filename, 'w') as outfile:\n",
    "      outfile.write('subjectId\\totherPartyId\\tduration\\tdirection\\tdate\\n')\n",
    "      for d in callEventDicts:\n",
    "         values = [d['subjectId'], d['otherPartyId'], d['duration'], d['direction'], d['date']]\n",
    "         line = '\\t'.join((\"%s\" % (v,)) for v in values)\n",
    "         outfile.write('%s\\n' % line)"
   ]
  },
  {
   "cell_type": "code",
   "execution_count": 12,
   "metadata": {},
   "outputs": [],
   "source": [
    "def createPhoneCallDataset(idDictionaries):\n",
    "   startDate = 1095984000\n",
    "   endDate = 1105142400\n",
    "\n",
    "   # this data contains the subject records as well\n",
    "   idDict, macDict, hashNumDict = idDictionaries\n",
    "\n",
    "   print(\"Extracting intra-study calls...\")\n",
    "   calls = callsWithinStudy(allCommEvents(idDict), hashNumDict)\n",
    "\n",
    "   print(\"Converting call events to a reasonable format...\")\n",
    "   convertedCallEvents = processCallEvents(calls, hashNumDict)\n",
    "\n",
    "   print(\"Filtering calls within the given date range...\")\n",
    "   callsToWrite = filterByDate((startDate, endDate), convertedCallEvents)\n",
    "\n",
    "   print(\"Writing the calls to reality-mining-calls.txt...\")\n",
    "   writeCallEvents(callsToWrite, 'reality-mining-calls.txt')"
   ]
  },
  {
   "cell_type": "code",
   "execution_count": 13,
   "metadata": {},
   "outputs": [],
   "source": [
    "# survey values are either numeric or numpy.nan, so we need special\n",
    "# functions to account for means/maxes involving nan.\n",
    "def mean(x, y):\n",
    "   if numpy.isnan(x):\n",
    "      return mean(0, y)\n",
    "   if numpy.isnan(y):\n",
    "      return mean(x, 0)\n",
    "\n",
    "   return float(x + y) / 2\n",
    "\n",
    "\n",
    "def myMax(x, y):\n",
    "   if numpy.isnan(x):\n",
    "      return myMax(0, y)\n",
    "   if numpy.isnan(y):\n",
    "      return myMax(x, 0)\n",
    "\n",
    "   return max(x,y)"
   ]
  },
  {
   "cell_type": "code",
   "execution_count": 14,
   "metadata": {},
   "outputs": [],
   "source": [
    "# For simplicity: take the avg of estimates, and the max of the friendship reporting\n",
    "def getSurveyResponse(network, id1, id2):\n",
    "   friends = myMax(network['friends'][id1][id2], network['friends'][id2][id1])\n",
    "   inLabProximity = mean(network['lab'][id1][id2], network['lab'][id2][id1])\n",
    "   outLabProximity = mean(network['outlab'][id1][id2], network['outlab'][id2][id1])\n",
    "\n",
    "   return (id1, id2, friends, inLabProximity, outLabProximity)\n",
    "\n",
    "\n",
    "def writeSurveyEvents(surveyRecords, filename):\n",
    "   with open(filename, 'w') as outfile:\n",
    "      outfile.write('id1\\tid2\\tclose-friends?\\tinlab-proximity\\toutlab-proximity\\n')\n",
    "      for values in surveyRecords:\n",
    "         line = '\\t'.join((\"%s\" % (v,)) for v in values)\n",
    "         outfile.write('%s\\n' % line)"
   ]
  },
  {
   "cell_type": "code",
   "execution_count": 15,
   "metadata": {},
   "outputs": [],
   "source": [
    "def createFriendshipDataset(networkObj, idDictionaries):\n",
    "   idDict, macDict, hashNumDict = idDictionaries\n",
    "\n",
    "   networkIdDict = dict((i, (hashNum, hashNumDict[hashNum][0]))\n",
    "         for i,hashNum in enumerate(getArray(networkObj, 'sub_sort'))\n",
    "         if hashNum in hashNumDict) # this guarantees the subject is valid\n",
    "\n",
    "   convertId = lambda i: networkIdDict[i][1]\n",
    "\n",
    "   print(\"Creating network survey dataset (friendship/proximity/close friends)\")\n",
    "   networkSurvey = [getSurveyResponse(networkObj,i,j)\n",
    "         for i,j in itertools.combinations(networkIdDict.keys(), 2)]\n",
    "\n",
    "   print(\"Converting ids\")\n",
    "   convertedNetworkSurvey = [(convertId(x[0]), convertId(x[1]), x[2], x[3], x[4])\n",
    "         for x in networkSurvey if x[2] != 0 or x[3] != 0 or x[4] != 0]\n",
    "\n",
    "   print(\"Writing the survey data to reality-mining-survey.txt\")\n",
    "   writeSurveyEvents(convertedNetworkSurvey, 'reality-mining-survey.txt')"
   ]
  },
  {
   "cell_type": "code",
   "execution_count": 16,
   "metadata": {},
   "outputs": [],
   "source": [
    "# turn each (date, tower) pair into a (dateInterval, tower) pair\n",
    "# so we can compute the amount of time spent within one tower range,\n",
    "# or the overlap of two people in the same tower rage.\n",
    "def makeCellTowerIntervals(subject):\n",
    "   events = subject['locs']\n",
    "   dt = convertDatetime\n",
    "   return [((dt(events[i][0]), dt(events[i+1][0])), events[i][1])\n",
    "           for i in range(len(events) - 1) if events[i][1] > 0] # condition ensures there was signal"
   ]
  },
  {
   "cell_type": "code",
   "execution_count": 17,
   "metadata": {},
   "outputs": [],
   "source": [
    "def dateIntervalOverlap(dtint1, dtint2):\n",
    "   start1, end1 = dtint1\n",
    "   start2, end2 = dtint2\n",
    "\n",
    "   if start1 <= start2 <= end1:\n",
    "      return (start2, min(end1, end2))\n",
    "   elif start2 <= start1 <= end2:\n",
    "      return (start1, min(end1, end2))\n",
    "   else:\n",
    "      return None"
   ]
  },
  {
   "cell_type": "code",
   "execution_count": 18,
   "metadata": {},
   "outputs": [],
   "source": [
    "\n",
    "def listProximityEvents(intervals1, intervals2):\n",
    "   if len(intervals1) == 0 or len(intervals2) == 0:\n",
    "      print(\"Found an empty interval list?\")\n",
    "      return []\n",
    "\n",
    "   D1, D2 = deque(intervals1), deque(intervals2)\n",
    "   events = deque()\n",
    "\n",
    "   print('Processing new pairs of intervals')\n",
    "   dateInterval1, towerId1 = D1.popleft()\n",
    "   dateInterval2, towerId2 = D2.popleft()\n",
    "   while len(D1) > 0 and len(D2) > 0:\n",
    "      if dateInterval2[0] >= dateInterval1[1]:\n",
    "         dateInterval1, towerId1 = D1.popleft()\n",
    "      elif dateInterval1[0] >= dateInterval2[1]:\n",
    "         dateInterval2, towerId2 = D2.popleft()\n",
    "      else:\n",
    "         if towerId1 == towerId2:\n",
    "            theOverlap = dateIntervalOverlap(dateInterval1, dateInterval2)\n",
    "            if (theOverlap[1] - theOverlap[0]).total_seconds() > 1:\n",
    "               events.append((theOverlap, towerId1))\n",
    "               #print('Found a match! %s, %s at tower %s' % (theOverlap[0], theOverlap[1], towerId1))\n",
    "\n",
    "         if dateInterval1[0] < dateInterval2[0]:\n",
    "            dateInterval1, towerId1 = D1.popleft()\n",
    "         else:\n",
    "            dateInterval2, towerId2 = D2.popleft()\n",
    "\n",
    "   return events\n",
    "\n",
    "\n",
    "def writeProximityEvents(proxEventsDict, filename):\n",
    "   with open(filename, 'w') as outfile:\n",
    "      outfile.write('id1\\tid2\\tcellTower\\tstart\\tend\\n')\n",
    "      for k in proxEventsDict:\n",
    "         id1, id2 = k\n",
    "         for event in proxEventsDict[k]:\n",
    "            values = [id1, id2, event[1], event[0][0], event[0][1]]\n",
    "            line = '\\t'.join((\"%s\" % (v,)) for v in values)\n",
    "            outfile.write('%s\\n' % line)"
   ]
  },
  {
   "cell_type": "code",
   "execution_count": 19,
   "metadata": {},
   "outputs": [],
   "source": [
    "def createCellTowerDataset(idDictionaries):\n",
    "    idDict, macDict, hashNumDict = idDictionaries\n",
    "\n",
    "    print(\"Making cell tower intervals.\")\n",
    "    cellTowerIntervals = dict((i, makeCellTowerIntervals(idDict[i])) for i in idDict)\n",
    "\n",
    "    print(\"Computing cell tower proximity events.\")\n",
    "    proximityEvents = dict(((i, j), listProximityEvents(cellTowerIntervals[i], cellTowerIntervals[j]))\n",
    "         for i,j in itertools.combinations(cellTowerIntervals.keys(), 2))\n",
    "\n",
    "    print(\"Writing proximity events to reality-mining-proximity.txt\")\n",
    "    writeProximityEvents(proximityEvents, 'reality-mining-proximity.txt')"
   ]
  },
  {
   "cell_type": "code",
   "execution_count": 21,
   "metadata": {},
   "outputs": [
    {
     "name": "stdout",
     "output_type": "stream",
     "text": [
      "Loading in matlab data - this takes a while and about 2gb memory\n",
      "Done loading matlab data.\n"
     ]
    }
   ],
   "source": [
    "matlab_filename = 'realitymining.mat'\n",
    "print(\"Loading in matlab data - this takes a while and about 2gb memory\")\n",
    "matlab_obj = scipy.io.loadmat(matlab_filename)\n",
    "print(\"Done loading matlab data.\")"
   ]
  },
  {
   "cell_type": "code",
   "execution_count": 22,
   "metadata": {},
   "outputs": [
    {
     "name": "stdout",
     "output_type": "stream",
     "text": [
      "Extracting valid subjects and creating id dictionaries.\n"
     ]
    }
   ],
   "source": [
    "print('Extracting valid subjects and creating id dictionaries.')\n",
    "subjects = validSubjects(matlab_obj['s'][0])\n",
    "idDictionaries = idDicts(subjects)"
   ]
  },
  {
   "cell_type": "code",
   "execution_count": 40,
   "metadata": {},
   "outputs": [
    {
     "data": {
      "text/plain": [
       "array([[732154.87377315,      0.        ],\n",
       "       [732154.87377315,      0.        ],\n",
       "       [732154.87400463,  24127.00111   ],\n",
       "       ...,\n",
       "       [732437.02701389,   5193.40763   ],\n",
       "       [732437.03311343,   5193.48732   ],\n",
       "       [732437.03434028,   5193.40763   ]])"
      ]
     },
     "execution_count": 40,
     "metadata": {},
     "output_type": "execute_result"
    }
   ],
   "source": [
    "subjects[0]['locs']"
   ]
  },
  {
   "cell_type": "code",
   "execution_count": 78,
   "metadata": {},
   "outputs": [
    {
     "name": "stdout",
     "output_type": "stream",
     "text": [
      "Extracting intra-study calls...\n",
      "170004 total comm events\n",
      "5445 total calls within study\n",
      "Converting call events to a reasonable format...\n",
      "5445 call event dictionaries\n",
      "Filtering calls within the given date range...\n",
      "3356 calls after filtering by date\n",
      "Writing the calls to reality-mining-calls.txt...\n",
      "Cleaning up...\n"
     ]
    }
   ],
   "source": [
    "#createFriendshipDataset(matlab_obj['network'][0][0], idDictionaries)\n",
    "createPhoneCallDataset(idDictionaries)\n",
    "# createCellTowerDataset(idDictionaries)\n",
    "\n",
    "print(\"Cleaning up...\")"
   ]
  },
  {
   "cell_type": "code",
   "execution_count": 27,
   "metadata": {},
   "outputs": [],
   "source": [
    "def createSMSDataset(idDictionaries, filename):\n",
    "#     startDate = 1095984000\n",
    "#     endDate = 1105142400\n",
    "\n",
    "#    this data contains the subject records as well\n",
    "    idDict, macDict, hashNumDict = idDictionaries\n",
    "\n",
    "    events = []\n",
    "    for subjectId, subject in idDict.items():\n",
    "        if hasArray(subject, 'comm_sms_date'):\n",
    "            events.extend([(subjectId, convertDatetime(float(event))) for event in subject['comm_sms_date']])\n",
    "    print(\"%d total comm events\" % len(events))\n",
    "    \n",
    "#     with open(filename, 'w') as outfile:\n",
    "#         outfile.write('subjectId\\tdate\\n')\n",
    "#         for (subjectId, date) in events:\n",
    "#             values = [subjectId, date]\n",
    "#             line = '\\t'.join((\"%s\" % (v,)) for v in values)\n",
    "#             outfile.write('%s\\n' % line)\n",
    "            \n",
    "    return events"
   ]
  },
  {
   "cell_type": "code",
   "execution_count": 28,
   "metadata": {},
   "outputs": [
    {
     "name": "stdout",
     "output_type": "stream",
     "text": [
      "5269 total comm events\n"
     ]
    }
   ],
   "source": [
    "SMSevents = createSMSDataset(idDictionaries, 'reality-mining-sms.txt')"
   ]
  },
  {
   "cell_type": "code",
   "execution_count": 142,
   "metadata": {},
   "outputs": [],
   "source": [
    "def create_loc_Dataset(idDictionaries, filename):\n",
    "#     startDate = 1095984000\n",
    "#     endDate = 1105142400\n",
    "\n",
    "#    this data contains the subject records as well\n",
    "    idDict, macDict, hashNumDict = idDictionaries\n",
    "\n",
    "#     events = []\n",
    "#     for subjectId, subject in idDict.items():\n",
    "#         if hasArray(subject, 'locs'):\n",
    "#             events.extend([[subjectId, list(event)] for event in subject['locs']])\n",
    "#     print(\"%d total loc events\" % len(events))\n",
    "    \n",
    "#     print(events[0])\n",
    "    \n",
    "    events = []\n",
    "    for subjectId, subject in idDict.items():\n",
    "        if hasArray(subject, 'locs'):\n",
    "            for event in subject['locs']:\n",
    "                timeplace = list(event)\n",
    "                print(timeplace[0])\n",
    "                time = timeplace[0]\n",
    "                print(timeplace[1])\n",
    "                place = timeplace[1]\n",
    "                return\n",
    "                events.extend([[subjectId, timeplace]])\n",
    "    print(\"%d total loc events\" % len(events))\n",
    "    \n",
    "        \n",
    "#     with open(filename, 'w') as outfile:\n",
    "#         outfile.write('subjectId\\tdate\\tlocation\\n')\n",
    "#         for (subjectId, event) in events:\n",
    "#             values = [subjectId, event]\n",
    "#             line = '\\t'.join((\"%s\" % (v,)) for v in values)\n",
    "#             outfile.write('%s\\n' % line)\n",
    "            \n",
    "    return events"
   ]
  },
  {
   "cell_type": "code",
   "execution_count": 143,
   "metadata": {},
   "outputs": [
    {
     "name": "stdout",
     "output_type": "stream",
     "text": [
      "2\n",
      "732154.8737731482\n",
      "0.0\n"
     ]
    }
   ],
   "source": [
    "loc_events = create_loc_Dataset(idDictionaries, 'reality-mining-loc.txt')"
   ]
  },
  {
   "cell_type": "code",
   "execution_count": 134,
   "metadata": {},
   "outputs": [
    {
     "data": {
      "text/plain": [
       "[[0, [732154.8737731482, 0.0]],\n",
       " [0, [732154.8737731482, 0.0]],\n",
       " [0, [732154.8740046297, 24127.00111]],\n",
       " [0, [732154.8747337963, 24127.02353]],\n",
       " [0, [732154.875150463, 24127.02832]]]"
      ]
     },
     "execution_count": 134,
     "metadata": {},
     "output_type": "execute_result"
    }
   ],
   "source": [
    "loc_events[0:5]"
   ]
  },
  {
   "cell_type": "code",
   "execution_count": 85,
   "metadata": {},
   "outputs": [
    {
     "ename": "ValueError",
     "evalue": "setting an array element with a sequence.",
     "output_type": "error",
     "traceback": [
      "\u001b[0;31m---------------------------------------------------------------------------\u001b[0m",
      "\u001b[0;31mValueError\u001b[0m                                Traceback (most recent call last)",
      "\u001b[0;32m<ipython-input-85-bf24f5c35670>\u001b[0m in \u001b[0;36m<module>\u001b[0;34m()\u001b[0m\n\u001b[0;32m----> 1\u001b[0;31m \u001b[0mk\u001b[0m \u001b[0;34m=\u001b[0m \u001b[0mnumpy\u001b[0m\u001b[0;34m.\u001b[0m\u001b[0marray\u001b[0m\u001b[0;34m(\u001b[0m\u001b[0mlist\u001b[0m\u001b[0;34m(\u001b[0m\u001b[0mloc_events\u001b[0m\u001b[0;34m[\u001b[0m\u001b[0;36m0\u001b[0m\u001b[0;34m]\u001b[0m\u001b[0;34m)\u001b[0m\u001b[0;34m)\u001b[0m\u001b[0;34m\u001b[0m\u001b[0m\n\u001b[0m",
      "\u001b[0;31mValueError\u001b[0m: setting an array element with a sequence."
     ]
    }
   ],
   "source": [
    "k = numpy.array(list(loc_events[0]))"
   ]
  },
  {
   "cell_type": "code",
   "execution_count": null,
   "metadata": {},
   "outputs": [],
   "source": []
  }
 ],
 "metadata": {
  "kernelspec": {
   "display_name": "Python 3",
   "language": "python",
   "name": "python3"
  },
  "language_info": {
   "codemirror_mode": {
    "name": "ipython",
    "version": 3
   },
   "file_extension": ".py",
   "mimetype": "text/x-python",
   "name": "python",
   "nbconvert_exporter": "python",
   "pygments_lexer": "ipython3",
   "version": "3.7.0"
  }
 },
 "nbformat": 4,
 "nbformat_minor": 2
}

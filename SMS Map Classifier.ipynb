{
 "cells": [
  {
   "cell_type": "code",
   "execution_count": 2,
   "metadata": {},
   "outputs": [],
   "source": [
    "from __future__ import absolute_import, division, print_function\n",
    "\n",
    "import tensorflow as tf\n",
    "from tensorflow import keras\n",
    "\n",
    "import numpy as np"
   ]
  },
  {
   "cell_type": "code",
   "execution_count": 3,
   "metadata": {},
   "outputs": [],
   "source": [
    "import scipy.io\n",
    "from datetime import datetime, timedelta\n",
    "import time\n",
    "import sys, os\n",
    "import itertools\n",
    "import numpy\n",
    "from collections import deque"
   ]
  },
  {
   "cell_type": "code",
   "execution_count": 4,
   "metadata": {
    "scrolled": true
   },
   "outputs": [
    {
     "name": "stdout",
     "output_type": "stream",
     "text": [
      "Loading in matlab data - this takes a while and about 2gb memory\n",
      "Done loading matlab data.\n"
     ]
    }
   ],
   "source": [
    "matlab_filename = 'realitymining.mat'\n",
    "print(\"Loading in matlab data - this takes a while and about 2gb memory\")\n",
    "matlab_obj = scipy.io.loadmat(matlab_filename)\n",
    "print(\"Done loading matlab data.\")"
   ]
  },
  {
   "cell_type": "code",
   "execution_count": 5,
   "metadata": {},
   "outputs": [],
   "source": [
    "def validSubjects(allSubjects):\n",
    "    return [s for s in allSubjects if hasNumeric(s,'mac') and hasNumeric(s,'my_hashedNumber')]\n",
    "\n",
    "\n",
    "# idDicts: subjects -> {int: subject}, {float: (int, subject)}, {int: (int, subject)}\n",
    "# First hash is contiguousId: subjectObject\n",
    "# second hash is macAddress: contiguousId, subjectObject\n",
    "# third hash is hashedNumber: contiguousId, subjectObject\n",
    "# because the id dictionaries reference the subject object, we can replace\n",
    "# the array of subject objects with these dictionaries.\n",
    "\n",
    "def idDicts(subjects):\n",
    "    return (dict((i, s) for (i,s) in enumerate(subjects)),\n",
    "        dict((getNumeric(s,'mac'), (i, s)) for (i,s) in enumerate(subjects)),\n",
    "        dict((getNumeric(s, 'my_hashedNumber'), (i, s)) for (i,s) in enumerate(subjects)))\n",
    "\n",
    "def hasNumeric(obj, field):\n",
    "    try:\n",
    "        obj[field][0][0]\n",
    "        return True\n",
    "    except:\n",
    "        return False\n",
    "    \n",
    "def getNumeric(obj, field):\n",
    "    return obj[field][0][0]\n",
    "\n",
    "def hasArray(obj, field):\n",
    "    try:\n",
    "        obj[field][0]\n",
    "        return True\n",
    "    except:\n",
    "        return False\n",
    "\n",
    "\n",
    "def getArray(obj, field):\n",
    "    return obj[field][0]\n",
    "\n",
    "def convertDatetime(dt):\n",
    "    return datetime.fromordinal(int(dt)) + timedelta(days=dt%1) - timedelta(days=366) - timedelta(hours=5)"
   ]
  },
  {
   "cell_type": "code",
   "execution_count": 6,
   "metadata": {},
   "outputs": [
    {
     "name": "stdout",
     "output_type": "stream",
     "text": [
      "Extracting valid subjects and creating id dictionaries.\n"
     ]
    }
   ],
   "source": [
    "print('Extracting valid subjects and creating id dictionaries.')\n",
    "subjects = validSubjects(matlab_obj['s'][0])\n",
    "idDictionaries = idDicts(subjects)"
   ]
  },
  {
   "cell_type": "code",
   "execution_count": 7,
   "metadata": {},
   "outputs": [],
   "source": [
    "def createSMSDataset(idDictionaries):\n",
    "#     startDate = 1095984000\n",
    "#     endDate = 1105142400\n",
    "\n",
    "#    this data contains the subject records as well\n",
    "    idDict, macDict, hashNumDict = idDictionaries\n",
    "\n",
    "    events = []\n",
    "    for subjectId, subject in idDict.items():\n",
    "        if hasArray(subject, 'comm_sms_date'):\n",
    "            events.extend([[subjectId, convertDatetime(float(event))] for event in subject['comm_sms_date']])\n",
    "    print(\"%d total comm events\" % len(events))\n",
    "            \n",
    "    return events"
   ]
  },
  {
   "cell_type": "code",
   "execution_count": 8,
   "metadata": {
    "scrolled": true
   },
   "outputs": [
    {
     "name": "stdout",
     "output_type": "stream",
     "text": [
      "5269 total comm events\n"
     ]
    }
   ],
   "source": [
    "SMSevents = createSMSDataset(idDictionaries)"
   ]
  },
  {
   "cell_type": "code",
   "execution_count": 9,
   "metadata": {},
   "outputs": [
    {
     "data": {
      "text/plain": [
       "[[0, datetime.datetime(2004, 8, 3, 18, 33, 36, 999996)],\n",
       " [0, datetime.datetime(2004, 8, 4, 9, 5, 10, 2)],\n",
       " [0, datetime.datetime(2004, 8, 4, 9, 5, 43, 999998)],\n",
       " [0, datetime.datetime(2004, 8, 6, 23, 6, 25, 999995)],\n",
       " [0, datetime.datetime(2004, 8, 18, 21, 15, 31, 999997)],\n",
       " [0, datetime.datetime(2004, 8, 19, 9, 3, 0, 3)],\n",
       " [0, datetime.datetime(2004, 8, 23, 7, 30, 32, 999995)],\n",
       " [0, datetime.datetime(2004, 8, 26, 22, 7, 36, 1)],\n",
       " [0, datetime.datetime(2004, 8, 27, 21, 28, 49)],\n",
       " [0, datetime.datetime(2004, 8, 29, 15, 4, 33, 999996)]]"
      ]
     },
     "execution_count": 9,
     "metadata": {},
     "output_type": "execute_result"
    }
   ],
   "source": [
    "SMSevents[0:10]"
   ]
  },
  {
   "cell_type": "code",
   "execution_count": 10,
   "metadata": {},
   "outputs": [],
   "source": [
    "def create_loc_Dataset(idDictionaries):\n",
    "#     startDate = 1095984000\n",
    "#     endDate = 1105142400\n",
    "\n",
    "#    this data contains the subject records as well\n",
    "    idDict, macDict, hashNumDict = idDictionaries\n",
    "    \n",
    "    events = []\n",
    "    for subjectId, subject in idDict.items():\n",
    "        if hasArray(subject, 'locs'):\n",
    "            for event in subject['locs']:\n",
    "                try: \n",
    "                    timeplace = list(event)\n",
    "                    time = convertDatetime(timeplace[0])\n",
    "                    place = timeplace[1]\n",
    "                    events.extend([[subjectId, time, place]])\n",
    "                except:\n",
    "                    pass\n",
    "    print(\"%d total loc events\" % len(events))\n",
    "                \n",
    "    return events"
   ]
  },
  {
   "cell_type": "code",
   "execution_count": 11,
   "metadata": {
    "scrolled": false
   },
   "outputs": [
    {
     "name": "stdout",
     "output_type": "stream",
     "text": [
      "3087363 total loc events\n"
     ]
    }
   ],
   "source": [
    "loc_events = create_loc_Dataset(idDictionaries)"
   ]
  },
  {
   "cell_type": "code",
   "execution_count": 12,
   "metadata": {},
   "outputs": [],
   "source": [
    "le = np.array(loc_events)"
   ]
  },
  {
   "cell_type": "code",
   "execution_count": 13,
   "metadata": {},
   "outputs": [
    {
     "data": {
      "text/plain": [
       "3087363"
      ]
     },
     "execution_count": 13,
     "metadata": {},
     "output_type": "execute_result"
    }
   ],
   "source": [
    "len(le)"
   ]
  },
  {
   "cell_type": "code",
   "execution_count": 14,
   "metadata": {},
   "outputs": [
    {
     "name": "stdout",
     "output_type": "stream",
     "text": [
      "5269\n"
     ]
    }
   ],
   "source": [
    "smse = np.array(SMSevents)\n",
    "print(len(smse))"
   ]
  },
  {
   "cell_type": "code",
   "execution_count": 72,
   "metadata": {},
   "outputs": [
    {
     "data": {
      "text/plain": [
       "80910"
      ]
     },
     "execution_count": 72,
     "metadata": {},
     "output_type": "execute_result"
    }
   ],
   "source": [
    "user = 0\n",
    "len(le[np.where(le[:,0]==user)])"
   ]
  },
  {
   "cell_type": "code",
   "execution_count": 23,
   "metadata": {},
   "outputs": [
    {
     "name": "stdout",
     "output_type": "stream",
     "text": [
      "89 users\n",
      "5260 texts\n"
     ]
    }
   ],
   "source": [
    "SMSregressiondict = {}\n",
    "usercount = 0\n",
    "textcount = 0\n",
    "\n",
    "for user in range(0,89):\n",
    "    usercount += 1\n",
    "    user_loc_events = le[np.where(le[:,0]==user)]\n",
    "    user_SMSevents = smse[np.where(smse[:,0]==user)]\n",
    "\n",
    "    start_loc_ind = 0\n",
    "    end_loc_ind = len(user_loc_events)\n",
    "\n",
    "    for text in range(0, len(user_SMSevents)):\n",
    "        textcount += 1\n",
    "        hour = le[text][1].hour\n",
    "        \n",
    "        for loc in range(start_loc_ind, end_loc_ind-1):\n",
    "            if user_loc_events[loc][1] <= user_SMSevents[text][1] and user_loc_events[loc+1][1] > user_SMSevents[text][1]:\n",
    "                place = int(user_loc_events[loc][2])\n",
    "                \n",
    "                try:\n",
    "                    SMSregressiondict[(place, hour)] += 1\n",
    "                except:\n",
    "                    SMSregressiondict[(place, hour)] = 1\n",
    "                    \n",
    "                start_loc_ind = loc-1\n",
    "                break\n",
    "        if end_loc_ind == 0: break\n",
    "        if user_SMSevents[text][1] > user_loc_events[end_loc_ind-1][1]:\n",
    "            place = int(user_loc_events[end_loc_ind-1][2])\n",
    "            try:\n",
    "                SMSregressiondict[(place, hour)] += 1\n",
    "            except:\n",
    "                SMSregressiondict[(place, hour)] = 1\n",
    "                \n",
    "print(usercount, \"users\")\n",
    "print(textcount, \"texts\")"
   ]
  },
  {
   "cell_type": "code",
   "execution_count": 23,
   "metadata": {},
   "outputs": [
    {
     "name": "stdout",
     "output_type": "stream",
     "text": [
      "89 users\n",
      "5260 texts\n"
     ]
    }
   ],
   "source": [
    "dictbycell = {}\n",
    "usercount = 0\n",
    "textcount = 0\n",
    "\n",
    "for user in range(0,89):\n",
    "    usercount += 1\n",
    "    user_loc_events = le[np.where(le[:,0]==user)]\n",
    "    user_SMSevents = smse[np.where(smse[:,0]==user)]\n",
    "\n",
    "    start_loc_ind = 0\n",
    "    end_loc_ind = len(user_loc_events)\n",
    "\n",
    "    for text in range(0, len(user_SMSevents)):\n",
    "        textcount += 1\n",
    "        hour = le[text][1].hour\n",
    "        \n",
    "        for loc in range(start_loc_ind, end_loc_ind-1):\n",
    "            if user_loc_events[loc][1] <= user_SMSevents[text][1] and user_loc_events[loc+1][1] > user_SMSevents[text][1]:\n",
    "                place = user_loc_events[loc][2]\n",
    "                \n",
    "                try:\n",
    "                    dictbycell[(place, hour)] += 1\n",
    "                except:\n",
    "                    dictbycell[(place, hour)] = 1\n",
    "                    \n",
    "                start_loc_ind = loc-1\n",
    "                break\n",
    "        if end_loc_ind == 0: break\n",
    "        if user_SMSevents[text][1] > user_loc_events[end_loc_ind-1][1]:\n",
    "            place = user_loc_events[end_loc_ind-1][2]\n",
    "            try:\n",
    "                dictbycell[(place, hour)] += 1\n",
    "            except:\n",
    "                dictbycell[(place, hour)] = 1\n",
    "                \n",
    "print(usercount, \"users\")\n",
    "print(textcount, \"texts\")"
   ]
  },
  {
   "cell_type": "code",
   "execution_count": 16,
   "metadata": {},
   "outputs": [
    {
     "data": {
      "text/plain": [
       "{(5123, 15): 12,\n",
       " (0, 15): 23,\n",
       " (5123, 16): 70,\n",
       " (5119, 16): 431,\n",
       " (5123, 17): 27,\n",
       " (7804, 17): 1,\n",
       " (29702, 17): 3,\n",
       " (39402, 17): 1,\n",
       " (0, 17): 25,\n",
       " (5119, 17): 129,\n",
       " (5123, 18): 31,\n",
       " (5119, 18): 112,\n",
       " (5123, 21): 3,\n",
       " (5119, 3): 23,\n",
       " (5123, 3): 5,\n",
       " (5123, 4): 73,\n",
       " (5119, 4): 204,\n",
       " (5119, 5): 72,\n",
       " (5123, 5): 13,\n",
       " (5123, 6): 21,\n",
       " (5119, 6): 86,\n",
       " (0, 6): 10,\n",
       " (17, 6): 1,\n",
       " (5123, 7): 8,\n",
       " (5119, 7): 44,\n",
       " (5123, 8): 7,\n",
       " (5119, 8): 69,\n",
       " (5188, 8): 122,\n",
       " (5188, 9): 24,\n",
       " (31901, 9): 1,\n",
       " (5188, 10): 108,\n",
       " (20185, 10): 1,\n",
       " (10107, 10): 1,\n",
       " (25701, 10): 7,\n",
       " (25701, 11): 6,\n",
       " (360, 11): 1,\n",
       " (0, 11): 4,\n",
       " (0, 12): 2,\n",
       " (7803, 12): 1,\n",
       " (5188, 12): 22,\n",
       " (5188, 13): 6,\n",
       " (5188, 14): 23,\n",
       " (5188, 18): 63,\n",
       " (5188, 19): 5,\n",
       " (5188, 5): 66,\n",
       " (1200, 15): 3,\n",
       " (1300, 15): 1,\n",
       " (1000, 16): 1,\n",
       " (1200, 16): 4,\n",
       " (43801, 16): 1,\n",
       " (5113, 16): 27,\n",
       " (27407, 16): 5,\n",
       " (5113, 17): 14,\n",
       " (0, 18): 29,\n",
       " (5113, 18): 32,\n",
       " (1200, 18): 2,\n",
       " (104, 18): 1,\n",
       " (260, 18): 3,\n",
       " (0, 21): 2,\n",
       " (275, 21): 1,\n",
       " (5188, 3): 7,\n",
       " (5119, 15): 90,\n",
       " (32102, 16): 14,\n",
       " (32106, 16): 3,\n",
       " (32144, 16): 6,\n",
       " (0, 16): 41,\n",
       " (32104, 16): 10,\n",
       " (32104, 17): 5,\n",
       " (32106, 17): 6,\n",
       " (5113, 21): 2,\n",
       " (5113, 3): 3,\n",
       " (5113, 4): 23,\n",
       " (7804, 4): 2,\n",
       " (7838, 4): 1,\n",
       " (7801, 4): 4,\n",
       " (0, 4): 13,\n",
       " (5113, 5): 12,\n",
       " (5113, 6): 22,\n",
       " (31801, 6): 1,\n",
       " (34631, 6): 1,\n",
       " (46155, 6): 2,\n",
       " (5113, 7): 4,\n",
       " (48051, 7): 2,\n",
       " (36169, 8): 4,\n",
       " (5113, 8): 10,\n",
       " (5187, 8): 4,\n",
       " (0, 8): 3,\n",
       " (5187, 9): 6,\n",
       " (5187, 10): 10,\n",
       " (32109, 10): 4,\n",
       " (32102, 10): 2,\n",
       " (21400, 10): 17,\n",
       " (21400, 11): 7,\n",
       " (4300, 11): 1,\n",
       " (9160, 11): 3,\n",
       " (9160, 12): 7,\n",
       " (9160, 13): 2,\n",
       " (9160, 14): 2,\n",
       " (9160, 18): 4,\n",
       " (9160, 19): 2,\n",
       " (9160, 5): 14,\n",
       " (4500, 5): 4,\n",
       " (10134, 15): 2,\n",
       " (235, 16): 1,\n",
       " (5188, 16): 103,\n",
       " (5113, 15): 10,\n",
       " (5187, 15): 9,\n",
       " (5188, 15): 39,\n",
       " (5187, 16): 10,\n",
       " (30000, 15): 1,\n",
       " (325, 16): 1,\n",
       " (250, 16): 13,\n",
       " (230, 16): 1,\n",
       " (365, 16): 2,\n",
       " (2452, 16): 2,\n",
       " (275, 16): 1,\n",
       " (367, 16): 1,\n",
       " (14, 16): 1,\n",
       " (32136, 17): 1,\n",
       " (5188, 17): 37,\n",
       " (5187, 17): 4,\n",
       " (308, 16): 4,\n",
       " (301, 16): 4,\n",
       " (207, 16): 3,\n",
       " (245, 16): 1,\n",
       " (32161, 17): 8,\n",
       " (24123, 15): 1,\n",
       " (24127, 15): 50,\n",
       " (52187, 16): 1,\n",
       " (32138, 17): 1,\n",
       " (32113, 17): 1,\n",
       " (52206, 17): 1,\n",
       " (32104, 18): 8,\n",
       " (32123, 18): 1,\n",
       " (5133, 15): 1,\n",
       " (5131, 15): 5,\n",
       " (98, 15): 1,\n",
       " (97, 16): 1,\n",
       " (5131, 16): 12,\n",
       " (46155, 16): 2,\n",
       " (5192, 16): 2,\n",
       " (32167, 17): 4,\n",
       " (32102, 17): 1,\n",
       " (32146, 17): 2,\n",
       " (52240, 18): 3,\n",
       " (5190, 16): 1,\n",
       " (5188, 21): 4,\n",
       " (5188, 4): 80,\n",
       " (35783, 4): 2,\n",
       " (5187, 4): 30,\n",
       " (106, 4): 19,\n",
       " (5182, 16): 1,\n",
       " (4151, 16): 2,\n",
       " (10001, 15): 4,\n",
       " (10001, 16): 21,\n",
       " (10061, 16): 10,\n",
       " (10061, 17): 15,\n",
       " (10061, 18): 4,\n",
       " (5187, 18): 6,\n",
       " (32108, 16): 17,\n",
       " (24122, 15): 1,\n",
       " (24127, 16): 137,\n",
       " (5119, 21): 14,\n",
       " (5125, 6): 4,\n",
       " (27407, 6): 2,\n",
       " (0, 7): 7,\n",
       " (4, 7): 9,\n",
       " (18401, 8): 1,\n",
       " (18401, 9): 1,\n",
       " (52238, 9): 7,\n",
       " (32136, 9): 1,\n",
       " (0, 9): 7,\n",
       " (0, 10): 3,\n",
       " (5187, 11): 2,\n",
       " (5188, 11): 30,\n",
       " (5188, 6): 83,\n",
       " (225, 18): 3,\n",
       " (0, 3): 1,\n",
       " (32146, 5): 2,\n",
       " (32169, 5): 1,\n",
       " (34650, 5): 2,\n",
       " (34622, 5): 3,\n",
       " (34650, 6): 4,\n",
       " (34608, 6): 3,\n",
       " (32173, 6): 1,\n",
       " (32104, 6): 3,\n",
       " (18401, 6): 1,\n",
       " (5188, 7): 60,\n",
       " (5187, 7): 1,\n",
       " (35034, 16): 1,\n",
       " (35033, 16): 1,\n",
       " (8028, 16): 2,\n",
       " (8023, 16): 1,\n",
       " (24127, 17): 51,\n",
       " (24121, 17): 1,\n",
       " (24127, 18): 74,\n",
       " (24127, 21): 7,\n",
       " (24127, 3): 12,\n",
       " (24127, 4): 96,\n",
       " (24124, 4): 9,\n",
       " (35535, 4): 4,\n",
       " (35030, 4): 1,\n",
       " (8026, 4): 1,\n",
       " (24127, 5): 62,\n",
       " (24127, 6): 102,\n",
       " (24127, 7): 54,\n",
       " (8028, 7): 7,\n",
       " (8027, 7): 1,\n",
       " (8023, 7): 1,\n",
       " (24127, 8): 127,\n",
       " (29701, 18): 2,\n",
       " (11001, 8): 4,\n",
       " (11003, 8): 2,\n",
       " (11003, 9): 14,\n",
       " (11003, 10): 11,\n",
       " (5182, 10): 1,\n",
       " (5182, 11): 1,\n",
       " (0, 19): 10,\n",
       " (0, 5): 17,\n",
       " (24124, 16): 2,\n",
       " (24123, 21): 1,\n",
       " (11221, 4): 2,\n",
       " (11223, 4): 3,\n",
       " (32146, 15): 3,\n",
       " (48017, 16): 2,\n",
       " (7810, 17): 1,\n",
       " (7825, 17): 1,\n",
       " (7825, 18): 1,\n",
       " (32169, 18): 1,\n",
       " (32161, 18): 2,\n",
       " (32150, 18): 2,\n",
       " (32109, 18): 2,\n",
       " (32104, 21): 1,\n",
       " (32138, 21): 1,\n",
       " (36437, 4): 1,\n",
       " (5131, 4): 2,\n",
       " (32166, 4): 2,\n",
       " (34620, 4): 4,\n",
       " (34622, 4): 2,\n",
       " (34620, 5): 4,\n",
       " (34620, 6): 13,\n",
       " (32103, 6): 2,\n",
       " (34622, 6): 7,\n",
       " (29301, 6): 6,\n",
       " (32153, 6): 1,\n",
       " (32109, 6): 2,\n",
       " (32109, 7): 5,\n",
       " (34620, 7): 4,\n",
       " (27609, 15): 1,\n",
       " (24123, 18): 1,\n",
       " (24124, 7): 1,\n",
       " (24127, 9): 103,\n",
       " (24127, 10): 62,\n",
       " (11322, 10): 10,\n",
       " (11322, 11): 10,\n",
       " (11323, 11): 1,\n",
       " (11322, 12): 1,\n",
       " (24127, 12): 26,\n",
       " (24127, 13): 20,\n",
       " (24127, 14): 22,\n",
       " (24127, 19): 2,\n",
       " (24125, 8): 3,\n",
       " (24123, 8): 1,\n",
       " (24127, 11): 24,\n",
       " (11322, 15): 17,\n",
       " (11322, 16): 10,\n",
       " (11322, 17): 2,\n",
       " (11027, 17): 14,\n",
       " (11027, 19): 3,\n",
       " (0, 20): 4,\n",
       " (11022, 20): 3,\n",
       " (11322, 20): 22,\n",
       " (11322, 2): 3,\n",
       " (11322, 5): 18,\n",
       " (35036, 7): 7,\n",
       " (35036, 8): 5,\n",
       " (24124, 9): 1,\n",
       " (205, 15): 1,\n",
       " (54505, 16): 1,\n",
       " (32136, 15): 1,\n",
       " (52243, 16): 3,\n",
       " (32137, 16): 1,\n",
       " (32138, 15): 1,\n",
       " (32103, 15): 1,\n",
       " (32108, 15): 6,\n",
       " (307, 16): 3,\n",
       " (34608, 16): 1,\n",
       " (32173, 16): 1,\n",
       " (32173, 17): 1,\n",
       " (32146, 16): 11,\n",
       " (36491, 16): 1,\n",
       " (42242, 15): 3,\n",
       " (42242, 16): 2,\n",
       " (7803, 15): 1,\n",
       " (7806, 16): 2,\n",
       " (270, 16): 1,\n",
       " (5149, 16): 1,\n",
       " (5131, 17): 4,\n",
       " (5131, 18): 2,\n",
       " (11212, 4): 11,\n",
       " (5105, 4): 1,\n",
       " (5192, 6): 1,\n",
       " (5189, 6): 2,\n",
       " (5190, 8): 7,\n",
       " (27486, 8): 3,\n",
       " (7827, 9): 2,\n",
       " (39405, 9): 2,\n",
       " (39403, 9): 2,\n",
       " (7802, 9): 3,\n",
       " (7818, 9): 1,\n",
       " (11001, 4): 12,\n",
       " (11004, 4): 1,\n",
       " (46156, 4): 3,\n",
       " (24125, 16): 1,\n",
       " (24123, 17): 1,\n",
       " (35529, 17): 2,\n",
       " (35534, 17): 4,\n",
       " (24124, 18): 1,\n",
       " (24124, 15): 2,\n",
       " (35526, 16): 1,\n",
       " (35535, 16): 1,\n",
       " (35029, 16): 3,\n",
       " (24123, 16): 1,\n",
       " (5187, 3): 1,\n",
       " (27486, 4): 1,\n",
       " (205, 4): 8,\n",
       " (32104, 4): 7,\n",
       " (32104, 5): 4,\n",
       " (5119, 11): 29,\n",
       " (5119, 12): 27,\n",
       " (5119, 13): 16,\n",
       " (5119, 14): 5,\n",
       " (5119, 19): 2,\n",
       " (5119, 9): 34,\n",
       " (5113, 9): 1,\n",
       " (5119, 10): 39,\n",
       " (5123, 11): 6,\n",
       " (5123, 13): 3,\n",
       " (5187, 13): 1,\n",
       " (32102, 15): 1,\n",
       " (5187, 5): 6,\n",
       " (5187, 6): 1}"
      ]
     },
     "execution_count": 16,
     "metadata": {},
     "output_type": "execute_result"
    }
   ],
   "source": [
    "SMSregressiondict"
   ]
  },
  {
   "cell_type": "code",
   "execution_count": 27,
   "metadata": {
    "scrolled": true
   },
   "outputs": [
    {
     "name": "stdout",
     "output_type": "stream",
     "text": [
      "4903\n"
     ]
    }
   ],
   "source": [
    "len(dictbycell)\n",
    "print(sum(dictbycell.values()))"
   ]
  },
  {
   "cell_type": "code",
   "execution_count": 26,
   "metadata": {},
   "outputs": [
    {
     "ename": "NameError",
     "evalue": "name 'SMSregressiondict' is not defined",
     "output_type": "error",
     "traceback": [
      "\u001b[0;31m---------------------------------------------------------------------------\u001b[0m",
      "\u001b[0;31mNameError\u001b[0m                                 Traceback (most recent call last)",
      "\u001b[0;32m<ipython-input-26-66f86ad85964>\u001b[0m in \u001b[0;36m<module>\u001b[0;34m\u001b[0m\n\u001b[0;32m----> 1\u001b[0;31m \u001b[0mlen\u001b[0m\u001b[0;34m(\u001b[0m\u001b[0mSMSregressiondict\u001b[0m\u001b[0;34m)\u001b[0m\u001b[0;34m\u001b[0m\u001b[0m\n\u001b[0m\u001b[1;32m      2\u001b[0m \u001b[0;31m# print(sum(SMSregressiondict.values()))\u001b[0m\u001b[0;34m\u001b[0m\u001b[0;34m\u001b[0m\u001b[0m\n",
      "\u001b[0;31mNameError\u001b[0m: name 'SMSregressiondict' is not defined"
     ]
    }
   ],
   "source": [
    "len(SMSregressiondict)\n",
    "# print(sum(SMSregressiondict.values()))"
   ]
  },
  {
   "cell_type": "code",
   "execution_count": 28,
   "metadata": {},
   "outputs": [
    {
     "data": {
      "text/plain": [
       "117"
      ]
     },
     "execution_count": 28,
     "metadata": {},
     "output_type": "execute_result"
    }
   ],
   "source": [
    "max(dictbycell.values())"
   ]
  },
  {
   "cell_type": "code",
   "execution_count": 17,
   "metadata": {},
   "outputs": [],
   "source": [
    "import matplotlib.pyplot as plt"
   ]
  },
  {
   "cell_type": "code",
   "execution_count": 20,
   "metadata": {
    "scrolled": false
   },
   "outputs": [
    {
     "data": {
      "text/plain": [
       "(array([312.,  17.,  10.,   1.,   1.,   0.,   0.,   0.,   0.,   1.]),\n",
       " array([  1.,  44.,  87., 130., 173., 216., 259., 302., 345., 388., 431.]),\n",
       " <a list of 10 Patch objects>)"
      ]
     },
     "execution_count": 20,
     "metadata": {},
     "output_type": "execute_result"
    },
    {
     "data": {
      "image/png": "[encoded data removed]",
      "text/plain": [
       "<Figure size 432x288 with 1 Axes>"
      ]
     },
     "metadata": {
      "needs_background": "light"
     },
     "output_type": "display_data"
    }
   ],
   "source": [
    "plt.hist(list(SMSregressiondict.values()))"
   ]
  },
  {
   "cell_type": "code",
   "execution_count": 29,
   "metadata": {
    "scrolled": false
   },
   "outputs": [
    {
     "data": {
      "text/plain": [
       "(array([991.,  60.,  14.,   8.,   4.,   2.,   0.,   1.,   0.,   1.]),\n",
       " array([  1. ,  12.6,  24.2,  35.8,  47.4,  59. ,  70.6,  82.2,  93.8,\n",
       "        105.4, 117. ]),\n",
       " <a list of 10 Patch objects>)"
      ]
     },
     "execution_count": 29,
     "metadata": {},
     "output_type": "execute_result"
    },
    {
     "data": {
      "image/png": "[encoded data removed]",
      "text/plain": [
       "<Figure size 432x288 with 1 Axes>"
      ]
     },
     "metadata": {
      "needs_background": "light"
     },
     "output_type": "display_data"
    }
   ],
   "source": [
    "plt.hist(list(dictbycell.values()))"
   ]
  },
  {
   "cell_type": "code",
   "execution_count": 21,
   "metadata": {},
   "outputs": [],
   "source": [
    "SMSclassificationdict = {}\n",
    "\n",
    "for (place, time) in SMSregressiondict.keys():\n",
    "    if SMSregressiondict[(place, time)] < 2:\n",
    "        SMSclassificationdict[(place, time)] = 0\n",
    "    elif SMSregressiondict[(place, time)] < 5:\n",
    "        SMSclassificationdict[(place, time)] = 1\n",
    "    elif SMSregressiondict[(place, time)] < 20:\n",
    "        SMSclassificationdict[(place, time)] = 2\n",
    "    else:\n",
    "        SMSclassificationdict[(place, time)] = 3"
   ]
  },
  {
   "cell_type": "code",
   "execution_count": 22,
   "metadata": {
    "scrolled": true
   },
   "outputs": [
    {
     "data": {
      "text/plain": [
       "(array([102.,   0.,   0., 105.,   0.,   0.,  76.,   0.,   0.,  59.]),\n",
       " array([0. , 0.3, 0.6, 0.9, 1.2, 1.5, 1.8, 2.1, 2.4, 2.7, 3. ]),\n",
       " <a list of 10 Patch objects>)"
      ]
     },
     "execution_count": 22,
     "metadata": {},
     "output_type": "execute_result"
    },
    {
     "data": {
      "image/png": "[encoded data removed]",
      "text/plain": [
       "<Figure size 432x288 with 1 Axes>"
      ]
     },
     "metadata": {
      "needs_background": "light"
     },
     "output_type": "display_data"
    }
   ],
   "source": [
    "plt.hist(list(SMSclassificationdict.values()))"
   ]
  },
  {
   "cell_type": "code",
   "execution_count": 54,
   "metadata": {},
   "outputs": [],
   "source": [
    "SMSclassificationdictbycell = {}\n",
    "\n",
    "for (place, time) in dictbycell.keys():\n",
    "    if dictbycell[(place, time)] < 2:\n",
    "        SMSclassificationdictbycell[(place, time)] = 0\n",
    "    elif dictbycell[(place, time)] < 3:\n",
    "        SMSclassificationdictbycell[(place, time)] = 1\n",
    "    elif dictbycell[(place, time)] < 6:\n",
    "        SMSclassificationdictbycell[(place, time)] = 2\n",
    "    else:\n",
    "        SMSclassificationdictbycell[(place, time)] = 3"
   ]
  },
  {
   "cell_type": "code",
   "execution_count": 55,
   "metadata": {
    "scrolled": true
   },
   "outputs": [
    {
     "data": {
      "text/plain": [
       "(array([501.,   0.,   0., 171.,   0.,   0., 187.,   0.,   0., 222.]),\n",
       " array([0. , 0.3, 0.6, 0.9, 1.2, 1.5, 1.8, 2.1, 2.4, 2.7, 3. ]),\n",
       " <a list of 10 Patch objects>)"
      ]
     },
     "execution_count": 55,
     "metadata": {},
     "output_type": "execute_result"
    },
    {
     "data": {
      "image/png": "[encoded data removed]",
      "text/plain": [
       "<Figure size 432x288 with 1 Axes>"
      ]
     },
     "metadata": {
      "needs_background": "light"
     },
     "output_type": "display_data"
    }
   ],
   "source": [
    "plt.hist(list(SMSclassificationdictbycell.values()))"
   ]
  },
  {
   "cell_type": "code",
   "execution_count": 56,
   "metadata": {},
   "outputs": [],
   "source": [
    "data = np.array(list(SMSclassificationdictbycell.keys()))\n",
    "labels = np.array(list(SMSclassificationdictbycell.values()))"
   ]
  },
  {
   "cell_type": "code",
   "execution_count": 57,
   "metadata": {},
   "outputs": [],
   "source": [
    "N = len(SMSclassificationdictbycell)"
   ]
  },
  {
   "cell_type": "code",
   "execution_count": 64,
   "metadata": {},
   "outputs": [
    {
     "name": "stdout",
     "output_type": "stream",
     "text": [
      "Training set: (900, 2)\n",
      "Testing set:  (181, 2)\n"
     ]
    }
   ],
   "source": [
    "order = np.argsort(np.random.random(labels.shape))\n",
    "n = 900\n",
    "train_data = data[order][0:n]\n",
    "train_labels = labels[order][0:n]\n",
    "test_data = data[order][n:N]\n",
    "test_labels = labels[order][n:N]\n",
    "print(\"Training set: {}\".format(train_data.shape))\n",
    "print(\"Testing set:  {}\".format(test_data.shape))"
   ]
  },
  {
   "cell_type": "code",
   "execution_count": 65,
   "metadata": {},
   "outputs": [
    {
     "name": "stdout",
     "output_type": "stream",
     "text": [
      "Hidden Units: 2 Epochs: 100 Hidden Layers: 1\n",
      "181/181 [==============================] - 6s 33ms/step\n",
      "Test accuracy: 0.4309392273426056\n",
      "BEST\n",
      "\n"
     ]
    }
   ],
   "source": [
    "best_accuracy = 0\n",
    "for numunits in [2]:\n",
    "# for numunits in [5]:\n",
    "    for epochs in [100]:\n",
    "#     for epochs in [100]:\n",
    "        for numlayers in [1]:\n",
    "#         for numlayers in [1]:\n",
    "            print(\"Hidden Units:\", numunits, \"Epochs:\", epochs, \"Hidden Layers:\", numlayers)\n",
    "            model = keras.Sequential()\n",
    "            for i in range(numlayers):\n",
    "                model.add(keras.layers.Dense(numunits, activation=tf.nn.relu))\n",
    "            model.add(keras.layers.Dense(10, activation=tf.nn.softmax))\n",
    "            \n",
    "            model.compile(optimizer=tf.train.AdamOptimizer(), \n",
    "                          loss='sparse_categorical_crossentropy',\n",
    "                          metrics=['accuracy'])\n",
    "            class PrintDot(keras.callbacks.Callback):\n",
    "                def on_epoch_end(self, epoch, logs):\n",
    "                    if epoch % 100 == 0: print('')\n",
    "                    print('.', end='')\n",
    "\n",
    "            model.fit(train_data, train_labels, epochs, verbose=0)\n",
    "\n",
    "            class PrintDot(keras.callbacks.Callback):\n",
    "                def on_epoch_end(self, epoch, logs):\n",
    "                    if epoch % 100 == 0: print('')\n",
    "                    print('.', end='')\n",
    "\n",
    "            model.fit(train_data, train_labels, epochs=500, verbose=0)\n",
    "\n",
    "            test_loss, test_acc = model.evaluate(test_data, test_labels)\n",
    "\n",
    "            print('Test accuracy:', test_acc)\n",
    "            if test_acc > best_accuracy:\n",
    "                best_accuracy = test_acc\n",
    "                print(\"BEST\")\n",
    "            print(\"\")"
   ]
  },
  {
   "cell_type": "markdown",
   "metadata": {},
   "source": [
    "For classifying by AREA: 1 hidden layer, 5 hidden units, and 100 epochs resulted in the best accuracy for 300 training points and 42 test points (accuracy of 39%)\n",
    "\n",
    "For classifying by AREA and CELL:"
   ]
  },
  {
   "cell_type": "code",
   "execution_count": 73,
   "metadata": {},
   "outputs": [
    {
     "data": {
      "text/plain": [
       "3"
      ]
     },
     "execution_count": 73,
     "metadata": {},
     "output_type": "execute_result"
    }
   ],
   "source": [
    "predictions = model.predict(data)\n",
    "# np.argmax(predictions[1])"
   ]
  },
  {
   "cell_type": "code",
   "execution_count": 76,
   "metadata": {},
   "outputs": [],
   "source": [
    "import random"
   ]
  },
  {
   "cell_type": "code",
   "execution_count": 80,
   "metadata": {},
   "outputs": [],
   "source": [
    "for i in range(1000):\n",
    "    newpoint = np.array([[random.random()*10000, random.random()*24]])\n",
    "    guess = np.argmax(model.predict(newpoint))\n",
    "    if guess != 0:\n",
    "        print(guess)"
   ]
  },
  {
   "cell_type": "code",
   "execution_count": null,
   "metadata": {},
   "outputs": [],
   "source": []
  }
 ],
 "metadata": {
  "kernelspec": {
   "display_name": "Python 3",
   "language": "python",
   "name": "python3"
  },
  "language_info": {
   "codemirror_mode": {
    "name": "ipython",
    "version": 3
   },
   "file_extension": ".py",
   "mimetype": "text/x-python",
   "name": "python",
   "nbconvert_exporter": "python",
   "pygments_lexer": "ipython3",
   "version": "3.6.6"
  }
 },
 "nbformat": 4,
 "nbformat_minor": 2
}

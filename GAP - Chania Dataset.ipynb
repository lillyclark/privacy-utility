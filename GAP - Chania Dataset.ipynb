{
 "cells": [
  {
   "cell_type": "code",
   "execution_count": 316,
   "metadata": {},
   "outputs": [],
   "source": [
    "import numpy as np\n",
    "import random"
   ]
  },
  {
   "cell_type": "code",
   "execution_count": 317,
   "metadata": {},
   "outputs": [],
   "source": [
    "import tensorflow as tf\n",
    "from tensorflow import keras\n",
    "import numpy as np\n",
    "import matplotlib.pyplot as plt"
   ]
  },
  {
   "cell_type": "code",
   "execution_count": 318,
   "metadata": {},
   "outputs": [],
   "source": [
    "def norm_x(x):\n",
    "    for col in range(x.shape[1]):\n",
    "        vals = x[:,col]\n",
    "        vals = (vals-np.mean(vals))/np.std(vals)\n",
    "        x[:,col] = vals\n",
    "    return x"
   ]
  },
  {
   "cell_type": "code",
   "execution_count": 319,
   "metadata": {},
   "outputs": [],
   "source": [
    "def sampleChania(Chania, n_points):\n",
    "    data = Chania[:,0:8]\n",
    "    order = np.argsort(np.random.random(data.shape[0]))\n",
    "    x = data[order][:n_points, 1:5]   \n",
    "    trueusers = data[order][:n_points,0]\n",
    "    n_clusters = 5\n",
    "    x = norm_x(x)\n",
    "    return tf.constant(x, dtype=tf.float32), tf.constant(trueusers, dtype=tf.float32)"
   ]
  },
  {
   "cell_type": "markdown",
   "metadata": {},
   "source": [
    "## Read dataset"
   ]
  },
  {
   "cell_type": "code",
   "execution_count": 320,
   "metadata": {},
   "outputs": [],
   "source": [
    "Chania = np.genfromtxt('processedChania.csv', delimiter=',')"
   ]
  },
  {
   "cell_type": "markdown",
   "metadata": {},
   "source": [
    "## Privitizer and Adversary"
   ]
  },
  {
   "cell_type": "code",
   "execution_count": 321,
   "metadata": {},
   "outputs": [],
   "source": [
    "def privatizer(x):\n",
    "    with tf.variable_scope(\"priv\", reuse=tf.AUTO_REUSE):\n",
    "        l1 = tf.layers.dense(x, 16, activation=tf.nn.relu)\n",
    "        l2 = tf.layers.dense(l1, x.shape[1].value)\n",
    "    return l2\n",
    "\n",
    "\n",
    "def adversary(y):\n",
    "    with tf.variable_scope(\"ad\", reuse=tf.AUTO_REUSE):\n",
    "        l1 = tf.layers.dense(y, 16, activation=tf.nn.relu)\n",
    "        # num users = 5\n",
    "        l2 = tf.layers.dense(l1, 5, activation=tf.nn.softmax)\n",
    "    return l2"
   ]
  },
  {
   "cell_type": "markdown",
   "metadata": {},
   "source": [
    "## Signal Map Error"
   ]
  },
  {
   "cell_type": "code",
   "execution_count": 346,
   "metadata": {},
   "outputs": [],
   "source": [
    "def signal_map_error(x, y):\n",
    "    with tf.variable_scope(\"priv\", reuse=tf.AUTO_REUSE):\n",
    "\n",
    "        # build model from input\n",
    "        inputmodel = keras.Sequential([\n",
    "            keras.layers.Dense(10, input_shape=(2, ), activation=tf.nn.relu),\n",
    "            keras.layers.Dense(10, activation=tf.nn.relu),\n",
    "            keras.layers.Dense(1)        \n",
    "        ])\n",
    "        optimizer = tf.train.FtrlOptimizer(0.001)\n",
    "        inputmodel.compile(loss='mse', optimizer=optimizer, metrics=['mae', 'mse'])\n",
    "        inputmodel.fit(x[:,2:], x[:,1], steps_per_epoch=1, epochs=100, verbose=0)   \n",
    "\n",
    "        # build model from output\n",
    "        outputmodel = keras.Sequential([\n",
    "            keras.layers.Dense(10, input_shape=(2, ), activation=tf.nn.relu),\n",
    "            keras.layers.Dense(10, activation=tf.nn.relu),\n",
    "            keras.layers.Dense(1)        \n",
    "        ])\n",
    "        outputmodel.compile(loss='mse', optimizer=optimizer, metrics=['mae', 'mse'])\n",
    "        outputmodel.fit(y[:,2:], y[:,1], steps_per_epoch=1, epochs=100, verbose=0)  \n",
    "        \n",
    "        # compare inputmodel(input) and outputmodel(input)\n",
    "        # map_error = tf.reduce_mean(tf.squared_difference(inputmodel(x[:,2:]), outputmodel(x[:,2:])))\n",
    "        \n",
    "        # compare inputmodel(testpoints) and outputmodel(testpoints)\n",
    "        testpoints = np.mgrid[-1:1:15j, -1:1:15j].reshape(2,-1).T\n",
    "        grid = tf.constant(testpoints, dtype=tf.float32)\n",
    "        map_error = tf.reduce_mean(tf.squared_difference(inputmodel(grid), outputmodel(grid)))\n",
    "\n",
    "    return map_error, inputmodel, outputmodel"
   ]
  },
  {
   "cell_type": "markdown",
   "metadata": {},
   "source": [
    "## Classification Error"
   ]
  },
  {
   "cell_type": "code",
   "execution_count": 323,
   "metadata": {},
   "outputs": [],
   "source": [
    "def classification_error(z, trueusers):\n",
    "    with tf.variable_scope(\"ad\", reuse=tf.AUTO_REUSE):\n",
    "        class_error = tf.reduce_mean(tf.keras.backend.sparse_categorical_crossentropy(trueusers, z))\n",
    "    return class_error"
   ]
  },
  {
   "cell_type": "markdown",
   "metadata": {},
   "source": [
    "## Privatizer Loss"
   ]
  },
  {
   "cell_type": "code",
   "execution_count": 324,
   "metadata": {},
   "outputs": [],
   "source": [
    "def privatizer_loss(x, y, trueusers, threshold):\n",
    "    with tf.variable_scope(\"priv\", reuse=tf.AUTO_REUSE):\n",
    "        penalty = 2\n",
    "        \n",
    "        c_e = classification_error(z, trueusers)\n",
    "        s_m_e, _, _ = signal_map_error(x, y)\n",
    "        \n",
    "        zero = tf.constant(0, dtype=tf.float32)\n",
    "        loss = -1*c_e + penalty*tf.math.maximum(zero, threshold-s_m_e)\n",
    "        \n",
    "    return loss        "
   ]
  },
  {
   "cell_type": "markdown",
   "metadata": {},
   "source": [
    "## GAP"
   ]
  },
  {
   "cell_type": "code",
   "execution_count": 325,
   "metadata": {},
   "outputs": [],
   "source": [
    "# initialize privatizer and adversary\n",
    "# for i in range(n):\n",
    "#     choose sample points\n",
    "#     y = privatizer(x)\n",
    "#     z = adversary(y)\n",
    "#     for k in range(100):\n",
    "#         train adversary\n",
    "#     train privatizer"
   ]
  },
  {
   "cell_type": "code",
   "execution_count": 326,
   "metadata": {
    "scrolled": true
   },
   "outputs": [
    {
     "name": "stdout",
     "output_type": "stream",
     "text": [
      "Iterations: 0\t Adversary loss: 1.7233\t Privatizer loss: -0.9997\n"
     ]
    }
   ],
   "source": [
    "# initialize \n",
    "threshold = tf.constant(0.5, dtype=tf.float32)\n",
    "x, trueusers = sampleChania(Chania, n_points=100)\n",
    "y = privatizer(x)\n",
    "z = adversary(y)\n",
    "n = 1\n",
    "\n",
    "# initialize loss variables\n",
    "class_error = classification_error(z, trueusers)\n",
    "priv_loss = privatizer_loss(x, y, trueusers, threshold)\n",
    "\n",
    "# initialize session\n",
    "sess = tf.Session()\n",
    "sess.run(tf.global_variables_initializer())\n",
    "\n",
    "for i in range(n):\n",
    "\n",
    "    # sample points\n",
    "    x, trueusers = sampleChania(Chania, n_points=100)\n",
    "    \n",
    "    # run data through privatizer\n",
    "    y = privatizer(x)\n",
    "    \n",
    "    # run data through adversary\n",
    "    z = adversary(y)\n",
    "\n",
    "    ad_vars = tf.get_collection(tf.GraphKeys.GLOBAL_VARIABLES, scope=\"ad\")\n",
    "    ad_train = tf.train.GradientDescentOptimizer(0.01).minimize(class_error, var_list = ad_vars)\n",
    "    \n",
    "    priv_vars = tf.get_collection(tf.GraphKeys.GLOBAL_VARIABLES, scope=\"priv\")\n",
    "    priv_train = tf.train.GradientDescentOptimizer(0.01).minimize(priv_loss, var_list = priv_vars)\n",
    "    \n",
    "    for k in range(1):\n",
    "        \n",
    "        # train adversary\n",
    "        _, a_loss = sess.run((ad_train, class_error))\n",
    "        \n",
    "    # train privatizer\n",
    "    _, p_loss = sess.run((priv_train, priv_loss))\n",
    "    \n",
    "    print(\"Iterations: %d\\t Adversary loss: %.4f\\t Privatizer loss: %.4f\"%(i, a_loss,p_loss))"
   ]
  },
  {
   "cell_type": "markdown",
   "metadata": {},
   "source": [
    "## Visualization"
   ]
  },
  {
   "cell_type": "code",
   "execution_count": 327,
   "metadata": {},
   "outputs": [],
   "source": [
    "def plot_rssi(x, y, sess):\n",
    "    xarray = x.eval(session=sess)\n",
    "    yarray = y.eval(session=sess)\n",
    "    fig, ax = plt.subplots(1, 2, figsize=(15,5))\n",
    "    \n",
    "    ax[0].scatter(xarray[:,3], xarray[:,2], c=xarray[:,1])\n",
    "    ax[0].set_title(\"True Received Signal Strengths\")\n",
    "    \n",
    "    ax[1].scatter(yarray[:,3], yarray[:,2], c=yarray[:,1])\n",
    "    ax[1].set_title(\"Obfuscated Received Signal Strengths\")"
   ]
  },
  {
   "cell_type": "code",
   "execution_count": 336,
   "metadata": {},
   "outputs": [],
   "source": [
    "def plot_users(x, y, z, trueusers, sess):\n",
    "    xarray = x.eval(session=sess)\n",
    "    yarray = y.eval(session=sess)\n",
    "    zarray = z.eval(session=sess)\n",
    "    u = trueusers.eval(session=sess)\n",
    "    \n",
    "    fig, ax1 = plt.subplots(1, 2, figsize=(15,5))\n",
    "    \n",
    "    ax1[0].scatter(xarray[:,3], xarray[:,2], c=u)\n",
    "    ax1[0].set_title(\"User Labels\")\n",
    "    \n",
    "    ax1[1].scatter(yarray[:,3], yarray[:,2], c=u)\n",
    "    ax1[1].set_title(\"Obfuscated data - User Labels\")\n",
    "    \n",
    "    fig, ax2 = plt.subplots(1, 2, figsize=(15,5))\n",
    "    \n",
    "    ax2[0].scatter(xarray[:,3], xarray[:,2], c=np.argmax(zarray, axis=1))\n",
    "    ax2[0].set_title(\"User Labels estimated by adversary\")\n",
    "    \n",
    "    ax2[1].scatter(yarray[:,3], yarray[:,2], c=np.argmax(zarray, axis=1))\n",
    "    ax2[1].set_title(\"Obfuscated data - User Labels estimated by adversary\")"
   ]
  },
  {
   "cell_type": "code",
   "execution_count": 349,
   "metadata": {},
   "outputs": [],
   "source": [
    "def plot_maps(inputmodel, outputmodel, sess):   \n",
    "    testpoints = np.mgrid[-1:1:15j, -1:1:15j].reshape(2,-1).T\n",
    "    grid = tf.constant(testpoints, dtype=tf.float32)\n",
    "\n",
    "    inputmap = inputmodel.predict_on_batch(grid.eval(session=sess))\n",
    "    outputmap = outputmodel.predict_on_batch(grid.eval(session=sess))\n",
    "\n",
    "    fig, ax = plt.subplots(1, 2, figsize=(15, 5))\n",
    "\n",
    "    ax[0].scatter(testpoints[:,1], testpoints[:,0], c=inputmap[:,0])\n",
    "    ax[0].set_title(\"Map created from True Data\")\n",
    "    ax[1].scatter(testpoints[:,1], testpoints[:,0], c=outputmap[:,0])\n",
    "    ax[1].set_title(\"Map created from Obfuscated Data\")"
   ]
  },
  {
   "cell_type": "code",
   "execution_count": 350,
   "metadata": {},
   "outputs": [
    {
     "data": {
      "image/png": "[encoded data removed]",
      "text/plain": [
       "<Figure size 1080x360 with 2 Axes>"
      ]
     },
     "metadata": {
      "needs_background": "light"
     },
     "output_type": "display_data"
    }
   ],
   "source": [
    "plot_rssi(x, y, sess)\n",
    "plot_users(x, y, z, trueusers, sess)\n",
    "_, inputmodel, outputmodel = signal_map_error(x, y)\n",
    "plot_maps(inputmodel, outputmodel, sess)"
   ]
  },
  {
   "cell_type": "markdown",
   "metadata": {},
   "source": [
    "## Notes\n",
    "\n",
    "#### Metaparameters to consider playing with:\n",
    "1. number of layers & units in privatizer and adversary\n",
    "2. number of layers and & units in signal map models\n",
    "3. penalty\n",
    "4. threshold\n",
    "5. number of points to train on each iteration\n",
    "6. ratio of adversary training steps to privatizer training steps\n",
    "\n",
    "#### Additional note:  \n",
    "I am calculating signal map error as the mean square error of the ouput of two models when they are both fed with the input x. Should I instead be feeding a uniform input of hypothetical points (like the visualization?)"
   ]
  },
  {
   "cell_type": "markdown",
   "metadata": {},
   "source": [
    "## Training hyperparameters"
   ]
  },
  {
   "cell_type": "code",
   "execution_count": 409,
   "metadata": {},
   "outputs": [],
   "source": [
    "def train_GAP(priv_nlayers, priv_nunits, ad_nlayers, ad_nunits, map_nlayers, map_nunits, map_epochs, penalty_value, threshold_value, samplesize, n_iterations):\n",
    "\n",
    "    f = open((\"train_GAP/\"+str((priv_nlayers, priv_nunits, ad_nlayers, ad_nunits, map_nlayers, map_nunits, map_epochs, penalty_value, threshold_value, samplesize, n_iterations))+\".txt\"), \"w\")\n",
    "    f.write(\"%d layers with %d units in the privatizer\\n\"%(priv_nlayers, priv_nunits))\n",
    "    f.write(\"%d layers with %d units in the adversary\\n\"%(ad_nlayers, ad_nunits))\n",
    "    f.write(\"%d layers with %d units in the map model, trained for %d epochs\\n\"%(map_nlayers, map_nunits, map_epochs))\n",
    "    f.write(\"utility distortion penalty of %d\\n\"%(penalty_value))\n",
    "    f.write(\"minimum acceptable distortion of %d\\n\"%(threshold_value))\n",
    "    f.write(\"train on %d samples\\n\"%(samplesize))\n",
    "    f.write(\"try %d iterations unless loss converges\\n\\n\"%(n_iterations))\n",
    "    \n",
    "    def privatizer(x):\n",
    "        with tf.variable_scope(\"priv\", reuse=tf.AUTO_REUSE):\n",
    "            l1 = tf.layers.dense(x, priv_nunits, activation=tf.nn.relu)\n",
    "            if priv_nlayers == 1:\n",
    "                l2 = tf.layers.dense(l1, x.shape[1].value)\n",
    "                return l2\n",
    "            if priv_nlayers == 2:\n",
    "                l2 = tf.layers.dense(l1, priv_nunits, activation=tf.nn.relu)\n",
    "                l3 = tf.layers.dense(l2, x.shape[1].value)\n",
    "                return l3\n",
    "            if priv_nlayers == 3:\n",
    "                l2 = tf.layers.dense(l1, priv_nunits, activation=tf.nn.relu)\n",
    "                l3 = tf.layers.dense(l2, priv_nunits, activation=tf.nn.relu)\n",
    "                l4 = tf.layers.dense(l3, x.shape[1].value)\n",
    "                return l4\n",
    "            if priv_nlayers == 4:\n",
    "                l2 = tf.layers.dense(l1, priv_nunits, activation=tf.nn.relu)\n",
    "                l3 = tf.layers.dense(l2, priv_nunits, activation=tf.nn.relu)\n",
    "                l4 = tf.layers.dense(l3, priv_nunits, activation=tf.nn.relu)\n",
    "                l5 = tf.layers.dense(l4, x.shape[1].value)\n",
    "                return l5\n",
    "            if priv_nlayers == 5:\n",
    "                l2 = tf.layers.dense(l1, priv_nunits, activation=tf.nn.relu)\n",
    "                l3 = tf.layers.dense(l2, priv_nunits, activation=tf.nn.relu)\n",
    "                l4 = tf.layers.dense(l3, priv_nunits, activation=tf.nn.relu)\n",
    "                l5 = tf.layers.dense(l4, priv_nunits, activation=tf.nn.relu)\n",
    "                l6 = tf.layers.dense(l5, x.shape[1].value)\n",
    "                return l6\n",
    "            else:\n",
    "                raise ValueError(\"Can't handle more than 5 hidden layers right now\")\n",
    "\n",
    "    def adversary(y):\n",
    "        with tf.variable_scope(\"ad\", reuse=tf.AUTO_REUSE):\n",
    "            l1 = tf.layers.dense(y, ad_nunits, activation=tf.nn.relu)\n",
    "            if ad_nlayers == 1:\n",
    "                l2 = tf.layers.dense(l1, 5, activation=tf.nn.softmax)\n",
    "                return l2\n",
    "            if ad_nlayers == 2:\n",
    "                l2 = tf.layers.dense(l1, ad_nunits, activation=tf.nn.relu)\n",
    "                l3 = tf.layers.dense(l2, 5, activation=tf.nn.softmax)\n",
    "                return l3\n",
    "            if ad_nlayers == 3:\n",
    "                l2 = tf.layers.dense(l1, ad_nunits, activation=tf.nn.relu)\n",
    "                l3 = tf.layers.dense(l2, ad_nunits, activation=tf.nn.relu)\n",
    "                l4 = tf.layers.dense(l3, 5, activation=tf.nn.softmax)\n",
    "                return l4\n",
    "            if ad_nlayers == 4:\n",
    "                l2 = tf.layers.dense(l1, ad_nunits, activation=tf.nn.relu)\n",
    "                l3 = tf.layers.dense(l2, ad_nunits, activation=tf.nn.relu)\n",
    "                l4 = tf.layers.dense(l3, ad_nunits, activation=tf.nn.relu)\n",
    "                l5 = tf.layers.dense(l4, 5, activation=tf.nn.softmax)\n",
    "                return l5\n",
    "            if ad_nlayers == 5:\n",
    "                l2 = tf.layers.dense(l1, ad_nunits, activation=tf.nn.relu)\n",
    "                l3 = tf.layers.dense(l2, ad_nunits, activation=tf.nn.relu)\n",
    "                l4 = tf.layers.dense(l3, ad_nunits, activation=tf.nn.relu)\n",
    "                l5 = tf.layers.dense(l4, ad_nunits, activation=tf.nn.relu)\n",
    "                l6 = tf.layers.dense(l5, 5, activation=tf.nn.softmax)\n",
    "                return l6\n",
    "            else:\n",
    "                raise ValueError(\"Can't handle more than 5 hidden layers right now\")\n",
    "    \n",
    "    def signal_map_error(x, y):\n",
    "        with tf.variable_scope(\"priv\", reuse=tf.AUTO_REUSE):\n",
    "\n",
    "            # build model from input\n",
    "            inputmodel = keras.Sequential()\n",
    "            inputmodel.add(keras.layers.Dense(map_nunits, input_shape=(2, ), activation=tf.nn.relu))\n",
    "            for l in range(map_nlayers-1):\n",
    "                inputmodel.add(keras.layers.Dense(map_nunits, activation=tf.nn.relu))\n",
    "            inputmodel.add(keras.layers.Dense(1))\n",
    "            optimizer = tf.train.FtrlOptimizer(0.001)\n",
    "            inputmodel.compile(loss='mse', optimizer=optimizer, metrics=['mae', 'mse'])\n",
    "            inputmodel.fit(x[:,2:], x[:,1], steps_per_epoch=1, epochs=map_epochs, verbose=0)   \n",
    "\n",
    "            # build model from output\n",
    "            outputmodel = keras.Sequential()\n",
    "            outputmodel.add(keras.layers.Dense(map_nunits, input_shape=(2, ), activation=tf.nn.relu))\n",
    "            for l in range(map_nlayers-1):\n",
    "                outputmodel.add(keras.layers.Dense(map_nunits, activation=tf.nn.relu))\n",
    "            outputmodel.add(keras.layers.Dense(1))  \n",
    "            outputmodel.compile(loss='mse', optimizer=optimizer, metrics=['mae', 'mse'])\n",
    "            outputmodel.fit(y[:,2:], y[:,1], steps_per_epoch=1, epochs=map_epochs, verbose=0)  \n",
    "\n",
    "            # compare inputmodel(input) and outputmodel(input)\n",
    "            # map_error = tf.reduce_mean(tf.squared_difference(inputmodel(x[:,2:]), outputmodel(x[:,2:])))\n",
    "\n",
    "            # compare inputmodel(testpoints) and outputmodel(testpoints)\n",
    "            testpoints = np.mgrid[-1:1:15j, -1:1:15j].reshape(2,-1).T\n",
    "            grid = tf.constant(testpoints, dtype=tf.float32)\n",
    "            map_error = tf.reduce_mean(tf.squared_difference(inputmodel(grid), outputmodel(grid)))\n",
    "\n",
    "        return map_error, inputmodel, outputmodel\n",
    "    \n",
    "    def classification_error(z, trueusers):\n",
    "        with tf.variable_scope(\"ad\", reuse=tf.AUTO_REUSE):\n",
    "            class_error = tf.reduce_mean(tf.keras.backend.sparse_categorical_crossentropy(trueusers, z))\n",
    "        return class_error\n",
    "    \n",
    "    def privatizer_loss(x, y, trueusers, threshold):\n",
    "        with tf.variable_scope(\"priv\", reuse=tf.AUTO_REUSE):\n",
    "            penalty = penalty_value\n",
    "\n",
    "            c_e = classification_error(z, trueusers)\n",
    "            s_m_e, _, _ = signal_map_error(x, y)\n",
    "\n",
    "            zero = tf.constant(0, dtype=tf.float32)\n",
    "            loss = -1*c_e + penalty*tf.math.maximum(zero, threshold-s_m_e)\n",
    "\n",
    "        return loss        \n",
    "    \n",
    "    # initialize \n",
    "    threshold = tf.constant(threshold_value, dtype=tf.float32)\n",
    "    x, trueusers = sampleChania(Chania, samplesize)\n",
    "    y = privatizer(x)\n",
    "    z = adversary(y)\n",
    "    n = n_iterations\n",
    "\n",
    "    # initialize loss variables\n",
    "    class_error = classification_error(z, trueusers)\n",
    "    priv_loss = privatizer_loss(x, y, trueusers, threshold)\n",
    "\n",
    "    # initialize session\n",
    "    sess = tf.Session()\n",
    "    sess.run(tf.global_variables_initializer())\n",
    "\n",
    "    epsilon1 = 0.0001\n",
    "    previous_loss1 = 0\n",
    "    for i in range(n):\n",
    "\n",
    "        # sample points\n",
    "        x, trueusers = sampleChania(Chania, n_points=100)\n",
    "\n",
    "        # run data through privatizer\n",
    "        y = privatizer(x)\n",
    "\n",
    "        # run data through adversary\n",
    "        z = adversary(y)\n",
    "\n",
    "        ad_vars = tf.get_collection(tf.GraphKeys.GLOBAL_VARIABLES, scope=\"ad\")\n",
    "        ad_train = tf.train.GradientDescentOptimizer(0.01).minimize(class_error, var_list = ad_vars)\n",
    "\n",
    "        priv_vars = tf.get_collection(tf.GraphKeys.GLOBAL_VARIABLES, scope=\"priv\")\n",
    "        priv_train = tf.train.GradientDescentOptimizer(0.01).minimize(priv_loss, var_list = priv_vars)\n",
    "\n",
    "        epsilon2 = 0.0001\n",
    "        previous_loss2 = 0\n",
    "        for k in range(n):\n",
    "\n",
    "            # train adversary\n",
    "            _, a_loss = sess.run((ad_train, class_error))\n",
    "            if abs(previous_loss2 - a_loss) <= epsilon2:\n",
    "                break\n",
    "            previous_loss2 = a_loss\n",
    "\n",
    "        # train privatizer\n",
    "        _, p_loss = sess.run((priv_train, priv_loss))\n",
    "        if abs(previous_loss1 - p_loss) <= epsilon1:\n",
    "            break\n",
    "        previous_loss1 = p_loss\n",
    "\n",
    "        f.write(\"Iterations: %d\\t Adversary loss: %.4f\\t Privatizer loss: %.4f\\n\"%(i, a_loss,p_loss))\n",
    "        \n",
    "    print(\"Done\")"
   ]
  },
  {
   "cell_type": "code",
   "execution_count": 410,
   "metadata": {
    "scrolled": true
   },
   "outputs": [
    {
     "name": "stdout",
     "output_type": "stream",
     "text": [
      "Done\n"
     ]
    }
   ],
   "source": [
    "priv_nlayers = 1\n",
    "priv_nunits = 16\n",
    "ad_nlayers = 1\n",
    "ad_nunits = 16\n",
    "map_nlayers = 1\n",
    "map_nunits = 16\n",
    "map_epochs = 10\n",
    "penalty_value = 2\n",
    "threshold_value = 0.5\n",
    "samplesize = 10\n",
    "n_iterations = 1\n",
    "\n",
    "train_GAP(priv_nlayers, priv_nunits, ad_nlayers, ad_nunits, map_nlayers, map_nunits, map_epochs, penalty_value, threshold_value, samplesize, n_iterations)"
   ]
  },
  {
   "cell_type": "code",
   "execution_count": null,
   "metadata": {},
   "outputs": [],
   "source": []
  }
 ],
 "metadata": {
  "kernelspec": {
   "display_name": "Python 3",
   "language": "python",
   "name": "python3"
  },
  "language_info": {
   "codemirror_mode": {
    "name": "ipython",
    "version": 3
   },
   "file_extension": ".py",
   "mimetype": "text/x-python",
   "name": "python",
   "nbconvert_exporter": "python",
   "pygments_lexer": "ipython3",
   "version": "3.6.6"
  }
 },
 "nbformat": 4,
 "nbformat_minor": 2
}

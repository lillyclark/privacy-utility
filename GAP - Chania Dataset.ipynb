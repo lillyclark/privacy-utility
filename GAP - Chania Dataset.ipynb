{
 "cells": [
  {
   "cell_type": "code",
   "execution_count": 119,
   "metadata": {},
   "outputs": [],
   "source": [
    "import numpy as np\n",
    "import random"
   ]
  },
  {
   "cell_type": "code",
   "execution_count": 120,
   "metadata": {},
   "outputs": [],
   "source": [
    "import tensorflow as tf\n",
    "from tensorflow import keras\n",
    "import numpy as np\n",
    "import matplotlib.pyplot as plt"
   ]
  },
  {
   "cell_type": "code",
   "execution_count": 121,
   "metadata": {},
   "outputs": [],
   "source": [
    "def norm_x(x):\n",
    "    for col in range(x.shape[1]):\n",
    "        vals = x[:,col]\n",
    "        vals = (vals-np.mean(vals))/np.std(vals)\n",
    "        x[:,col] = vals\n",
    "    return x"
   ]
  },
  {
   "cell_type": "code",
   "execution_count": 122,
   "metadata": {},
   "outputs": [],
   "source": [
    "def sampleChania(Chania, n_points):\n",
    "    data = Chania[:,0:8]\n",
    "    order = np.argsort(np.random.random(data.shape[0]))\n",
    "    x = data[order][:n_points, 1:5]   \n",
    "    trueusers = data[order][:n_points,0]\n",
    "    for u in range(len(trueusers)):\n",
    "        trueusers[u] = int(trueusers[u])\n",
    "    n_clusters = 5\n",
    "    x = norm_x(x)\n",
    "    return tf.constant(x, dtype=tf.float32), tf.constant(trueusers, dtype=tf.float32)"
   ]
  },
  {
   "cell_type": "markdown",
   "metadata": {},
   "source": [
    "### Read dataset"
   ]
  },
  {
   "cell_type": "code",
   "execution_count": 123,
   "metadata": {},
   "outputs": [],
   "source": [
    "Chania = np.genfromtxt('processedChania.csv', delimiter=',')"
   ]
  },
  {
   "cell_type": "markdown",
   "metadata": {},
   "source": [
    "### Privitizer and Adversary"
   ]
  },
  {
   "cell_type": "code",
   "execution_count": 246,
   "metadata": {},
   "outputs": [],
   "source": [
    "def privatizer(x):\n",
    "    with tf.variable_scope(\"priv\", reuse=tf.AUTO_REUSE):\n",
    "        l1 = tf.layers.dense(x, 16, activation=tf.nn.relu)\n",
    "        l2 = tf.layers.dense(l1, x.shape[1].value)\n",
    "    return l2\n",
    "\n",
    "\n",
    "def adversary(y):\n",
    "    with tf.variable_scope(\"ad\", reuse=tf.AUTO_REUSE):\n",
    "        l1 = tf.layers.dense(y, 16, activation=tf.nn.relu)\n",
    "        # num users = 5\n",
    "        l2 = tf.layers.dense(l1, 5, activation=tf.nn.softmax)\n",
    "    return l2"
   ]
  },
  {
   "cell_type": "markdown",
   "metadata": {},
   "source": [
    "### Signal Map Error"
   ]
  },
  {
   "cell_type": "code",
   "execution_count": 247,
   "metadata": {},
   "outputs": [],
   "source": [
    "def signal_map_error(x, y):\n",
    "    with tf.variable_scope(\"priv\", reuse=tf.AUTO_REUSE):\n",
    "\n",
    "        # build model from input\n",
    "        inputmodel = keras.Sequential([\n",
    "            keras.layers.Dense(10, input_shape=(2, ), activation=tf.nn.relu),\n",
    "            keras.layers.Dense(10, activation=tf.nn.relu),\n",
    "            keras.layers.Dense(1)        \n",
    "        ])\n",
    "        optimizer = tf.train.FtrlOptimizer(0.001)\n",
    "        inputmodel.compile(loss='mse', optimizer=optimizer, metrics=['mae', 'mse'])\n",
    "        inputmodel.fit(x[:,2:], x[:,1], steps_per_epoch=1, epochs=100, verbose=0)   \n",
    "\n",
    "        # build model from output\n",
    "        outputmodel = keras.Sequential([\n",
    "            keras.layers.Dense(10, input_shape=(2, ), activation=tf.nn.relu),\n",
    "            keras.layers.Dense(10, activation=tf.nn.relu),\n",
    "            keras.layers.Dense(1)        \n",
    "        ])\n",
    "        outputmodel.compile(loss='mse', optimizer=optimizer, metrics=['mae', 'mse'])\n",
    "        outputmodel.fit(y[:,2:], y[:,1], steps_per_epoch=1, epochs=100, verbose=0)  \n",
    "        \n",
    "        # compare inputmodel(input) and outputmodel(input)\n",
    "        map_error = tf.reduce_mean(tf.squared_difference(inputmodel(x[:,2:]), outputmodel(x[:,2:])))\n",
    "\n",
    "    return map_error, inputmodel, outputmodel"
   ]
  },
  {
   "cell_type": "markdown",
   "metadata": {},
   "source": [
    "### Classification Error"
   ]
  },
  {
   "cell_type": "code",
   "execution_count": 248,
   "metadata": {},
   "outputs": [],
   "source": [
    "def classification_error(z, trueusers):\n",
    "    with tf.variable_scope(\"ad\", reuse=tf.AUTO_REUSE):\n",
    "        class_error = tf.reduce_mean(tf.keras.backend.sparse_categorical_crossentropy(trueusers, z))\n",
    "    return class_error"
   ]
  },
  {
   "cell_type": "markdown",
   "metadata": {},
   "source": [
    "### Privatizer Loss"
   ]
  },
  {
   "cell_type": "code",
   "execution_count": 256,
   "metadata": {},
   "outputs": [],
   "source": [
    "def privatizer_loss(x, y, trueusers, threshold):\n",
    "    with tf.variable_scope(\"priv\", reuse=tf.AUTO_REUSE):\n",
    "        penalty = 2\n",
    "        \n",
    "        c_e = classification_error(z, trueusers)\n",
    "        s_m_e, _, _ = signal_map_error(x, y)\n",
    "        \n",
    "        zero = tf.constant(0, dtype=tf.float32)\n",
    "        loss = -1*c_e + penalty*tf.math.maximum(zero, threshold-s_m_e)\n",
    "        \n",
    "    return loss        "
   ]
  },
  {
   "cell_type": "markdown",
   "metadata": {},
   "source": [
    "### GAP"
   ]
  },
  {
   "cell_type": "code",
   "execution_count": 257,
   "metadata": {},
   "outputs": [],
   "source": [
    "# initialize privatizer and adversary\n",
    "# for i in range(n):\n",
    "#     choose sample points\n",
    "#     y = privatizer(x)\n",
    "#     z = adversary(y)\n",
    "#     for k in range(100):\n",
    "#         train adversary\n",
    "#     train privatizer"
   ]
  },
  {
   "cell_type": "code",
   "execution_count": 258,
   "metadata": {},
   "outputs": [
    {
     "name": "stdout",
     "output_type": "stream",
     "text": [
      "Iterations: 0\t Adversary loss: 1.6690\t Privatizer loss: -1.2291\n",
      "Iterations: 1\t Adversary loss: 1.6683\t Privatizer loss: -1.4957\n",
      "Iterations: 2\t Adversary loss: 1.6677\t Privatizer loss: -1.6617\n",
      "Iterations: 3\t Adversary loss: 1.6672\t Privatizer loss: -1.6612\n",
      "Iterations: 4\t Adversary loss: 1.6666\t Privatizer loss: -1.6607\n",
      "Iterations: 5\t Adversary loss: 1.6661\t Privatizer loss: -1.6602\n",
      "Iterations: 6\t Adversary loss: 1.6656\t Privatizer loss: -1.6597\n",
      "Iterations: 7\t Adversary loss: 1.6651\t Privatizer loss: -1.6592\n",
      "Iterations: 8\t Adversary loss: 1.6646\t Privatizer loss: -1.6587\n",
      "Iterations: 9\t Adversary loss: 1.6641\t Privatizer loss: -1.6582\n"
     ]
    }
   ],
   "source": [
    "# initialize \n",
    "threshold = tf.constant(0.5, dtype=tf.float32)\n",
    "x, trueusers = sampleChania(Chania, n_points=100)\n",
    "y = privatizer(x)\n",
    "z = adversary(y)\n",
    "n = 10\n",
    "\n",
    "# initialize loss variables\n",
    "class_error = classification_error(z, trueusers)\n",
    "priv_loss = privatizer_loss(x, y, trueusers, threshold)\n",
    "\n",
    "# initialize session\n",
    "sess = tf.Session()\n",
    "sess.run(tf.global_variables_initializer())\n",
    "\n",
    "for i in range(n):\n",
    "\n",
    "    # sample points\n",
    "    x, trueusers = sampleChania(Chania, n_points=100)\n",
    "    \n",
    "    # run data through privatizer\n",
    "    y = privatizer(x)\n",
    "    \n",
    "    # run data through adversary\n",
    "    z = adversary(y)\n",
    "\n",
    "    ad_vars = tf.get_collection(tf.GraphKeys.GLOBAL_VARIABLES, scope=\"ad\")\n",
    "    ad_train = tf.train.GradientDescentOptimizer(0.01).minimize(class_error, var_list = ad_vars)\n",
    "    \n",
    "    priv_vars = tf.get_collection(tf.GraphKeys.GLOBAL_VARIABLES, scope=\"priv\")\n",
    "    priv_train = tf.train.GradientDescentOptimizer(0.01).minimize(priv_loss, var_list = priv_vars)\n",
    "    \n",
    "    for k in range(1):\n",
    "        \n",
    "        # train adversary\n",
    "        _, a_loss = sess.run((ad_train, class_error))\n",
    "        \n",
    "    # train privatizer\n",
    "    _, p_loss = sess.run((priv_train, priv_loss))\n",
    "    \n",
    "    print(\"Iterations: %d\\t Adversary loss: %.4f\\t Privatizer loss: %.4f\"%(i, a_loss,p_loss))"
   ]
  },
  {
   "cell_type": "markdown",
   "metadata": {},
   "source": [
    "### Visualization"
   ]
  },
  {
   "cell_type": "code",
   "execution_count": 235,
   "metadata": {},
   "outputs": [],
   "source": [
    "def plot_rssi(x, y, sess):\n",
    "    xarray = x.eval(session=sess)\n",
    "    yarray = y.eval(session=sess)\n",
    "    fig, ax = plt.subplots(1, 2, figsize=(15,5))\n",
    "    \n",
    "    ax[0].scatter(xarray[:,3], xarray[:,2], c=xarray[:,1])\n",
    "    ax[0].set_title(\"True Received Signal Strengths\")\n",
    "    \n",
    "    ax[1].scatter(yarray[:,3], yarray[:,2], c=yarray[:,1])\n",
    "    ax[1].set_title(\"Obfuscated Received Signal Strengths\")"
   ]
  },
  {
   "cell_type": "code",
   "execution_count": 236,
   "metadata": {},
   "outputs": [],
   "source": [
    "def plot_users(x, y, z, trueusers, sess):\n",
    "    xarray = x.eval(session=sess)\n",
    "    yarray = y.eval(session=sess)\n",
    "    zarray = z.eval(session=sess)\n",
    "    u = trueusers.eval(session=sess)\n",
    "    \n",
    "    fig, ax = plt.subplots(1, 2, figsize=(15,5))\n",
    "    \n",
    "    ax[0].scatter(xarray[:,3], xarray[:,2], c=u)\n",
    "    ax[0].set_title(\"True Users\")\n",
    "    \n",
    "    ax[1].scatter(yarray[:,3], yarray[:,2], c=np.argmax(zarray, axis=1))\n",
    "    ax[1].set_title(\"Adversarial Classified Users\")"
   ]
  },
  {
   "cell_type": "code",
   "execution_count": 237,
   "metadata": {},
   "outputs": [],
   "source": [
    "def plot_maps(x, inputmodel, outputmodel, sess):\n",
    "    inputdata = x.eval(session=sess)\n",
    "    xmin, xmax = np.min(inputdata[:,2]), np.max(inputdata[:,2])\n",
    "    ymin, ymax = np.min(inputdata[:,3]), np.max(inputdata[:,3])\n",
    "    testpoints = np.mgrid[xmin:xmax:15j, ymin:ymax:15j].reshape(2,-1).T\n",
    "    \n",
    "    grid = tf.constant(testpoints, dtype=tf.float32)\n",
    "\n",
    "    inputmap = inputmodel.predict_on_batch(grid.eval(session=sess))\n",
    "    outputmap = outputmodel.predict_on_batch(grid.eval(session=sess))\n",
    "\n",
    "    fig, ax = plt.subplots(1, 2, figsize=(15, 5))\n",
    "\n",
    "    ax[0].scatter(testpoints[:,1], testpoints[:,0], c=inputmap[:,0])\n",
    "    ax[0].set_title(\"Map created from True Data\")\n",
    "    ax[1].scatter(testpoints[:,1], testpoints[:,0], c=outputmap[:,0])\n",
    "    ax[1].set_title(\"Map created from Obfuscated Data\")"
   ]
  },
  {
   "cell_type": "code",
   "execution_count": null,
   "metadata": {},
   "outputs": [],
   "source": [
    "plot_rssi(x, y, sess)\n",
    "plot_users(x, y, z, trueusers, sess)\n",
    "_, inputmodel, outputmodel = signal_map_error(x, y)\n",
    "plot_maps(x, inputmodel, outputmodel, sess)"
   ]
  },
  {
   "cell_type": "code",
   "execution_count": null,
   "metadata": {},
   "outputs": [],
   "source": []
  }
 ],
 "metadata": {
  "kernelspec": {
   "display_name": "Python 3",
   "language": "python",
   "name": "python3"
  },
  "language_info": {
   "codemirror_mode": {
    "name": "ipython",
    "version": 3
   },
   "file_extension": ".py",
   "mimetype": "text/x-python",
   "name": "python",
   "nbconvert_exporter": "python",
   "pygments_lexer": "ipython3",
   "version": "3.6.6"
  }
 },
 "nbformat": 4,
 "nbformat_minor": 2
}

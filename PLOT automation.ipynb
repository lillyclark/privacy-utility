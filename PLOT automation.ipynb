{
 "cells": [
  {
   "cell_type": "code",
   "execution_count": 1,
   "metadata": {},
   "outputs": [],
   "source": [
    "import numpy as np\n",
    "import random\n",
    "import os\n",
    "\n",
    "import tensorflow as tf\n",
    "from tensorflow import keras\n",
    "import numpy as np\n",
    "import matplotlib.pyplot as plt\n",
    "\n",
    "from mpl_toolkits.mplot3d import Axes3D\n",
    "\n",
    "def norm_x(x):\n",
    "    for col in range(x.shape[1]):\n",
    "        vals = x[:,col]\n",
    "        vals = (vals-np.mean(vals))/np.std(vals)\n",
    "        x[:,col] = vals\n",
    "    return x\n",
    "\n",
    "def sampleChania(Chania, n_points):\n",
    "    np.random.seed(4)\n",
    "    data = Chania[:,0:8]\n",
    "    order = np.argsort(np.random.random(data.shape[0]))\n",
    "    x = data[order][:n_points, 1:5]   \n",
    "    trueusers = data[order][:n_points,0]\n",
    "    n_clusters = 5\n",
    "    x = norm_x(x)\n",
    "    return tf.constant(x, dtype=tf.float32), tf.constant(trueusers, dtype=tf.float32)\n",
    "\n",
    "Chania = np.genfromtxt('processedChania.csv', delimiter=',')\n",
    "\n",
    "Chania = Chania[np.where(Chania[:,2]<99)]"
   ]
  },
  {
   "cell_type": "code",
   "execution_count": 64,
   "metadata": {},
   "outputs": [
    {
     "name": "stdout",
     "output_type": "stream",
     "text": [
      "4.359895 1.1295406\n",
      "6.1726255 1.1096244\n",
      "4.0146303 1.0113467\n"
     ]
    },
    {
     "ename": "KeyboardInterrupt",
     "evalue": "",
     "output_type": "error",
     "traceback": [
      "\u001b[0;31m---------------------------------------------------------------------------\u001b[0m",
      "\u001b[0;31mKeyboardInterrupt\u001b[0m                         Traceback (most recent call last)",
      "\u001b[0;32m<ipython-input-64-dbbec9872308>\u001b[0m in \u001b[0;36m<module>\u001b[0;34m\u001b[0m\n\u001b[1;32m     33\u001b[0m         \u001b[0mo4\u001b[0m \u001b[0;34m=\u001b[0m \u001b[0mkeras\u001b[0m\u001b[0;34m.\u001b[0m\u001b[0mlayers\u001b[0m\u001b[0;34m.\u001b[0m\u001b[0mDense\u001b[0m\u001b[0;34m(\u001b[0m\u001b[0;36m1\u001b[0m\u001b[0;34m)\u001b[0m\u001b[0;34m\u001b[0m\u001b[0m\n\u001b[1;32m     34\u001b[0m \u001b[0;34m\u001b[0m\u001b[0m\n\u001b[0;32m---> 35\u001b[0;31m         \u001b[0mm2\u001b[0m \u001b[0;34m=\u001b[0m \u001b[0mo4\u001b[0m\u001b[0;34m(\u001b[0m\u001b[0mo3\u001b[0m\u001b[0;34m(\u001b[0m\u001b[0mo2\u001b[0m\u001b[0;34m(\u001b[0m\u001b[0mo1\u001b[0m\u001b[0;34m(\u001b[0m\u001b[0my\u001b[0m\u001b[0;34m[\u001b[0m\u001b[0;34m:\u001b[0m\u001b[0;34m,\u001b[0m\u001b[0;36m2\u001b[0m\u001b[0;34m:\u001b[0m\u001b[0;34m]\u001b[0m\u001b[0;34m)\u001b[0m\u001b[0;34m)\u001b[0m\u001b[0;34m)\u001b[0m\u001b[0;34m)\u001b[0m\u001b[0;34m\u001b[0m\u001b[0m\n\u001b[0m\u001b[1;32m     36\u001b[0m         \u001b[0mm2_target\u001b[0m \u001b[0;34m=\u001b[0m \u001b[0mtf\u001b[0m\u001b[0;34m.\u001b[0m\u001b[0mkeras\u001b[0m\u001b[0;34m.\u001b[0m\u001b[0mbackend\u001b[0m\u001b[0;34m.\u001b[0m\u001b[0mreshape\u001b[0m\u001b[0;34m(\u001b[0m\u001b[0my\u001b[0m\u001b[0;34m[\u001b[0m\u001b[0;34m:\u001b[0m\u001b[0;34m,\u001b[0m\u001b[0;36m1\u001b[0m\u001b[0;34m]\u001b[0m\u001b[0;34m,\u001b[0m \u001b[0;34m(\u001b[0m\u001b[0;36m100\u001b[0m\u001b[0;34m,\u001b[0m\u001b[0;36m1\u001b[0m\u001b[0;34m)\u001b[0m\u001b[0;34m)\u001b[0m\u001b[0;34m\u001b[0m\u001b[0m\n\u001b[1;32m     37\u001b[0m         \u001b[0mm2_train\u001b[0m \u001b[0;34m=\u001b[0m \u001b[0mtf\u001b[0m\u001b[0;34m.\u001b[0m\u001b[0mtrain\u001b[0m\u001b[0;34m.\u001b[0m\u001b[0mGradientDescentOptimizer\u001b[0m\u001b[0;34m(\u001b[0m\u001b[0;36m0.2\u001b[0m\u001b[0;34m)\u001b[0m\u001b[0;34m\u001b[0m\u001b[0m\n",
      "\u001b[0;32m~/anaconda3/lib/python3.6/site-packages/tensorflow/python/keras/engine/base_layer.py\u001b[0m in \u001b[0;36m__call__\u001b[0;34m(self, inputs, *args, **kwargs)\u001b[0m\n\u001b[1;32m    755\u001b[0m       \u001b[0;32mif\u001b[0m \u001b[0;32mnot\u001b[0m \u001b[0min_deferred_mode\u001b[0m\u001b[0;34m:\u001b[0m\u001b[0;34m\u001b[0m\u001b[0m\n\u001b[1;32m    756\u001b[0m         \u001b[0mself\u001b[0m\u001b[0;34m.\u001b[0m\u001b[0m_in_call\u001b[0m \u001b[0;34m=\u001b[0m \u001b[0;32mTrue\u001b[0m\u001b[0;34m\u001b[0m\u001b[0m\n\u001b[0;32m--> 757\u001b[0;31m         \u001b[0moutputs\u001b[0m \u001b[0;34m=\u001b[0m \u001b[0mself\u001b[0m\u001b[0;34m.\u001b[0m\u001b[0mcall\u001b[0m\u001b[0;34m(\u001b[0m\u001b[0minputs\u001b[0m\u001b[0;34m,\u001b[0m \u001b[0;34m*\u001b[0m\u001b[0margs\u001b[0m\u001b[0;34m,\u001b[0m \u001b[0;34m**\u001b[0m\u001b[0mkwargs\u001b[0m\u001b[0;34m)\u001b[0m\u001b[0;34m\u001b[0m\u001b[0m\n\u001b[0m\u001b[1;32m    758\u001b[0m         \u001b[0mself\u001b[0m\u001b[0;34m.\u001b[0m\u001b[0m_in_call\u001b[0m \u001b[0;34m=\u001b[0m \u001b[0;32mFalse\u001b[0m\u001b[0;34m\u001b[0m\u001b[0m\n\u001b[1;32m    759\u001b[0m         \u001b[0;32mif\u001b[0m \u001b[0moutputs\u001b[0m \u001b[0;32mis\u001b[0m \u001b[0;32mNone\u001b[0m\u001b[0;34m:\u001b[0m\u001b[0;34m\u001b[0m\u001b[0m\n",
      "\u001b[0;32m~/anaconda3/lib/python3.6/site-packages/tensorflow/python/keras/layers/core.py\u001b[0m in \u001b[0;36mcall\u001b[0;34m(self, inputs)\u001b[0m\n\u001b[1;32m    970\u001b[0m       \u001b[0moutputs\u001b[0m \u001b[0;34m=\u001b[0m \u001b[0mgen_math_ops\u001b[0m\u001b[0;34m.\u001b[0m\u001b[0mmat_mul\u001b[0m\u001b[0;34m(\u001b[0m\u001b[0minputs\u001b[0m\u001b[0;34m,\u001b[0m \u001b[0mself\u001b[0m\u001b[0;34m.\u001b[0m\u001b[0mkernel\u001b[0m\u001b[0;34m)\u001b[0m\u001b[0;34m\u001b[0m\u001b[0m\n\u001b[1;32m    971\u001b[0m     \u001b[0;32mif\u001b[0m \u001b[0mself\u001b[0m\u001b[0;34m.\u001b[0m\u001b[0muse_bias\u001b[0m\u001b[0;34m:\u001b[0m\u001b[0;34m\u001b[0m\u001b[0m\n\u001b[0;32m--> 972\u001b[0;31m       \u001b[0moutputs\u001b[0m \u001b[0;34m=\u001b[0m \u001b[0mnn\u001b[0m\u001b[0;34m.\u001b[0m\u001b[0mbias_add\u001b[0m\u001b[0;34m(\u001b[0m\u001b[0moutputs\u001b[0m\u001b[0;34m,\u001b[0m \u001b[0mself\u001b[0m\u001b[0;34m.\u001b[0m\u001b[0mbias\u001b[0m\u001b[0;34m)\u001b[0m\u001b[0;34m\u001b[0m\u001b[0m\n\u001b[0m\u001b[1;32m    973\u001b[0m     \u001b[0;32mif\u001b[0m \u001b[0mself\u001b[0m\u001b[0;34m.\u001b[0m\u001b[0mactivation\u001b[0m \u001b[0;32mis\u001b[0m \u001b[0;32mnot\u001b[0m \u001b[0;32mNone\u001b[0m\u001b[0;34m:\u001b[0m\u001b[0;34m\u001b[0m\u001b[0m\n\u001b[1;32m    974\u001b[0m       \u001b[0;32mreturn\u001b[0m \u001b[0mself\u001b[0m\u001b[0;34m.\u001b[0m\u001b[0mactivation\u001b[0m\u001b[0;34m(\u001b[0m\u001b[0moutputs\u001b[0m\u001b[0;34m)\u001b[0m  \u001b[0;31m# pylint: disable=not-callable\u001b[0m\u001b[0;34m\u001b[0m\u001b[0m\n",
      "\u001b[0;32m~/anaconda3/lib/python3.6/site-packages/tensorflow/python/ops/nn_ops.py\u001b[0m in \u001b[0;36mbias_add\u001b[0;34m(value, bias, data_format, name)\u001b[0m\n\u001b[1;32m   1503\u001b[0m     \u001b[0;32mif\u001b[0m \u001b[0;32mnot\u001b[0m \u001b[0mcontext\u001b[0m\u001b[0;34m.\u001b[0m\u001b[0mexecuting_eagerly\u001b[0m\u001b[0;34m(\u001b[0m\u001b[0;34m)\u001b[0m\u001b[0;34m:\u001b[0m\u001b[0;34m\u001b[0m\u001b[0m\n\u001b[1;32m   1504\u001b[0m       \u001b[0mvalue\u001b[0m \u001b[0;34m=\u001b[0m \u001b[0mops\u001b[0m\u001b[0;34m.\u001b[0m\u001b[0mconvert_to_tensor\u001b[0m\u001b[0;34m(\u001b[0m\u001b[0mvalue\u001b[0m\u001b[0;34m,\u001b[0m \u001b[0mname\u001b[0m\u001b[0;34m=\u001b[0m\u001b[0;34m\"input\"\u001b[0m\u001b[0;34m)\u001b[0m\u001b[0;34m\u001b[0m\u001b[0m\n\u001b[0;32m-> 1505\u001b[0;31m       \u001b[0mbias\u001b[0m \u001b[0;34m=\u001b[0m \u001b[0mops\u001b[0m\u001b[0;34m.\u001b[0m\u001b[0mconvert_to_tensor\u001b[0m\u001b[0;34m(\u001b[0m\u001b[0mbias\u001b[0m\u001b[0;34m,\u001b[0m \u001b[0mdtype\u001b[0m\u001b[0;34m=\u001b[0m\u001b[0mvalue\u001b[0m\u001b[0;34m.\u001b[0m\u001b[0mdtype\u001b[0m\u001b[0;34m,\u001b[0m \u001b[0mname\u001b[0m\u001b[0;34m=\u001b[0m\u001b[0;34m\"bias\"\u001b[0m\u001b[0;34m)\u001b[0m\u001b[0;34m\u001b[0m\u001b[0m\n\u001b[0m\u001b[1;32m   1506\u001b[0m     \u001b[0;32mreturn\u001b[0m \u001b[0mgen_nn_ops\u001b[0m\u001b[0;34m.\u001b[0m\u001b[0mbias_add\u001b[0m\u001b[0;34m(\u001b[0m\u001b[0mvalue\u001b[0m\u001b[0;34m,\u001b[0m \u001b[0mbias\u001b[0m\u001b[0;34m,\u001b[0m \u001b[0mdata_format\u001b[0m\u001b[0;34m=\u001b[0m\u001b[0mdata_format\u001b[0m\u001b[0;34m,\u001b[0m \u001b[0mname\u001b[0m\u001b[0;34m=\u001b[0m\u001b[0mname\u001b[0m\u001b[0;34m)\u001b[0m\u001b[0;34m\u001b[0m\u001b[0m\n\u001b[1;32m   1507\u001b[0m \u001b[0;34m\u001b[0m\u001b[0m\n",
      "\u001b[0;32m~/anaconda3/lib/python3.6/site-packages/tensorflow/python/framework/ops.py\u001b[0m in \u001b[0;36mconvert_to_tensor\u001b[0;34m(value, dtype, name, preferred_dtype)\u001b[0m\n\u001b[1;32m   1048\u001b[0m       \u001b[0mname\u001b[0m\u001b[0;34m=\u001b[0m\u001b[0mname\u001b[0m\u001b[0;34m,\u001b[0m\u001b[0;34m\u001b[0m\u001b[0m\n\u001b[1;32m   1049\u001b[0m       \u001b[0mpreferred_dtype\u001b[0m\u001b[0;34m=\u001b[0m\u001b[0mpreferred_dtype\u001b[0m\u001b[0;34m,\u001b[0m\u001b[0;34m\u001b[0m\u001b[0m\n\u001b[0;32m-> 1050\u001b[0;31m       as_ref=False)\n\u001b[0m\u001b[1;32m   1051\u001b[0m \u001b[0;34m\u001b[0m\u001b[0m\n\u001b[1;32m   1052\u001b[0m \u001b[0;34m\u001b[0m\u001b[0m\n",
      "\u001b[0;32m~/anaconda3/lib/python3.6/site-packages/tensorflow/python/framework/ops.py\u001b[0m in \u001b[0;36minternal_convert_to_tensor\u001b[0;34m(value, dtype, name, as_ref, preferred_dtype, ctx)\u001b[0m\n\u001b[1;32m   1144\u001b[0m \u001b[0;34m\u001b[0m\u001b[0m\n\u001b[1;32m   1145\u001b[0m     \u001b[0;32mif\u001b[0m \u001b[0mret\u001b[0m \u001b[0;32mis\u001b[0m \u001b[0;32mNone\u001b[0m\u001b[0;34m:\u001b[0m\u001b[0;34m\u001b[0m\u001b[0m\n\u001b[0;32m-> 1146\u001b[0;31m       \u001b[0mret\u001b[0m \u001b[0;34m=\u001b[0m \u001b[0mconversion_func\u001b[0m\u001b[0;34m(\u001b[0m\u001b[0mvalue\u001b[0m\u001b[0;34m,\u001b[0m \u001b[0mdtype\u001b[0m\u001b[0;34m=\u001b[0m\u001b[0mdtype\u001b[0m\u001b[0;34m,\u001b[0m \u001b[0mname\u001b[0m\u001b[0;34m=\u001b[0m\u001b[0mname\u001b[0m\u001b[0;34m,\u001b[0m \u001b[0mas_ref\u001b[0m\u001b[0;34m=\u001b[0m\u001b[0mas_ref\u001b[0m\u001b[0;34m)\u001b[0m\u001b[0;34m\u001b[0m\u001b[0m\n\u001b[0m\u001b[1;32m   1147\u001b[0m \u001b[0;34m\u001b[0m\u001b[0m\n\u001b[1;32m   1148\u001b[0m     \u001b[0;32mif\u001b[0m \u001b[0mret\u001b[0m \u001b[0;32mis\u001b[0m \u001b[0mNotImplemented\u001b[0m\u001b[0;34m:\u001b[0m\u001b[0;34m\u001b[0m\u001b[0m\n",
      "\u001b[0;32m~/anaconda3/lib/python3.6/site-packages/tensorflow/python/ops/resource_variable_ops.py\u001b[0m in \u001b[0;36m_dense_var_to_tensor\u001b[0;34m(var, dtype, name, as_ref)\u001b[0m\n\u001b[1;32m   1256\u001b[0m \u001b[0;34m\u001b[0m\u001b[0m\n\u001b[1;32m   1257\u001b[0m \u001b[0;32mdef\u001b[0m \u001b[0m_dense_var_to_tensor\u001b[0m\u001b[0;34m(\u001b[0m\u001b[0mvar\u001b[0m\u001b[0;34m,\u001b[0m \u001b[0mdtype\u001b[0m\u001b[0;34m=\u001b[0m\u001b[0;32mNone\u001b[0m\u001b[0;34m,\u001b[0m \u001b[0mname\u001b[0m\u001b[0;34m=\u001b[0m\u001b[0;32mNone\u001b[0m\u001b[0;34m,\u001b[0m \u001b[0mas_ref\u001b[0m\u001b[0;34m=\u001b[0m\u001b[0;32mFalse\u001b[0m\u001b[0;34m)\u001b[0m\u001b[0;34m:\u001b[0m\u001b[0;34m\u001b[0m\u001b[0m\n\u001b[0;32m-> 1258\u001b[0;31m   \u001b[0;32mreturn\u001b[0m \u001b[0mvar\u001b[0m\u001b[0;34m.\u001b[0m\u001b[0m_dense_var_to_tensor\u001b[0m\u001b[0;34m(\u001b[0m\u001b[0mdtype\u001b[0m\u001b[0;34m=\u001b[0m\u001b[0mdtype\u001b[0m\u001b[0;34m,\u001b[0m \u001b[0mname\u001b[0m\u001b[0;34m=\u001b[0m\u001b[0mname\u001b[0m\u001b[0;34m,\u001b[0m \u001b[0mas_ref\u001b[0m\u001b[0;34m=\u001b[0m\u001b[0mas_ref\u001b[0m\u001b[0;34m)\u001b[0m  \u001b[0;31m# pylint: disable=protected-access\u001b[0m\u001b[0;34m\u001b[0m\u001b[0m\n\u001b[0m\u001b[1;32m   1259\u001b[0m \u001b[0;34m\u001b[0m\u001b[0m\n\u001b[1;32m   1260\u001b[0m \u001b[0;34m\u001b[0m\u001b[0m\n",
      "\u001b[0;32m~/anaconda3/lib/python3.6/site-packages/tensorflow/python/ops/resource_variable_ops.py\u001b[0m in \u001b[0;36m_dense_var_to_tensor\u001b[0;34m(***failed resolving arguments***)\u001b[0m\n\u001b[1;32m   1211\u001b[0m       \u001b[0;32mreturn\u001b[0m \u001b[0mself\u001b[0m\u001b[0;34m.\u001b[0m\u001b[0mread_value\u001b[0m\u001b[0;34m(\u001b[0m\u001b[0;34m)\u001b[0m\u001b[0;34m.\u001b[0m\u001b[0mop\u001b[0m\u001b[0;34m.\u001b[0m\u001b[0minputs\u001b[0m\u001b[0;34m[\u001b[0m\u001b[0;36m0\u001b[0m\u001b[0;34m]\u001b[0m\u001b[0;34m\u001b[0m\u001b[0m\n\u001b[1;32m   1212\u001b[0m     \u001b[0;32melse\u001b[0m\u001b[0;34m:\u001b[0m\u001b[0;34m\u001b[0m\u001b[0m\n\u001b[0;32m-> 1213\u001b[0;31m       \u001b[0;32mreturn\u001b[0m \u001b[0mself\u001b[0m\u001b[0;34m.\u001b[0m\u001b[0mvalue\u001b[0m\u001b[0;34m(\u001b[0m\u001b[0;34m)\u001b[0m\u001b[0;34m\u001b[0m\u001b[0m\n\u001b[0m\u001b[1;32m   1214\u001b[0m \u001b[0;34m\u001b[0m\u001b[0m\n\u001b[1;32m   1215\u001b[0m   \u001b[0;32mdef\u001b[0m \u001b[0m__iadd__\u001b[0m\u001b[0;34m(\u001b[0m\u001b[0mself\u001b[0m\u001b[0;34m,\u001b[0m \u001b[0munused_other\u001b[0m\u001b[0;34m)\u001b[0m\u001b[0;34m:\u001b[0m\u001b[0;34m\u001b[0m\u001b[0m\n",
      "\u001b[0;32m~/anaconda3/lib/python3.6/site-packages/tensorflow/python/ops/resource_variable_ops.py\u001b[0m in \u001b[0;36mvalue\u001b[0;34m(self)\u001b[0m\n\u001b[1;32m    642\u001b[0m     \u001b[0;32mwith\u001b[0m \u001b[0mops\u001b[0m\u001b[0;34m.\u001b[0m\u001b[0mcolocate_with\u001b[0m\u001b[0;34m(\u001b[0m\u001b[0;32mNone\u001b[0m\u001b[0;34m,\u001b[0m \u001b[0mignore_existing\u001b[0m\u001b[0;34m=\u001b[0m\u001b[0;32mTrue\u001b[0m\u001b[0;34m)\u001b[0m\u001b[0;34m:\u001b[0m\u001b[0;34m\u001b[0m\u001b[0m\n\u001b[1;32m    643\u001b[0m       \u001b[0;32mwith\u001b[0m \u001b[0mops\u001b[0m\u001b[0;34m.\u001b[0m\u001b[0mdevice\u001b[0m\u001b[0;34m(\u001b[0m\u001b[0mself\u001b[0m\u001b[0;34m.\u001b[0m\u001b[0m_handle\u001b[0m\u001b[0;34m.\u001b[0m\u001b[0mdevice\u001b[0m\u001b[0;34m)\u001b[0m\u001b[0;34m:\u001b[0m\u001b[0;34m\u001b[0m\u001b[0m\n\u001b[0;32m--> 644\u001b[0;31m         \u001b[0;32mreturn\u001b[0m \u001b[0mself\u001b[0m\u001b[0;34m.\u001b[0m\u001b[0m_read_variable_op\u001b[0m\u001b[0;34m(\u001b[0m\u001b[0;34m)\u001b[0m\u001b[0;34m\u001b[0m\u001b[0m\n\u001b[0m\u001b[1;32m    645\u001b[0m \u001b[0;34m\u001b[0m\u001b[0m\n\u001b[1;32m    646\u001b[0m   \u001b[0;32mdef\u001b[0m \u001b[0m_as_graph_element\u001b[0m\u001b[0;34m(\u001b[0m\u001b[0mself\u001b[0m\u001b[0;34m)\u001b[0m\u001b[0;34m:\u001b[0m\u001b[0;34m\u001b[0m\u001b[0m\n",
      "\u001b[0;32m~/anaconda3/lib/python3.6/site-packages/tensorflow/python/ops/resource_variable_ops.py\u001b[0m in \u001b[0;36m_read_variable_op\u001b[0;34m(self)\u001b[0m\n\u001b[1;32m    725\u001b[0m       \u001b[0mtape\u001b[0m\u001b[0;34m.\u001b[0m\u001b[0mvariable_accessed\u001b[0m\u001b[0;34m(\u001b[0m\u001b[0mself\u001b[0m\u001b[0;34m)\u001b[0m\u001b[0;34m\u001b[0m\u001b[0m\n\u001b[1;32m    726\u001b[0m     result = gen_resource_variable_ops.read_variable_op(self._handle,\n\u001b[0;32m--> 727\u001b[0;31m                                                         self._dtype)\n\u001b[0m\u001b[1;32m    728\u001b[0m     \u001b[0;32mif\u001b[0m \u001b[0;32mnot\u001b[0m \u001b[0mcontext\u001b[0m\u001b[0;34m.\u001b[0m\u001b[0mexecuting_eagerly\u001b[0m\u001b[0;34m(\u001b[0m\u001b[0;34m)\u001b[0m\u001b[0;34m:\u001b[0m\u001b[0;34m\u001b[0m\u001b[0m\n\u001b[1;32m    729\u001b[0m       \u001b[0;31m# Note that if a control flow context is active the input of the read op\u001b[0m\u001b[0;34m\u001b[0m\u001b[0;34m\u001b[0m\u001b[0m\n",
      "\u001b[0;32m~/anaconda3/lib/python3.6/site-packages/tensorflow/python/ops/gen_resource_variable_ops.py\u001b[0m in \u001b[0;36mread_variable_op\u001b[0;34m(resource, dtype, name)\u001b[0m\n\u001b[1;32m    506\u001b[0m     \u001b[0mdtype\u001b[0m \u001b[0;34m=\u001b[0m \u001b[0m_execute\u001b[0m\u001b[0;34m.\u001b[0m\u001b[0mmake_type\u001b[0m\u001b[0;34m(\u001b[0m\u001b[0mdtype\u001b[0m\u001b[0;34m,\u001b[0m \u001b[0;34m\"dtype\"\u001b[0m\u001b[0;34m)\u001b[0m\u001b[0;34m\u001b[0m\u001b[0m\n\u001b[1;32m    507\u001b[0m     _, _, _op = _op_def_lib._apply_op_helper(\n\u001b[0;32m--> 508\u001b[0;31m         \"ReadVariableOp\", resource=resource, dtype=dtype, name=name)\n\u001b[0m\u001b[1;32m    509\u001b[0m     \u001b[0m_result\u001b[0m \u001b[0;34m=\u001b[0m \u001b[0m_op\u001b[0m\u001b[0;34m.\u001b[0m\u001b[0moutputs\u001b[0m\u001b[0;34m[\u001b[0m\u001b[0;34m:\u001b[0m\u001b[0;34m]\u001b[0m\u001b[0;34m\u001b[0m\u001b[0m\n\u001b[1;32m    510\u001b[0m     \u001b[0m_inputs_flat\u001b[0m \u001b[0;34m=\u001b[0m \u001b[0m_op\u001b[0m\u001b[0;34m.\u001b[0m\u001b[0minputs\u001b[0m\u001b[0;34m\u001b[0m\u001b[0m\n",
      "\u001b[0;32m~/anaconda3/lib/python3.6/site-packages/tensorflow/python/framework/op_def_library.py\u001b[0m in \u001b[0;36m_apply_op_helper\u001b[0;34m(self, op_type_name, name, **keywords)\u001b[0m\n\u001b[1;32m    785\u001b[0m         op = g.create_op(op_type_name, inputs, output_types, name=scope,\n\u001b[1;32m    786\u001b[0m                          \u001b[0minput_types\u001b[0m\u001b[0;34m=\u001b[0m\u001b[0minput_types\u001b[0m\u001b[0;34m,\u001b[0m \u001b[0mattrs\u001b[0m\u001b[0;34m=\u001b[0m\u001b[0mattr_protos\u001b[0m\u001b[0;34m,\u001b[0m\u001b[0;34m\u001b[0m\u001b[0m\n\u001b[0;32m--> 787\u001b[0;31m                          op_def=op_def)\n\u001b[0m\u001b[1;32m    788\u001b[0m       \u001b[0;32mreturn\u001b[0m \u001b[0moutput_structure\u001b[0m\u001b[0;34m,\u001b[0m \u001b[0mop_def\u001b[0m\u001b[0;34m.\u001b[0m\u001b[0mis_stateful\u001b[0m\u001b[0;34m,\u001b[0m \u001b[0mop\u001b[0m\u001b[0;34m\u001b[0m\u001b[0m\n\u001b[1;32m    789\u001b[0m \u001b[0;34m\u001b[0m\u001b[0m\n",
      "\u001b[0;32m~/anaconda3/lib/python3.6/site-packages/tensorflow/python/util/deprecation.py\u001b[0m in \u001b[0;36mnew_func\u001b[0;34m(*args, **kwargs)\u001b[0m\n\u001b[1;32m    459\u001b[0m       \u001b[0;32mif\u001b[0m \u001b[0mis_in_graph_mode\u001b[0m\u001b[0;34m.\u001b[0m\u001b[0mIS_IN_GRAPH_MODE\u001b[0m\u001b[0;34m(\u001b[0m\u001b[0;34m)\u001b[0m \u001b[0;32mand\u001b[0m \u001b[0m_PRINT_DEPRECATION_WARNINGS\u001b[0m\u001b[0;34m:\u001b[0m\u001b[0;34m\u001b[0m\u001b[0m\n\u001b[1;32m    460\u001b[0m         \u001b[0minvalid_args\u001b[0m \u001b[0;34m=\u001b[0m \u001b[0;34m[\u001b[0m\u001b[0;34m]\u001b[0m\u001b[0;34m\u001b[0m\u001b[0m\n\u001b[0;32m--> 461\u001b[0;31m         \u001b[0mnamed_args\u001b[0m \u001b[0;34m=\u001b[0m \u001b[0mtf_inspect\u001b[0m\u001b[0;34m.\u001b[0m\u001b[0mgetcallargs\u001b[0m\u001b[0;34m(\u001b[0m\u001b[0mfunc\u001b[0m\u001b[0;34m,\u001b[0m \u001b[0;34m*\u001b[0m\u001b[0margs\u001b[0m\u001b[0;34m,\u001b[0m \u001b[0;34m**\u001b[0m\u001b[0mkwargs\u001b[0m\u001b[0;34m)\u001b[0m\u001b[0;34m\u001b[0m\u001b[0m\n\u001b[0m\u001b[1;32m    462\u001b[0m         \u001b[0;32mfor\u001b[0m \u001b[0marg_name\u001b[0m\u001b[0;34m,\u001b[0m \u001b[0mspec\u001b[0m \u001b[0;32min\u001b[0m \u001b[0miter\u001b[0m\u001b[0;34m(\u001b[0m\u001b[0mdeprecated_positions\u001b[0m\u001b[0;34m.\u001b[0m\u001b[0mitems\u001b[0m\u001b[0;34m(\u001b[0m\u001b[0;34m)\u001b[0m\u001b[0;34m)\u001b[0m\u001b[0;34m:\u001b[0m\u001b[0;34m\u001b[0m\u001b[0m\n\u001b[1;32m    463\u001b[0m           if (spec.position < len(args) and\n",
      "\u001b[0;32m~/anaconda3/lib/python3.6/site-packages/tensorflow/python/util/tf_inspect.py\u001b[0m in \u001b[0;36mgetcallargs\u001b[0;34m(func, *positional, **named)\u001b[0m\n\u001b[1;32m    233\u001b[0m   \u001b[0margspec\u001b[0m \u001b[0mwill\u001b[0m \u001b[0mbe\u001b[0m \u001b[0mused\u001b[0m\u001b[0;34m.\u001b[0m\u001b[0;34m\u001b[0m\u001b[0m\n\u001b[1;32m    234\u001b[0m   \"\"\"\n\u001b[0;32m--> 235\u001b[0;31m   \u001b[0margspec\u001b[0m \u001b[0;34m=\u001b[0m \u001b[0mgetfullargspec\u001b[0m\u001b[0;34m(\u001b[0m\u001b[0mfunc\u001b[0m\u001b[0;34m)\u001b[0m\u001b[0;34m\u001b[0m\u001b[0m\n\u001b[0m\u001b[1;32m    236\u001b[0m   \u001b[0mcall_args\u001b[0m \u001b[0;34m=\u001b[0m \u001b[0mnamed\u001b[0m\u001b[0;34m.\u001b[0m\u001b[0mcopy\u001b[0m\u001b[0;34m(\u001b[0m\u001b[0;34m)\u001b[0m\u001b[0;34m\u001b[0m\u001b[0m\n\u001b[1;32m    237\u001b[0m   \u001b[0mthis\u001b[0m \u001b[0;34m=\u001b[0m \u001b[0mgetattr\u001b[0m\u001b[0;34m(\u001b[0m\u001b[0mfunc\u001b[0m\u001b[0;34m,\u001b[0m \u001b[0;34m'im_self'\u001b[0m\u001b[0;34m,\u001b[0m \u001b[0;32mNone\u001b[0m\u001b[0;34m)\u001b[0m \u001b[0;32mor\u001b[0m \u001b[0mgetattr\u001b[0m\u001b[0;34m(\u001b[0m\u001b[0mfunc\u001b[0m\u001b[0;34m,\u001b[0m \u001b[0;34m'__self__'\u001b[0m\u001b[0;34m,\u001b[0m \u001b[0;32mNone\u001b[0m\u001b[0;34m)\u001b[0m\u001b[0;34m\u001b[0m\u001b[0m\n",
      "\u001b[0;32m~/anaconda3/lib/python3.6/site-packages/tensorflow/python/util/tf_inspect.py\u001b[0m in \u001b[0;36mgetfullargspec\u001b[0;34m(obj)\u001b[0m\n\u001b[1;32m    214\u001b[0m   return next((d.decorator_argspec\n\u001b[1;32m    215\u001b[0m                \u001b[0;32mfor\u001b[0m \u001b[0md\u001b[0m \u001b[0;32min\u001b[0m \u001b[0mdecorators\u001b[0m\u001b[0;34m\u001b[0m\u001b[0m\n\u001b[0;32m--> 216\u001b[0;31m                if d.decorator_argspec is not None), _getfullargspec(target))\n\u001b[0m\u001b[1;32m    217\u001b[0m \u001b[0;34m\u001b[0m\u001b[0m\n\u001b[1;32m    218\u001b[0m \u001b[0;34m\u001b[0m\u001b[0m\n",
      "\u001b[0;32m~/anaconda3/lib/python3.6/inspect.py\u001b[0m in \u001b[0;36mgetfullargspec\u001b[0;34m(func)\u001b[0m\n\u001b[1;32m   1138\u001b[0m \u001b[0;34m\u001b[0m\u001b[0m\n\u001b[1;32m   1139\u001b[0m     \u001b[0;32mfor\u001b[0m \u001b[0mparam\u001b[0m \u001b[0;32min\u001b[0m \u001b[0msig\u001b[0m\u001b[0;34m.\u001b[0m\u001b[0mparameters\u001b[0m\u001b[0;34m.\u001b[0m\u001b[0mvalues\u001b[0m\u001b[0;34m(\u001b[0m\u001b[0;34m)\u001b[0m\u001b[0;34m:\u001b[0m\u001b[0;34m\u001b[0m\u001b[0m\n\u001b[0;32m-> 1140\u001b[0;31m         \u001b[0mkind\u001b[0m \u001b[0;34m=\u001b[0m \u001b[0mparam\u001b[0m\u001b[0;34m.\u001b[0m\u001b[0mkind\u001b[0m\u001b[0;34m\u001b[0m\u001b[0m\n\u001b[0m\u001b[1;32m   1141\u001b[0m         \u001b[0mname\u001b[0m \u001b[0;34m=\u001b[0m \u001b[0mparam\u001b[0m\u001b[0;34m.\u001b[0m\u001b[0mname\u001b[0m\u001b[0;34m\u001b[0m\u001b[0m\n\u001b[1;32m   1142\u001b[0m \u001b[0;34m\u001b[0m\u001b[0m\n",
      "\u001b[0;31mKeyboardInterrupt\u001b[0m: "
     ]
    }
   ],
   "source": [
    "NOISE = [50]\n",
    "all_data = np.empty((10*len(NOISE),3))\n",
    "average_data = np.empty((6,3))\n",
    "\n",
    "for N in range(len(NOISE)):\n",
    "\n",
    "    for i in range(10):\n",
    "\n",
    "        strategy = \"simple\"\n",
    "\n",
    "        sess = tf.Session()\n",
    "        keras.backend.set_session(sess)\n",
    "\n",
    "        x, trueusers = sampleChania(Chania, 100)\n",
    "\n",
    "        if strategy == \"simple\":\n",
    "            yarray = x.eval(session=sess) + np.random.normal(scale=NOISE[N], size=(100,4))\n",
    "            y = tf.constant(yarray, tf.float32)\n",
    "\n",
    "        i1 = keras.layers.Dense(4, activation=tf.nn.relu)\n",
    "        i2 = keras.layers.Dense(4, activation=tf.nn.relu)\n",
    "        i3 = keras.layers.Dense(4, activation=tf.nn.relu)\n",
    "        i4 = keras.layers.Dense(1)\n",
    "\n",
    "        m1 = i4(i3(i2(i1(x[:,2:]))))\n",
    "        m1_target = tf.keras.backend.reshape(x[:,1], (100,1))\n",
    "        m1_train = tf.train.GradientDescentOptimizer(0.2)\n",
    "        m1_vars = [i1.variables, i2.variables, i3.variables, i4.variables]\n",
    "\n",
    "        o1 = keras.layers.Dense(4, activation=tf.nn.relu)\n",
    "        o2 = keras.layers.Dense(4, activation=tf.nn.relu)\n",
    "        o3 = keras.layers.Dense(4, activation=tf.nn.relu)\n",
    "        o4 = keras.layers.Dense(1)\n",
    "\n",
    "        m2 = o4(o3(o2(o1(y[:,2:]))))\n",
    "        m2_target = tf.keras.backend.reshape(y[:,1], (100,1))\n",
    "        m2_train = tf.train.GradientDescentOptimizer(0.2)\n",
    "        m2_vars = [o1.variables, o2.variables, o3.variables, o4.variables]\n",
    "\n",
    "        a1 = keras.layers.Dense(7, activation=tf.nn.relu)\n",
    "        a2 = keras.layers.Dense(5, activation=tf.nn.softmax)\n",
    "\n",
    "        users = a2(a1(y))\n",
    "        a_train = tf.train.GradientDescentOptimizer(0.08)\n",
    "        a_vars = [a1.variables, a2.variables]\n",
    "\n",
    "        m1_loss = tf.placeholder(tf.float32)\n",
    "        m2_loss = tf.placeholder(tf.float32)\n",
    "        map_error = tf.placeholder(tf.float32)\n",
    "        adversary_loss = tf.placeholder(tf.float32)\n",
    "        privatizer_loss = tf.placeholder(tf.float32)\n",
    "        penalty = tf.placeholder(tf.float32)\n",
    "        threshold = tf.placeholder(tf.float32)\n",
    "        testpoints = tf.placeholder(tf.float32)\n",
    "        grid = tf.placeholder(tf.float32)\n",
    "\n",
    "        sess.run(tf.global_variables_initializer())\n",
    "\n",
    "        m1_loss = tf.reduce_mean(tf.keras.losses.mean_squared_error(m1, m1_target))\n",
    "        m1_train = m1_train.minimize(m1_loss, var_list = m1_vars)\n",
    "\n",
    "        m2_loss = tf.reduce_mean(tf.keras.losses.mean_squared_error(m2, m2_target))\n",
    "        m2_train = m2_train.minimize(m2_loss, var_list = m2_vars)\n",
    "\n",
    "        adversary_loss = tf.reduce_mean(tf.keras.backend.sparse_categorical_crossentropy(trueusers, users))\n",
    "        a_train = a_train.minimize(adversary_loss, var_list = a_vars)\n",
    "\n",
    "        if strategy == \"simple\":\n",
    "            combined = a2(a1(y))\n",
    "\n",
    "        testpoints = np.mgrid[-1.5:0.75:15j, -1.5:0.75:15j].reshape(2,-1).T\n",
    "        grid = tf.constant(testpoints, dtype=tf.float32)\n",
    "        map_error = tf.reduce_mean(tf.squared_difference(\n",
    "            i4(i3(i2(i1(grid)))),\n",
    "            o4(o3(o2(o1(grid))))))\n",
    "\n",
    "        def train(trainstep, trainloss, max_iter, session):\n",
    "            plotlist = []\n",
    "            delta1 = 100\n",
    "            delta2 = 0\n",
    "            count_iter = 0\n",
    "            while abs(delta1 - delta2) >= 0.0001 and count_iter < max_iter:\n",
    "                count_iter += 1\n",
    "                delta1 = trainloss.eval(session=session)\n",
    "                trainstep.run(session=session)\n",
    "                delta2 = trainloss.eval(session=session)\n",
    "                plotlist.append(trainloss.eval(session=session))\n",
    "            return plotlist\n",
    "\n",
    "\n",
    "        penalty = tf.constant(2.5, dtype=tf.float32)\n",
    "        threshold = tf.constant(0, dtype=tf.float32)\n",
    "\n",
    "        zero = tf.constant(0, dtype=tf.float32)\n",
    "        privatizer_loss = tf.subtract(tf.multiply(penalty, tf.math.maximum(zero, tf.subtract(map_error, threshold))), \n",
    "                                      tf.reduce_mean(tf.keras.backend.sparse_categorical_crossentropy(trueusers, combined)))\n",
    "\n",
    "        if strategy == \"GAP\":\n",
    "            p_train = p_train.minimize(privatizer_loss, var_list = p_vars)\n",
    "\n",
    "        if strategy == \"simple\":\n",
    "\n",
    "            m2plot = train(m2_train, m2_loss, 1000, sess)    \n",
    "            m1plot = train(m1_train, m1_loss, 1000, sess)\n",
    "            aplot = train(a_train, adversary_loss, 1000, sess)    \n",
    "            print(map_error.eval(session=sess), adversary_loss.eval(session=sess))\n",
    "\n",
    "        index = int(10*N+i)\n",
    "        all_data[index] = [NOISE[N], map_error.eval(session=sess), adversary_loss.eval(session=sess)]\n",
    "        \n",
    "        tf.keras.backend.clear_session()\n",
    "\n",
    "    average_data[N] = [NOISE[N], np.mean(all_data[np.where(all_data[:,0]==NOISE[N])][:,1]), np.mean(all_data[np.where(all_data[:,0]==NOISE[N])][:,2])]\n"
   ]
  },
  {
   "cell_type": "code",
   "execution_count": 103,
   "metadata": {},
   "outputs": [],
   "source": [
    "# all_data = all_data[np.where(np.isnan(all_data[:,1])==False)]"
   ]
  },
  {
   "cell_type": "code",
   "execution_count": 68,
   "metadata": {},
   "outputs": [],
   "source": [
    "true_data = np.loadtxt(\"SimpleDataWorstAdversary\")"
   ]
  },
  {
   "cell_type": "code",
   "execution_count": 109,
   "metadata": {},
   "outputs": [],
   "source": [
    "# true_data = np.append(true_data, all_data, axis=0)"
   ]
  },
  {
   "cell_type": "code",
   "execution_count": 69,
   "metadata": {
    "scrolled": true
   },
   "outputs": [
    {
     "data": {
      "text/plain": [
       "Text(0.5, 1.0, 'Privacy Utility Trade: Simple Privatizer, Worst Case Adversary')"
      ]
     },
     "execution_count": 69,
     "metadata": {},
     "output_type": "execute_result"
    },
    {
     "data": {
      "image/png": "[encoded data removed]",
      "text/plain": [
       "<Figure size 432x288 with 1 Axes>"
      ]
     },
     "metadata": {
      "needs_background": "light"
     },
     "output_type": "display_data"
    }
   ],
   "source": [
    "plt.scatter(true_data[:,2], true_data[:,1])\n",
    "plt.xlabel(\"Adversary Error\")\n",
    "plt.ylabel(\"Map Error\")\n",
    "plt.title(\"Privacy Utility Trade: Simple Privatizer, Worst Case Adversary\")"
   ]
  },
  {
   "cell_type": "code",
   "execution_count": 122,
   "metadata": {},
   "outputs": [
    {
     "data": {
      "text/plain": [
       "Text(0.5, 1.0, 'Privacy Utility Trade: Simple Privatizer, Worst Case Adversary')"
      ]
     },
     "execution_count": 122,
     "metadata": {},
     "output_type": "execute_result"
    },
    {
     "data": {
      "image/png": "[encoded data removed]",
      "text/plain": [
       "<Figure size 720x720 with 1 Axes>"
      ]
     },
     "metadata": {
      "needs_background": "light"
     },
     "output_type": "display_data"
    }
   ],
   "source": [
    "fig = plt.figure(figsize=(10,10))\n",
    "for i in np.unique(true_data[:,0]):\n",
    "    indices = np.where(true_data[:,0]==i)\n",
    "    plt.scatter(np.mean(true_data[indices][:,2]), np.mean(true_data[indices][:,1]))\n",
    "    plt.plot(np.mean(true_data[indices][:,2]), np.mean(true_data[indices][:,1]))\n",
    "    plt.text(np.mean(true_data[indices][:,2]), np.mean(true_data[indices][:,1]), str(true_data[indices][0][0]))\n",
    "plt.xlabel(\"Adversary Error\")\n",
    "plt.ylabel(\"Map Error\")\n",
    "plt.title(\"Privacy Utility Trade: Simple Privatizer, Worst Case Adversary\")"
   ]
  },
  {
   "cell_type": "code",
   "execution_count": 3,
   "metadata": {},
   "outputs": [],
   "source": [
    "def train(trainstep, trainloss, max_iter, session):\n",
    "    plotlist = []\n",
    "    delta1 = 100\n",
    "    delta2 = 0\n",
    "    count_iter = 0\n",
    "    while abs(delta1 - delta2) >= 0.0001 and count_iter < max_iter:\n",
    "        count_iter += 1\n",
    "        delta1 = trainloss.eval(session=session)\n",
    "        trainstep.run(session=session)\n",
    "        delta2 = trainloss.eval(session=session)\n",
    "        plotlist.append(trainloss.eval(session=session))\n",
    "    return plotlist"
   ]
  },
  {
   "cell_type": "code",
   "execution_count": 57,
   "metadata": {
    "scrolled": true
   },
   "outputs": [
    {
     "name": "stdout",
     "output_type": "stream",
     "text": [
      "0.008872765 1.1934493\n",
      "0.09035536 0.6367558\n",
      "0.068948954 1.1041381\n",
      "0.012124062 1.2414236\n",
      "0.016248636 1.2563765\n",
      "0.0023037652 1.316063\n",
      "0.07676877 1.2144141\n",
      "0.056539975 2.6346602\n",
      "0.0015145591 1.21257\n",
      "0.0007726442 1.2432678\n",
      "0.064594254 1.2451842\n",
      "0.04398344 1.2337906\n",
      "0.061150774 0.65359765\n",
      "0.0017471473 1.2518331\n",
      "0.4854477 1.2396367\n",
      "0.06800584 1.2710214\n",
      "0.09793234 1.2445871\n",
      "0.103415385 1.2464184\n",
      "0.00027546546 1.2335694\n",
      "0.12691112 0.16052994\n",
      "0.030624416 1.2459464\n",
      "0.17975488 0.1644385\n",
      "0.1206864 1.2286566\n",
      "0.039180234 1.2450546\n",
      "0.03317536 1.2434125\n",
      "0.062119875 0.165453\n",
      "0.22663403 0.15813771\n",
      "0.50317466 1.2537355\n",
      "0.0057603125 0.42903343\n",
      "0.3082352 0.6327216\n"
     ]
    }
   ],
   "source": [
    "def run_plot_automation():\n",
    "\n",
    "    PENALTY = [0.25, 0.1, 0.2]\n",
    "    I = 10\n",
    "    all_data = np.empty((I*len(PENALTY),3))\n",
    "\n",
    "    for P in range(len(PENALTY)):\n",
    "\n",
    "        for i in range(I):\n",
    "\n",
    "            strategy = \"GAP\"\n",
    "\n",
    "            sess = tf.Session()\n",
    "            keras.backend.set_session(sess)\n",
    "\n",
    "            x, trueusers = sampleChania(Chania, 100)\n",
    "\n",
    "            if strategy == \"GAP\":\n",
    "\n",
    "                init = keras.initializers.Identity(gain=1.0)\n",
    "                p1 = keras.layers.Dense(4, kernel_initializer=init, activation=tf.nn.relu)\n",
    "                p2 = keras.layers.Dense(4, kernel_initializer=init, activation=tf.nn.relu)\n",
    "                p3 = keras.layers.Dense(4, kernel_initializer=init, activation=tf.nn.relu)\n",
    "                p4 = keras.layers.Dense(4, kernel_initializer=init, activation=tf.nn.relu)\n",
    "                p5 = keras.layers.Dense(4, kernel_initializer=init)\n",
    "\n",
    "                y = p5(p4(p3(p2(p1(x)))))\n",
    "                p_vars = [p1.variables, p2.variables, p3.variables, p4.variables, p5.variables]\n",
    "\n",
    "            i1 = keras.layers.Dense(4, activation=tf.nn.relu)\n",
    "            i2 = keras.layers.Dense(4, activation=tf.nn.relu)\n",
    "            i3 = keras.layers.Dense(4, activation=tf.nn.relu)\n",
    "            i4 = keras.layers.Dense(1)\n",
    "\n",
    "            m1 = i4(i3(i2(i1(x[:,2:]))))\n",
    "            m1_target = tf.keras.backend.reshape(x[:,1], (100,1))\n",
    "            m1_train = tf.train.GradientDescentOptimizer(0.2)\n",
    "            m1_vars = [i1.variables, i2.variables, i3.variables, i4.variables]\n",
    "\n",
    "            o1 = keras.layers.Dense(4, activation=tf.nn.relu)\n",
    "            o2 = keras.layers.Dense(4, activation=tf.nn.relu)\n",
    "            o3 = keras.layers.Dense(4, activation=tf.nn.relu)\n",
    "            o4 = keras.layers.Dense(1)\n",
    "\n",
    "            m2 = o4(o3(o2(o1(y[:,2:]))))\n",
    "            m2_target = tf.keras.backend.reshape(y[:,1], (100,1))\n",
    "            m2_train = tf.train.GradientDescentOptimizer(0.2)\n",
    "            m2_vars = [o1.variables, o2.variables, o3.variables, o4.variables]\n",
    "\n",
    "            a1 = keras.layers.Dense(7, activation=tf.nn.relu)\n",
    "            a2 = keras.layers.Dense(5, activation=tf.nn.softmax)\n",
    "\n",
    "            users = a2(a1(y))\n",
    "            a_train = tf.train.GradientDescentOptimizer(0.08)\n",
    "            a_vars = [a1.variables, a2.variables]\n",
    "\n",
    "            m1_loss = tf.placeholder(tf.float32)\n",
    "            m2_loss = tf.placeholder(tf.float32)\n",
    "            adversary_loss = tf.placeholder(tf.float32)\n",
    "            privatizer_loss = tf.placeholder(tf.float32)\n",
    "            sanity_check = tf.placeholder(tf.float32)\n",
    "            penalty = tf.placeholder(tf.float32)\n",
    "            threshold = tf.placeholder(tf.float32)\n",
    "            testpoints = tf.placeholder(tf.float32)\n",
    "            grid = tf.placeholder(tf.float32)\n",
    "\n",
    "            sess.run(tf.global_variables_initializer())\n",
    "\n",
    "            m1_loss = tf.reduce_mean(tf.keras.losses.mean_squared_error(m1, m1_target))\n",
    "            m1_train = m1_train.minimize(m1_loss, var_list = m1_vars)\n",
    "\n",
    "            m2_loss = tf.reduce_mean(tf.keras.losses.mean_squared_error(m2, m2_target))\n",
    "            m2_train = m2_train.minimize(m2_loss, var_list = m2_vars)\n",
    "\n",
    "            adversary_loss = tf.reduce_mean(tf.keras.backend.sparse_categorical_crossentropy(trueusers, users))\n",
    "            a_train = a_train.minimize(adversary_loss, var_list = a_vars)\n",
    "\n",
    "            if strategy == \"GAP\":\n",
    "                combined = a2(a1(p5(p4(p3(p2(p1(x)))))))\n",
    "                p_train = tf.train.GradientDescentOptimizer(0.05)\n",
    "\n",
    "                sanity_check_train = tf.train.GradientDescentOptimizer(0.1)\n",
    "\n",
    "            testpoints = np.mgrid[-1.5:0.75:15j, -1.5:0.75:15j].reshape(2,-1).T\n",
    "            grid = tf.constant(testpoints, dtype=tf.float32)\n",
    "\n",
    "            penalty = tf.constant(PENALTY[P], dtype=tf.float32)\n",
    "            threshold = tf.constant(0, dtype=tf.float32)\n",
    "\n",
    "            zero = tf.constant(0, dtype=tf.float32)\n",
    "#             tf.reduce_mean(tf.squared_difference(i4(i3(i2(i1(grid)))),o4(o3(o2(o1(grid))))))\n",
    "            privatizer_loss = tf.subtract(tf.multiply(penalty, tf.math.maximum(zero, tf.subtract(tf.reduce_mean(tf.keras.losses.mean_squared_error(i4(i3(i2(i1(y[:,2:])))), \n",
    "                                                                                o4(o3(o2(o1(y[:,2:])))))), threshold))),\n",
    "                                          tf.reduce_mean(tf.keras.backend.sparse_categorical_crossentropy(trueusers, combined)))\n",
    "                        \n",
    "        \n",
    "#             privatizer_loss = tf.reduce_mean(tf.keras.losses.mean_squared_error(i4(i3(i2(i1(y[:,2:])))), \n",
    "#                                                                                 o4(o3(o2(o1(y[:,2:]))))))\n",
    "        \n",
    "            if strategy == \"GAP\":\n",
    "                p_train = p_train.minimize(privatizer_loss, var_list = p_vars)\n",
    "\n",
    "            sanity_check = tf.reduce_mean(tf.keras.losses.mean_squared_error(y, x))\n",
    "            sanity_check_train = sanity_check_train.minimize(sanity_check, var_list = p_vars)\n",
    "\n",
    "            delta1 = 1\n",
    "            delta2 = 0\n",
    "            count_iter = 0\n",
    "            max_iter = 100\n",
    "\n",
    "            while abs(delta1 - delta2) >= 0.0001 and count_iter < max_iter:\n",
    "\n",
    "                delta1 = privatizer_loss.eval(session=sess)\n",
    "                m2plot = train(m2_train, m2_loss, 1000, sess)\n",
    "                m1plot = train(m1_train, m1_loss, 1000, sess)\n",
    "                aplot = train(a_train, adversary_loss, 1000, sess)\n",
    "                pplot = train(p_train, privatizer_loss, 1, sess)\n",
    "                delta2 = privatizer_loss.eval(session=sess)\n",
    "\n",
    "                count_iter += 1\n",
    "                \n",
    "            index = int(I*P+i)\n",
    "            \n",
    "            map_error = tf.reduce_mean(tf.keras.losses.mean_squared_error(i4(i3(i2(i1(y[:,2:])))), \n",
    "                                                                                o4(o3(o2(o1(y[:,2:]))))))\n",
    "            print(map_error.eval(session=sess), adversary_loss.eval(session=sess))\n",
    "            \n",
    "            all_data[index] = [PENALTY[P], map_error.eval(session=sess), adversary_loss.eval(session=sess)]\n",
    "\n",
    "            tf.keras.backend.clear_session()\n",
    "            \n",
    "    return all_data\n",
    "            \n",
    "all_data = run_plot_automation()"
   ]
  },
  {
   "cell_type": "code",
   "execution_count": 58,
   "metadata": {},
   "outputs": [
    {
     "data": {
      "text/plain": [
       "array([[2.50000000e-01, 8.87276512e-03, 1.19344926e+00],\n",
       "       [2.50000000e-01, 9.03553590e-02, 6.36755824e-01],\n",
       "       [2.50000000e-01, 6.89489543e-02, 1.10413814e+00],\n",
       "       [2.50000000e-01, 1.21240616e-02, 1.24142361e+00],\n",
       "       [2.50000000e-01, 1.62486359e-02, 1.25637650e+00],\n",
       "       [2.50000000e-01, 2.30376516e-03, 1.31606305e+00],\n",
       "       [2.50000000e-01, 7.67687708e-02, 1.21441412e+00],\n",
       "       [2.50000000e-01, 5.65399751e-02, 2.63466024e+00],\n",
       "       [2.50000000e-01, 1.51455915e-03, 1.21256995e+00],\n",
       "       [2.50000000e-01, 7.72644184e-04, 1.24326777e+00],\n",
       "       [1.00000000e-01, 6.45942539e-02, 1.24518418e+00],\n",
       "       [1.00000000e-01, 4.39834408e-02, 1.23379064e+00],\n",
       "       [1.00000000e-01, 6.11507744e-02, 6.53597653e-01],\n",
       "       [1.00000000e-01, 1.74714730e-03, 1.25183308e+00],\n",
       "       [1.00000000e-01, 4.85447705e-01, 1.23963666e+00],\n",
       "       [1.00000000e-01, 6.80058375e-02, 1.27102137e+00],\n",
       "       [1.00000000e-01, 9.79323387e-02, 1.24458706e+00],\n",
       "       [1.00000000e-01, 1.03415385e-01, 1.24641836e+00],\n",
       "       [1.00000000e-01, 2.75465456e-04, 1.23356938e+00],\n",
       "       [1.00000000e-01, 1.26911119e-01, 1.60529941e-01],\n",
       "       [2.00000000e-01, 3.06244157e-02, 1.24594641e+00],\n",
       "       [2.00000000e-01, 1.79754883e-01, 1.64438501e-01],\n",
       "       [2.00000000e-01, 1.20686397e-01, 1.22865665e+00],\n",
       "       [2.00000000e-01, 3.91802341e-02, 1.24505460e+00],\n",
       "       [2.00000000e-01, 3.31753604e-02, 1.24341249e+00],\n",
       "       [2.00000000e-01, 6.21198751e-02, 1.65453002e-01],\n",
       "       [2.00000000e-01, 2.26634026e-01, 1.58137709e-01],\n",
       "       [2.00000000e-01, 5.03174663e-01, 1.25373554e+00],\n",
       "       [2.00000000e-01, 5.76031255e-03, 4.29033428e-01],\n",
       "       [2.00000000e-01, 3.08235198e-01, 6.32721603e-01]])"
      ]
     },
     "execution_count": 58,
     "metadata": {},
     "output_type": "execute_result"
    }
   ],
   "source": [
    "all_data"
   ]
  },
  {
   "cell_type": "code",
   "execution_count": 61,
   "metadata": {},
   "outputs": [],
   "source": [
    "GAP_data = np.append(GAP_data, all_data, axis=0)"
   ]
  },
  {
   "cell_type": "code",
   "execution_count": 54,
   "metadata": {},
   "outputs": [],
   "source": [
    "GAP_data = GAP_data[np.where(GAP_data[:,2] < 2)]"
   ]
  },
  {
   "cell_type": "code",
   "execution_count": 59,
   "metadata": {},
   "outputs": [],
   "source": [
    "lossprime_data = GAP_data"
   ]
  },
  {
   "cell_type": "code",
   "execution_count": 60,
   "metadata": {},
   "outputs": [],
   "source": [
    "np.savetxt(\"lossprime_data.txt\", lossprime_data)"
   ]
  },
  {
   "cell_type": "code",
   "execution_count": 50,
   "metadata": {},
   "outputs": [],
   "source": [
    "GAP_data = np.loadtxt(\"lossprime_data.txt\")"
   ]
  },
  {
   "cell_type": "code",
   "execution_count": 62,
   "metadata": {},
   "outputs": [
    {
     "data": {
      "text/plain": [
       "Text(0.5, 1.0, 'Privacy Utility Trade: Simple Privatizer, Worst Case Adversary')"
      ]
     },
     "execution_count": 62,
     "metadata": {},
     "output_type": "execute_result"
    },
    {
     "data": {
      "image/png": "[encoded data removed]",
      "text/plain": [
       "<Figure size 432x288 with 1 Axes>"
      ]
     },
     "metadata": {
      "needs_background": "light"
     },
     "output_type": "display_data"
    }
   ],
   "source": [
    "plt.scatter(GAP_data[:,2], GAP_data[:,1])\n",
    "plt.xlabel(\"Privacy\")\n",
    "plt.ylabel(\"Utility\")\n",
    "plt.title(\"Privacy Utility Trade: GAP Privatizer, Worst Case Adversary\")"
   ]
  },
  {
   "cell_type": "code",
   "execution_count": 63,
   "metadata": {},
   "outputs": [
    {
     "data": {
      "text/plain": [
       "Text(0.5, 1.0, 'Privacy Utility Trade: Simple Privatizer, Worst Case Adversary')"
      ]
     },
     "execution_count": 63,
     "metadata": {},
     "output_type": "execute_result"
    },
    {
     "data": {
      "image/png": "[encoded data removed]",
      "text/plain": [
       "<Figure size 720x720 with 1 Axes>"
      ]
     },
     "metadata": {
      "needs_background": "light"
     },
     "output_type": "display_data"
    }
   ],
   "source": [
    "fig = plt.figure(figsize=(10,10))\n",
    "for i in np.unique(GAP_data[:,0]):\n",
    "    indices = np.where(GAP_data[:,0]==i)\n",
    "    plt.scatter(np.mean(GAP_data[indices][:,2]), np.mean(GAP_data[indices][:,1]))\n",
    "    plt.text(np.mean(GAP_data[indices][:,2]), np.mean(GAP_data[indices][:,1]), str(GAP_data[indices][0][0]))\n",
    "plt.xlabel(\"Adversary Error\")\n",
    "plt.ylabel(\"Map Error\")\n",
    "plt.title(\"Privacy Utility Trade: GAP Privatizer, Worst Case Adversary\")"
   ]
  },
  {
   "cell_type": "code",
   "execution_count": 73,
   "metadata": {},
   "outputs": [
    {
     "name": "stdout",
     "output_type": "stream",
     "text": [
      "0.06813439 0.048997484\n",
      "0.07289104 0.046035867\n",
      "0.14664736 0.053235434\n",
      "0.07063643 0.052061178\n",
      "0.2317269 0.052218568\n",
      "0.11332562 0.04463833\n",
      "0.039666437 0.050692353\n",
      "0.3859174 0.048148528\n",
      "0.20480968 0.0790122\n",
      "0.044404265 0.04774627\n",
      "0.32893056 0.18171254\n",
      "0.19681808 0.17256886\n",
      "0.30462703 0.16517156\n",
      "0.1509953 0.17415406\n",
      "0.4414911 0.1586371\n",
      "0.47086182 0.11137522\n",
      "0.5566961 0.12730457\n",
      "0.27682504 0.1303657\n",
      "0.17294654 0.1352944\n",
      "0.25421622 0.1319048\n",
      "0.37194398 0.33549163\n",
      "0.31152987 0.33782274\n",
      "0.31543642 0.37322858\n",
      "0.33612683 0.31815633\n",
      "0.1676735 0.33648768\n",
      "0.37776023 0.3065117\n",
      "0.29293123 0.32859516\n",
      "0.12344091 0.34667858\n",
      "1.0611485 0.34688076\n",
      "0.19143444 0.34286758\n",
      "15.704747 0.8956775\n",
      "8.463596 0.83057576\n",
      "7.0320067 0.95092696\n",
      "31.702314 0.9720219\n",
      "7.166139 1.0731243\n",
      "3.2833862 0.8644207\n",
      "12.649467 0.98550445\n",
      "24.268372 0.95903206\n",
      "21.04526 1.0356392\n",
      "7.6241975 1.060118\n"
     ]
    }
   ],
   "source": [
    "NOISE = [0.25, 0.5, 0.75, 5]\n",
    "all_data = np.empty((10*len(NOISE),3))\n",
    "average_data = np.empty((6,3))\n",
    "\n",
    "for N in range(len(NOISE)):\n",
    "\n",
    "    for i in range(10):\n",
    "\n",
    "        strategy = \"simple\"\n",
    "\n",
    "        sess = tf.Session()\n",
    "        keras.backend.set_session(sess)\n",
    "\n",
    "        x, trueusers = sampleChania(Chania, 100)\n",
    "\n",
    "        if strategy == \"simple\":\n",
    "            yarray = x.eval(session=sess) + np.random.normal(scale=NOISE[N], size=(100,4))\n",
    "            y = tf.constant(yarray, tf.float32)\n",
    "\n",
    "        i1 = keras.layers.Dense(4, activation=tf.nn.relu)\n",
    "        i2 = keras.layers.Dense(4, activation=tf.nn.relu)\n",
    "        i3 = keras.layers.Dense(4, activation=tf.nn.relu)\n",
    "        i4 = keras.layers.Dense(1)\n",
    "\n",
    "        m1 = i4(i3(i2(i1(x[:,2:]))))\n",
    "        m1_target = tf.keras.backend.reshape(x[:,1], (100,1))\n",
    "        m1_train = tf.train.GradientDescentOptimizer(0.2)\n",
    "        m1_vars = [i1.variables, i2.variables, i3.variables, i4.variables]\n",
    "\n",
    "        o1 = keras.layers.Dense(4, activation=tf.nn.relu)\n",
    "        o2 = keras.layers.Dense(4, activation=tf.nn.relu)\n",
    "        o3 = keras.layers.Dense(4, activation=tf.nn.relu)\n",
    "        o4 = keras.layers.Dense(1)\n",
    "\n",
    "        m2 = o4(o3(o2(o1(y[:,2:]))))\n",
    "        m2_target = tf.keras.backend.reshape(y[:,1], (100,1))\n",
    "        m2_train = tf.train.GradientDescentOptimizer(0.2)\n",
    "        m2_vars = [o1.variables, o2.variables, o3.variables, o4.variables]\n",
    "\n",
    "        a1 = keras.layers.Dense(7, activation=tf.nn.relu)\n",
    "        a2 = keras.layers.Dense(5, activation=tf.nn.softmax)\n",
    "\n",
    "        users = a2(a1(y))\n",
    "        a_train = tf.train.GradientDescentOptimizer(0.08)\n",
    "        a_vars = [a1.variables, a2.variables]\n",
    "\n",
    "        m1_loss = tf.placeholder(tf.float32)\n",
    "        m2_loss = tf.placeholder(tf.float32)\n",
    "        map_error = tf.placeholder(tf.float32)\n",
    "        adversary_loss = tf.placeholder(tf.float32)\n",
    "        privatizer_loss = tf.placeholder(tf.float32)\n",
    "        penalty = tf.placeholder(tf.float32)\n",
    "        threshold = tf.placeholder(tf.float32)\n",
    "        testpoints = tf.placeholder(tf.float32)\n",
    "        grid = tf.placeholder(tf.float32)\n",
    "\n",
    "        sess.run(tf.global_variables_initializer())\n",
    "\n",
    "        m1_loss = tf.reduce_mean(tf.keras.losses.mean_squared_error(m1, m1_target))\n",
    "        m1_train = m1_train.minimize(m1_loss, var_list = m1_vars)\n",
    "\n",
    "        m2_loss = tf.reduce_mean(tf.keras.losses.mean_squared_error(m2, m2_target))\n",
    "        m2_train = m2_train.minimize(m2_loss, var_list = m2_vars)\n",
    "\n",
    "        adversary_loss = tf.reduce_mean(tf.keras.backend.sparse_categorical_crossentropy(trueusers, users))\n",
    "        a_train = a_train.minimize(adversary_loss, var_list = a_vars)\n",
    "\n",
    "        if strategy == \"simple\":\n",
    "            combined = a2(a1(y))\n",
    "\n",
    "        testpoints = np.mgrid[-1.5:0.75:15j, -1.5:0.75:15j].reshape(2,-1).T\n",
    "        grid = tf.constant(testpoints, dtype=tf.float32)\n",
    "        map_error = tf.reduce_mean(tf.keras.losses.mean_squared_error(i4(i3(i2(i1(y[:,2:])))), \n",
    "                                                                                o4(o3(o2(o1(y[:,2:]))))))\n",
    "        def train(trainstep, trainloss, max_iter, session):\n",
    "            plotlist = []\n",
    "            delta1 = 100\n",
    "            delta2 = 0\n",
    "            count_iter = 0\n",
    "            while abs(delta1 - delta2) >= 0.0001 and count_iter < max_iter:\n",
    "                count_iter += 1\n",
    "                delta1 = trainloss.eval(session=session)\n",
    "                trainstep.run(session=session)\n",
    "                delta2 = trainloss.eval(session=session)\n",
    "                plotlist.append(trainloss.eval(session=session))\n",
    "            return plotlist\n",
    "\n",
    "        if strategy == \"simple\":\n",
    "\n",
    "            m2plot = train(m2_train, m2_loss, 1000, sess)    \n",
    "            m1plot = train(m1_train, m1_loss, 1000, sess)\n",
    "            aplot = train(a_train, adversary_loss, 1000, sess)    \n",
    "            print(map_error.eval(session=sess), adversary_loss.eval(session=sess))\n",
    "\n",
    "        index = int(10*N+i)\n",
    "        all_data[index] = [NOISE[N], map_error.eval(session=sess), adversary_loss.eval(session=sess)]\n",
    "        \n",
    "        tf.keras.backend.clear_session()\n",
    "\n",
    "    average_data[N] = [NOISE[N], np.mean(all_data[np.where(all_data[:,0]==NOISE[N])][:,1]), np.mean(all_data[np.where(all_data[:,0]==NOISE[N])][:,2])]\n"
   ]
  },
  {
   "cell_type": "code",
   "execution_count": 66,
   "metadata": {},
   "outputs": [],
   "source": [
    "all_data = all_data[np.where(np.isnan(all_data[:,1])==False)]"
   ]
  },
  {
   "cell_type": "code",
   "execution_count": 108,
   "metadata": {},
   "outputs": [],
   "source": [
    "# true_data = np.loadtxt(\"SimpleDataWorstAdversary\")"
   ]
  },
  {
   "cell_type": "code",
   "execution_count": 74,
   "metadata": {},
   "outputs": [],
   "source": [
    "true_data = np.append(true_data, all_data, axis=0)\n",
    "# true_data = all_data"
   ]
  },
  {
   "cell_type": "code",
   "execution_count": 75,
   "metadata": {
    "scrolled": true
   },
   "outputs": [
    {
     "data": {
      "text/plain": [
       "Text(0.5, 1.0, 'Privacy Utility Trade: Simple Privatizer, Worst Case Adversary')"
      ]
     },
     "execution_count": 75,
     "metadata": {},
     "output_type": "execute_result"
    },
    {
     "data": {
      "image/png": "[encoded data removed]",
      "text/plain": [
       "<Figure size 432x288 with 1 Axes>"
      ]
     },
     "metadata": {
      "needs_background": "light"
     },
     "output_type": "display_data"
    }
   ],
   "source": [
    "plt.scatter(true_data[:,2], true_data[:,1])\n",
    "plt.xlabel(\"Adversary Error\")\n",
    "plt.ylabel(\"Map Error\")\n",
    "plt.title(\"Privacy Utility Trade: Simple Privatizer, Worst Case Adversary\")"
   ]
  },
  {
   "cell_type": "code",
   "execution_count": 76,
   "metadata": {},
   "outputs": [
    {
     "data": {
      "text/plain": [
       "Text(0.5, 1.0, 'Privacy Utility Trade: Simple Privatizer, Worst Case Adversary')"
      ]
     },
     "execution_count": 76,
     "metadata": {},
     "output_type": "execute_result"
    },
    {
     "data": {
      "image/png": "[encoded data removed]",
      "text/plain": [
       "<Figure size 720x720 with 1 Axes>"
      ]
     },
     "metadata": {
      "needs_background": "light"
     },
     "output_type": "display_data"
    }
   ],
   "source": [
    "fig = plt.figure(figsize=(10,10))\n",
    "for i in np.unique(true_data[:,0]):\n",
    "    indices = np.where(true_data[:,0]==i)\n",
    "    plt.scatter(np.mean(true_data[indices][:,2]), np.mean(true_data[indices][:,1]))\n",
    "    plt.plot(np.mean(true_data[indices][:,2]), np.mean(true_data[indices][:,1]))\n",
    "    plt.text(np.mean(true_data[indices][:,2]), np.mean(true_data[indices][:,1]), str(true_data[indices][0][0]))\n",
    "plt.xlabel(\"Adversary Error\")\n",
    "plt.ylabel(\"Map Error\")\n",
    "plt.title(\"Privacy Utility Trade: Simple Privatizer, Worst Case Adversary\")"
   ]
  },
  {
   "cell_type": "code",
   "execution_count": null,
   "metadata": {},
   "outputs": [],
   "source": []
  }
 ],
 "metadata": {
  "kernelspec": {
   "display_name": "Python 3",
   "language": "python",
   "name": "python3"
  },
  "language_info": {
   "codemirror_mode": {
    "name": "ipython",
    "version": 3
   },
   "file_extension": ".py",
   "mimetype": "text/x-python",
   "name": "python",
   "nbconvert_exporter": "python",
   "pygments_lexer": "ipython3",
   "version": "3.6.6"
  }
 },
 "nbformat": 4,
 "nbformat_minor": 2
}

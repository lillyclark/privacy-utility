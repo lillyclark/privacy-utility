{
 "cells": [
  {
   "cell_type": "code",
   "execution_count": 1,
   "metadata": {},
   "outputs": [],
   "source": [
    "import numpy as np\n",
    "import random\n",
    "import os\n",
    "\n",
    "import tensorflow as tf\n",
    "from tensorflow import keras\n",
    "import numpy as np\n",
    "import matplotlib.pyplot as plt\n",
    "\n",
    "from mpl_toolkits.mplot3d import Axes3D\n",
    "\n",
    "def norm_x(x):\n",
    "    for col in range(x.shape[1]):\n",
    "        vals = x[:,col]\n",
    "        vals = (vals-np.mean(vals))/np.std(vals)\n",
    "        x[:,col] = vals\n",
    "    return x\n",
    "\n",
    "def sampleChania(Chania, n_points):\n",
    "    np.random.seed(4)\n",
    "    data = Chania[:,0:8]\n",
    "    order = np.argsort(np.random.random(data.shape[0]))\n",
    "    x = data[order][:n_points, 1:5]   \n",
    "    trueusers = data[order][:n_points,0]\n",
    "    n_clusters = 5\n",
    "    x = norm_x(x)\n",
    "    return tf.constant(x, dtype=tf.float32), tf.constant(trueusers, dtype=tf.float32)\n",
    "\n",
    "Chania = np.genfromtxt('processedChania.csv', delimiter=',')\n",
    "\n",
    "Chania = Chania[np.where(Chania[:,2]<99)]"
   ]
  },
  {
   "cell_type": "code",
   "execution_count": 77,
   "metadata": {},
   "outputs": [],
   "source": [
    "# NOISE = [50]\n",
    "# all_data = np.empty((10*len(NOISE),3))\n",
    "# average_data = np.empty((6,3))\n",
    "\n",
    "# for N in range(len(NOISE)):\n",
    "\n",
    "#     for i in range(10):\n",
    "\n",
    "#         strategy = \"simple\"\n",
    "\n",
    "#         sess = tf.Session()\n",
    "#         keras.backend.set_session(sess)\n",
    "\n",
    "#         x, trueusers = sampleChania(Chania, 100)\n",
    "\n",
    "#         if strategy == \"simple\":\n",
    "#             yarray = x.eval(session=sess) + np.random.normal(scale=NOISE[N], size=(100,4))\n",
    "#             y = tf.constant(yarray, tf.float32)\n",
    "\n",
    "#         i1 = keras.layers.Dense(4, activation=tf.nn.relu)\n",
    "#         i2 = keras.layers.Dense(4, activation=tf.nn.relu)\n",
    "#         i3 = keras.layers.Dense(4, activation=tf.nn.relu)\n",
    "#         i4 = keras.layers.Dense(1)\n",
    "\n",
    "#         m1 = i4(i3(i2(i1(x[:,2:]))))\n",
    "#         m1_target = tf.keras.backend.reshape(x[:,1], (100,1))\n",
    "#         m1_train = tf.train.GradientDescentOptimizer(0.2)\n",
    "#         m1_vars = [i1.variables, i2.variables, i3.variables, i4.variables]\n",
    "\n",
    "#         o1 = keras.layers.Dense(4, activation=tf.nn.relu)\n",
    "#         o2 = keras.layers.Dense(4, activation=tf.nn.relu)\n",
    "#         o3 = keras.layers.Dense(4, activation=tf.nn.relu)\n",
    "#         o4 = keras.layers.Dense(1)\n",
    "\n",
    "#         m2 = o4(o3(o2(o1(y[:,2:]))))\n",
    "#         m2_target = tf.keras.backend.reshape(y[:,1], (100,1))\n",
    "#         m2_train = tf.train.GradientDescentOptimizer(0.2)\n",
    "#         m2_vars = [o1.variables, o2.variables, o3.variables, o4.variables]\n",
    "\n",
    "#         a1 = keras.layers.Dense(7, activation=tf.nn.relu)\n",
    "#         a2 = keras.layers.Dense(5, activation=tf.nn.softmax)\n",
    "\n",
    "#         users = a2(a1(y))\n",
    "#         a_train = tf.train.GradientDescentOptimizer(0.08)\n",
    "#         a_vars = [a1.variables, a2.variables]\n",
    "\n",
    "#         m1_loss = tf.placeholder(tf.float32)\n",
    "#         m2_loss = tf.placeholder(tf.float32)\n",
    "#         map_error = tf.placeholder(tf.float32)\n",
    "#         adversary_loss = tf.placeholder(tf.float32)\n",
    "#         privatizer_loss = tf.placeholder(tf.float32)\n",
    "#         penalty = tf.placeholder(tf.float32)\n",
    "#         threshold = tf.placeholder(tf.float32)\n",
    "#         testpoints = tf.placeholder(tf.float32)\n",
    "#         grid = tf.placeholder(tf.float32)\n",
    "\n",
    "#         sess.run(tf.global_variables_initializer())\n",
    "\n",
    "#         m1_loss = tf.reduce_mean(tf.keras.losses.mean_squared_error(m1, m1_target))\n",
    "#         m1_train = m1_train.minimize(m1_loss, var_list = m1_vars)\n",
    "\n",
    "#         m2_loss = tf.reduce_mean(tf.keras.losses.mean_squared_error(m2, m2_target))\n",
    "#         m2_train = m2_train.minimize(m2_loss, var_list = m2_vars)\n",
    "\n",
    "#         adversary_loss = tf.reduce_mean(tf.keras.backend.sparse_categorical_crossentropy(trueusers, users))\n",
    "#         a_train = a_train.minimize(adversary_loss, var_list = a_vars)\n",
    "\n",
    "#         if strategy == \"simple\":\n",
    "#             combined = a2(a1(y))\n",
    "\n",
    "#         testpoints = np.mgrid[-1.5:0.75:15j, -1.5:0.75:15j].reshape(2,-1).T\n",
    "#         grid = tf.constant(testpoints, dtype=tf.float32)\n",
    "#         map_error = tf.reduce_mean(tf.squared_difference(\n",
    "#             i4(i3(i2(i1(grid)))),\n",
    "#             o4(o3(o2(o1(grid))))))\n",
    "\n",
    "#         def train(trainstep, trainloss, max_iter, session):\n",
    "#             plotlist = []\n",
    "#             delta1 = 100\n",
    "#             delta2 = 0\n",
    "#             count_iter = 0\n",
    "#             while abs(delta1 - delta2) >= 0.0001 and count_iter < max_iter:\n",
    "#                 count_iter += 1\n",
    "#                 delta1 = trainloss.eval(session=session)\n",
    "#                 trainstep.run(session=session)\n",
    "#                 delta2 = trainloss.eval(session=session)\n",
    "#                 plotlist.append(trainloss.eval(session=session))\n",
    "#             return plotlist\n",
    "\n",
    "\n",
    "#         penalty = tf.constant(2.5, dtype=tf.float32)\n",
    "#         threshold = tf.constant(0, dtype=tf.float32)\n",
    "\n",
    "#         zero = tf.constant(0, dtype=tf.float32)\n",
    "#         privatizer_loss = tf.subtract(tf.multiply(penalty, tf.math.maximum(zero, tf.subtract(map_error, threshold))), \n",
    "#                                       tf.reduce_mean(tf.keras.backend.sparse_categorical_crossentropy(trueusers, combined)))\n",
    "\n",
    "#         if strategy == \"GAP\":\n",
    "#             p_train = p_train.minimize(privatizer_loss, var_list = p_vars)\n",
    "\n",
    "#         if strategy == \"simple\":\n",
    "\n",
    "#             m2plot = train(m2_train, m2_loss, 1000, sess)    \n",
    "#             m1plot = train(m1_train, m1_loss, 1000, sess)\n",
    "#             aplot = train(a_train, adversary_loss, 1000, sess)    \n",
    "#             print(map_error.eval(session=sess), adversary_loss.eval(session=sess))\n",
    "\n",
    "#         index = int(10*N+i)\n",
    "#         all_data[index] = [NOISE[N], map_error.eval(session=sess), adversary_loss.eval(session=sess)]\n",
    "        \n",
    "#         tf.keras.backend.clear_session()\n",
    "\n",
    "#     average_data[N] = [NOISE[N], np.mean(all_data[np.where(all_data[:,0]==NOISE[N])][:,1]), np.mean(all_data[np.where(all_data[:,0]==NOISE[N])][:,2])]\n"
   ]
  },
  {
   "cell_type": "code",
   "execution_count": 103,
   "metadata": {},
   "outputs": [],
   "source": [
    "# all_data = all_data[np.where(np.isnan(all_data[:,1])==False)]"
   ]
  },
  {
   "cell_type": "code",
   "execution_count": 68,
   "metadata": {},
   "outputs": [],
   "source": [
    "true_data = np.loadtxt(\"SimpleDataWorstAdversary\")"
   ]
  },
  {
   "cell_type": "code",
   "execution_count": 109,
   "metadata": {},
   "outputs": [],
   "source": [
    "# true_data = np.append(true_data, all_data, axis=0)"
   ]
  },
  {
   "cell_type": "code",
   "execution_count": 69,
   "metadata": {
    "scrolled": true
   },
   "outputs": [
    {
     "data": {
      "text/plain": [
       "Text(0.5, 1.0, 'Privacy Utility Trade: Simple Privatizer, Worst Case Adversary')"
      ]
     },
     "execution_count": 69,
     "metadata": {},
     "output_type": "execute_result"
    },
    {
     "data": {
      "image/png": "[encoded data removed]",
      "text/plain": [
       "<Figure size 432x288 with 1 Axes>"
      ]
     },
     "metadata": {
      "needs_background": "light"
     },
     "output_type": "display_data"
    }
   ],
   "source": [
    "plt.scatter(true_data[:,2], true_data[:,1])\n",
    "plt.xlabel(\"Adversary Error\")\n",
    "plt.ylabel(\"Map Error\")\n",
    "plt.title(\"Privacy Utility Trade: Simple Privatizer, Worst Case Adversary\")"
   ]
  },
  {
   "cell_type": "code",
   "execution_count": 122,
   "metadata": {},
   "outputs": [
    {
     "data": {
      "text/plain": [
       "Text(0.5, 1.0, 'Privacy Utility Trade: Simple Privatizer, Worst Case Adversary')"
      ]
     },
     "execution_count": 122,
     "metadata": {},
     "output_type": "execute_result"
    },
    {
     "data": {
      "image/png": "[encoded data removed]",
      "text/plain": [
       "<Figure size 720x720 with 1 Axes>"
      ]
     },
     "metadata": {
      "needs_background": "light"
     },
     "output_type": "display_data"
    }
   ],
   "source": [
    "fig = plt.figure(figsize=(10,10))\n",
    "for i in np.unique(true_data[:,0]):\n",
    "    indices = np.where(true_data[:,0]==i)\n",
    "    plt.scatter(np.mean(true_data[indices][:,2]), np.mean(true_data[indices][:,1]))\n",
    "    plt.plot(np.mean(true_data[indices][:,2]), np.mean(true_data[indices][:,1]))\n",
    "    plt.text(np.mean(true_data[indices][:,2]), np.mean(true_data[indices][:,1]), str(true_data[indices][0][0]))\n",
    "plt.xlabel(\"Adversary Error\")\n",
    "plt.ylabel(\"Map Error\")\n",
    "plt.title(\"Privacy Utility Trade: Simple Privatizer, Worst Case Adversary\")"
   ]
  },
  {
   "cell_type": "code",
   "execution_count": 2,
   "metadata": {},
   "outputs": [],
   "source": [
    "def train(trainstep, trainloss, max_iter, session):\n",
    "    plotlist = []\n",
    "    delta1 = 100\n",
    "    delta2 = 0\n",
    "    count_iter = 0\n",
    "    while abs(delta1 - delta2) >= 0.0001 and count_iter < max_iter:\n",
    "        count_iter += 1\n",
    "        delta1 = trainloss.eval(session=session)\n",
    "        trainstep.run(session=session)\n",
    "        delta2 = trainloss.eval(session=session)\n",
    "        plotlist.append(trainloss.eval(session=session))\n",
    "    return plotlist"
   ]
  },
  {
   "cell_type": "code",
   "execution_count": 94,
   "metadata": {
    "scrolled": false
   },
   "outputs": [
    {
     "name": "stdout",
     "output_type": "stream",
     "text": [
      "32802.324 11.443848\n",
      "6785.8174 11.443848\n",
      "19546.467 9.993219\n",
      "1819.1592 11.443848\n",
      "2.5617476 1.2711133\n",
      "1271.607 11.443848\n",
      "19042.21 11.76621\n",
      "nan nan\n",
      "314.5246 11.76621\n",
      "60.457542 1.0916834\n",
      "nan nan\n",
      "0.00010659731 1.251729\n",
      "553.9536 11.443848\n",
      "10.242426 1.2492651\n",
      "8.6570835e-05 1.2614437\n",
      "0.00017895621 1.2701985\n",
      "0.004456707 1.258527\n",
      "nan nan\n",
      "4.057613 15.151012\n",
      "8.518927e-06 11.76621\n",
      "2.9845718e-05 11.443848\n",
      "nan nan\n",
      "1.1242706e-05 1.2519293\n",
      "0.30008197 1.2502893\n",
      "4.1875875e-05 11.443848\n",
      "1.5293266e-05 1.2496184\n",
      "0.37470177 1.2495518\n",
      "1.9330122e-05 1.257603\n",
      "0.12903167 11.76621\n",
      "3.3015226e-09 1.249983\n"
     ]
    }
   ],
   "source": [
    "def run_plot_automation():\n",
    "\n",
    "    PENALTY = [0.0, 1.0, 5.0]\n",
    "    I = 10\n",
    "    all_data = np.empty((I*len(PENALTY),3))\n",
    "\n",
    "    for P in range(len(PENALTY)):\n",
    "\n",
    "        for i in range(I):\n",
    "\n",
    "            strategy = \"GAP\"\n",
    "\n",
    "            sess = tf.Session()\n",
    "            keras.backend.set_session(sess)\n",
    "\n",
    "            x, trueusers = sampleChania(Chania, 100)\n",
    "\n",
    "            if strategy == \"GAP\":\n",
    "\n",
    "                init = keras.initializers.Identity(gain=1.0)\n",
    "                p1 = keras.layers.Dense(4, kernel_initializer=init, activation=tf.nn.relu)\n",
    "                p2 = keras.layers.Dense(4, kernel_initializer=init, activation=tf.nn.relu)\n",
    "                p3 = keras.layers.Dense(4, kernel_initializer=init, activation=tf.nn.relu)\n",
    "                p4 = keras.layers.Dense(4, kernel_initializer=init, activation=tf.nn.relu)\n",
    "                p5 = keras.layers.Dense(4, kernel_initializer=init)\n",
    "\n",
    "                y = p5(p4(p3(p2(p1(x)))))\n",
    "                p_vars = [p1.variables, p2.variables, p3.variables, p4.variables, p5.variables]\n",
    "\n",
    "            i1 = keras.layers.Dense(4, activation=tf.nn.relu)\n",
    "            i2 = keras.layers.Dense(4, activation=tf.nn.relu)\n",
    "            i3 = keras.layers.Dense(4, activation=tf.nn.relu)\n",
    "            i4 = keras.layers.Dense(1)\n",
    "\n",
    "            m1 = i4(i3(i2(i1(x[:,2:]))))\n",
    "            m1_target = tf.keras.backend.reshape(x[:,1], (100,1))\n",
    "            m1_train = tf.train.GradientDescentOptimizer(0.2)\n",
    "            m1_vars = [i1.variables, i2.variables, i3.variables, i4.variables]\n",
    "\n",
    "            o1 = keras.layers.Dense(4, activation=tf.nn.relu)\n",
    "            o2 = keras.layers.Dense(4, activation=tf.nn.relu)\n",
    "            o3 = keras.layers.Dense(4, activation=tf.nn.relu)\n",
    "            o4 = keras.layers.Dense(1)\n",
    "\n",
    "            m2 = o4(o3(o2(o1(y[:,2:]))))\n",
    "            m2_target = tf.keras.backend.reshape(y[:,1], (100,1))\n",
    "            m2_train = tf.train.GradientDescentOptimizer(0.2)\n",
    "            m2_vars = [o1.variables, o2.variables, o3.variables, o4.variables]\n",
    "\n",
    "            a1 = keras.layers.Dense(7, activation=tf.nn.relu)\n",
    "            a2 = keras.layers.Dense(5, activation=tf.nn.softmax)\n",
    "\n",
    "            users = a2(a1(y))\n",
    "            a_train = tf.train.GradientDescentOptimizer(0.08)\n",
    "            a_vars = [a1.variables, a2.variables]\n",
    "\n",
    "            m1_loss = tf.placeholder(tf.float32)\n",
    "            m2_loss = tf.placeholder(tf.float32)\n",
    "            adversary_loss = tf.placeholder(tf.float32)\n",
    "            privatizer_loss = tf.placeholder(tf.float32)\n",
    "            penalty = tf.placeholder(tf.float32)\n",
    "            threshold = tf.placeholder(tf.float32)\n",
    "            testpoints = tf.placeholder(tf.float32)\n",
    "            grid = tf.placeholder(tf.float32)\n",
    "\n",
    "            sess.run(tf.global_variables_initializer())\n",
    "\n",
    "            m1_loss = tf.reduce_mean(tf.keras.losses.mean_squared_error(m1, m1_target))\n",
    "            m1_train = m1_train.minimize(m1_loss, var_list = m1_vars)\n",
    "\n",
    "            m2_loss = tf.reduce_mean(tf.keras.losses.mean_squared_error(m2, m2_target))\n",
    "            m2_train = m2_train.minimize(m2_loss, var_list = m2_vars)\n",
    "\n",
    "            adversary_loss = tf.reduce_mean(tf.keras.backend.sparse_categorical_crossentropy(trueusers, users))\n",
    "            a_train = a_train.minimize(adversary_loss, var_list = a_vars)\n",
    "\n",
    "            if strategy == \"GAP\":\n",
    "                combined = a2(a1(p5(p4(p3(p2(p1(x)))))))\n",
    "                lr = (PENALTY[P]+5)/10\n",
    "                p_train = tf.train.GradientDescentOptimizer(0.5)\n",
    "                \n",
    "            testpoints = np.mgrid[-1.5:0.75:15j, -1.5:0.75:15j].reshape(2,-1).T\n",
    "            grid = tf.constant(testpoints, dtype=tf.float32)\n",
    "\n",
    "            penalty = tf.constant(PENALTY[P], dtype=tf.float32)\n",
    "            threshold = tf.constant(0, dtype=tf.float32)\n",
    "\n",
    "            zero = tf.constant(0, dtype=tf.float32)\n",
    "            privatizer_loss = tf.subtract(tf.multiply(penalty, tf.math.maximum(zero, tf.subtract(tf.reduce_mean(tf.keras.losses.mean_squared_error(i4(i3(i2(i1(y[:,2:])))), \n",
    "                                                                                o4(o3(o2(o1(y[:,2:])))))), threshold))),\n",
    "                                          tf.reduce_mean(tf.keras.backend.sparse_categorical_crossentropy(trueusers, combined)))\n",
    "                                          \n",
    "            if strategy == \"GAP\":\n",
    "                p_train = p_train.minimize(privatizer_loss, var_list = p_vars)\n",
    "\n",
    "\n",
    "            delta1 = 1\n",
    "            delta2 = 0\n",
    "            count_iter = 0\n",
    "            max_iter = 200\n",
    "\n",
    "            while abs(delta1 - delta2) >= 0.0001 and count_iter < max_iter:\n",
    "\n",
    "                delta1 = privatizer_loss.eval(session=sess)\n",
    "                m2plot = train(m2_train, m2_loss, 100, sess)\n",
    "                m1plot = train(m1_train, m1_loss, 100, sess)\n",
    "                aplot = train(a_train, adversary_loss, 100, sess)\n",
    "#                 print(privatizer_loss.eval(session=sess))\n",
    "                pplot = train(p_train, privatizer_loss, 5, sess)\n",
    "                delta2 = privatizer_loss.eval(session=sess)\n",
    "\n",
    "                count_iter += 1\n",
    "                \n",
    "            index = int(I*P+i)\n",
    "            \n",
    "            map_error = tf.reduce_mean(tf.keras.losses.mean_squared_error(i4(i3(i2(i1(y[:,2:])))), \n",
    "                                                                                o4(o3(o2(o1(y[:,2:]))))))\n",
    "            print(map_error.eval(session=sess), adversary_loss.eval(session=sess))\n",
    "            \n",
    "            all_data[index] = [PENALTY[P], map_error.eval(session=sess), adversary_loss.eval(session=sess)]\n",
    "\n",
    "            tf.keras.backend.clear_session()\n",
    "            \n",
    "    return all_data\n",
    "            \n",
    "all_data = run_plot_automation()"
   ]
  },
  {
   "cell_type": "code",
   "execution_count": 95,
   "metadata": {},
   "outputs": [
    {
     "data": {
      "text/plain": [
       "array([[0.00000000e+00, 3.28023242e+04, 1.14438477e+01],\n",
       "       [0.00000000e+00, 6.78581738e+03, 1.14438477e+01],\n",
       "       [0.00000000e+00, 1.95464668e+04, 9.99321938e+00],\n",
       "       [0.00000000e+00, 1.81915918e+03, 1.14438477e+01],\n",
       "       [0.00000000e+00, 2.56174755e+00, 1.27111328e+00],\n",
       "       [0.00000000e+00, 1.27160706e+03, 1.14438477e+01],\n",
       "       [0.00000000e+00, 1.90422109e+04, 1.17662096e+01],\n",
       "       [0.00000000e+00, 3.14524597e+02, 1.17662096e+01],\n",
       "       [0.00000000e+00, 6.04575424e+01, 1.09168339e+00],\n",
       "       [1.00000000e+00, 1.06597312e-04, 1.25172901e+00],\n",
       "       [1.00000000e+00, 5.53953613e+02, 1.14438477e+01],\n",
       "       [1.00000000e+00, 1.02424259e+01, 1.24926507e+00],\n",
       "       [1.00000000e+00, 8.65708353e-05, 1.26144373e+00],\n",
       "       [1.00000000e+00, 1.78956208e-04, 1.27019846e+00],\n",
       "       [1.00000000e+00, 4.45670681e-03, 1.25852704e+00],\n",
       "       [1.00000000e+00, 4.05761290e+00, 1.51510124e+01],\n",
       "       [1.00000000e+00, 8.51892673e-06, 1.17662096e+01],\n",
       "       [5.00000000e+00, 2.98457180e-05, 1.14438477e+01],\n",
       "       [5.00000000e+00, 1.12427060e-05, 1.25192928e+00],\n",
       "       [5.00000000e+00, 3.00081968e-01, 1.25028932e+00],\n",
       "       [5.00000000e+00, 4.18758755e-05, 1.14438477e+01],\n",
       "       [5.00000000e+00, 1.52932662e-05, 1.24961841e+00],\n",
       "       [5.00000000e+00, 3.74701768e-01, 1.24955177e+00],\n",
       "       [5.00000000e+00, 1.93301221e-05, 1.25760305e+00],\n",
       "       [5.00000000e+00, 1.29031673e-01, 1.17662096e+01],\n",
       "       [5.00000000e+00, 3.30152261e-09, 1.24998295e+00]])"
      ]
     },
     "execution_count": 95,
     "metadata": {},
     "output_type": "execute_result"
    }
   ],
   "source": [
    "all_data = all_data[np.where(np.isnan(all_data[:,1])==False)]\n",
    "all_data"
   ]
  },
  {
   "cell_type": "code",
   "execution_count": 96,
   "metadata": {},
   "outputs": [],
   "source": [
    "GAP_data = all_data"
   ]
  },
  {
   "cell_type": "code",
   "execution_count": 75,
   "metadata": {},
   "outputs": [],
   "source": [
    "GAP_data = np.append(GAP_data, all_data, axis=0)"
   ]
  },
  {
   "cell_type": "code",
   "execution_count": 54,
   "metadata": {},
   "outputs": [],
   "source": [
    "GAP_data = GAP_data[np.where(GAP_data[:,2] < 10)]"
   ]
  },
  {
   "cell_type": "code",
   "execution_count": 89,
   "metadata": {},
   "outputs": [],
   "source": [
    "higherlearningrate = GAP_data"
   ]
  },
  {
   "cell_type": "code",
   "execution_count": 90,
   "metadata": {},
   "outputs": [],
   "source": [
    "np.savetxt(\"higherlearningrate.txt\", higherlearningrate)"
   ]
  },
  {
   "cell_type": "code",
   "execution_count": 3,
   "metadata": {},
   "outputs": [],
   "source": [
    "GAP_data = np.loadtxt(\"higherlearningrate.txt\")"
   ]
  },
  {
   "cell_type": "code",
   "execution_count": 78,
   "metadata": {},
   "outputs": [],
   "source": [
    "GAP_data = GAP_data[np.where(GAP_data[:,1] < 10000)]"
   ]
  },
  {
   "cell_type": "code",
   "execution_count": 97,
   "metadata": {},
   "outputs": [
    {
     "data": {
      "text/plain": [
       "Text(0.5, 1.0, 'Privacy Utility Trade: GAP Privatizer, Worst Case Adversary')"
      ]
     },
     "execution_count": 97,
     "metadata": {},
     "output_type": "execute_result"
    },
    {
     "data": {
      "image/png": "[encoded data removed]",
      "text/plain": [
       "<Figure size 432x288 with 1 Axes>"
      ]
     },
     "metadata": {
      "needs_background": "light"
     },
     "output_type": "display_data"
    }
   ],
   "source": [
    "plt.scatter(GAP_data[:,2], GAP_data[:,1])\n",
    "plt.xlabel(\"Privacy\")\n",
    "plt.ylabel(\"Utility\")\n",
    "plt.title(\"Privacy Utility Trade: GAP Privatizer, Worst Case Adversary\")"
   ]
  },
  {
   "cell_type": "code",
   "execution_count": 98,
   "metadata": {},
   "outputs": [
    {
     "data": {
      "text/plain": [
       "Text(0.5, 1.0, 'Privacy Utility Trade: GAP Privatizer, Worst Case Adversary')"
      ]
     },
     "execution_count": 98,
     "metadata": {},
     "output_type": "execute_result"
    },
    {
     "data": {
      "image/png": "[encoded data removed]",
      "text/plain": [
       "<Figure size 720x720 with 1 Axes>"
      ]
     },
     "metadata": {
      "needs_background": "light"
     },
     "output_type": "display_data"
    }
   ],
   "source": [
    "fig = plt.figure(figsize=(10,10))\n",
    "for i in np.unique(GAP_data[:,0]):\n",
    "    indices = np.where(GAP_data[:,0]==i)\n",
    "    plt.scatter(np.mean(GAP_data[indices][:,2]), np.mean(GAP_data[indices][:,1]))\n",
    "    plt.text(np.mean(GAP_data[indices][:,2]), np.mean(GAP_data[indices][:,1]), str(GAP_data[indices][0][0]))\n",
    "plt.xlabel(\"Adversary Error\")\n",
    "plt.ylabel(\"Map Error\")\n",
    "plt.title(\"Privacy Utility Trade: GAP Privatizer, Worst Case Adversary\")"
   ]
  },
  {
   "cell_type": "code",
   "execution_count": 46,
   "metadata": {},
   "outputs": [
    {
     "name": "stdout",
     "output_type": "stream",
     "text": [
      "0.32856393 0.059640747\n",
      "0.28250274 0.05338914\n",
      "0.106790155 0.048492864\n",
      "0.20045015 0.04752367\n",
      "0.043549947 0.04969822\n",
      "0.05090663 0.05149092\n",
      "0.19356066 0.041797638\n",
      "0.2081393 0.047847524\n",
      "0.21393406 0.04695077\n",
      "0.30867577 0.044972096\n",
      "0.060062677 0.15312259\n",
      "0.0012927115 0.12140464\n",
      "0.0937362 0.16455515\n",
      "0.3432584 0.16922377\n",
      "0.10136067 0.14511603\n",
      "0.16147333 0.15519027\n",
      "0.58900946 0.11026596\n",
      "0.11073267 0.16174643\n",
      "0.19652463 0.14915493\n",
      "0.14740719 0.0993757\n",
      "0.37064007 0.32935712\n",
      "0.74001825 0.38153183\n",
      "0.2234661 0.33213803\n",
      "0.5190123 0.34402654\n",
      "0.41666627 0.3661362\n",
      "0.016523173 0.37668824\n",
      "0.19698815 0.31878752\n",
      "0.16000217 0.3473753\n",
      "0.2710276 0.39058477\n",
      "0.333981 0.36036026\n",
      "0.09921981 1.049115\n",
      "2.4150891 0.92845845\n",
      "18.755987 1.0035962\n",
      "0.048794407 0.91045576\n",
      "8.382084 1.0372537\n",
      "15.826377 0.9610663\n",
      "23.368685 0.8901536\n",
      "2.8720849 0.85186857\n",
      "0.28785968 1.0322926\n",
      "0.17709582 1.0305588\n"
     ]
    }
   ],
   "source": [
    "NOISE = [0.25, 0.5, 0.75, 5]\n",
    "all_data = np.empty((10*len(NOISE),3))\n",
    "average_data = np.empty((6,3))\n",
    "\n",
    "for N in range(len(NOISE)):\n",
    "\n",
    "    for i in range(10):\n",
    "\n",
    "        strategy = \"simple\"\n",
    "\n",
    "        sess = tf.Session()\n",
    "        keras.backend.set_session(sess)\n",
    "\n",
    "        x, trueusers = sampleChania(Chania, 100)\n",
    "\n",
    "        if strategy == \"simple\":\n",
    "            yarray = x.eval(session=sess) + np.random.normal(scale=NOISE[N], size=(100,4))\n",
    "            y = tf.constant(yarray, tf.float32)\n",
    "\n",
    "        i1 = keras.layers.Dense(4, activation=tf.nn.relu)\n",
    "        i2 = keras.layers.Dense(4, activation=tf.nn.relu)\n",
    "        i3 = keras.layers.Dense(4, activation=tf.nn.relu)\n",
    "        i4 = keras.layers.Dense(1)\n",
    "\n",
    "        m1 = i4(i3(i2(i1(x[:,2:]))))\n",
    "        m1_target = tf.keras.backend.reshape(x[:,1], (100,1))\n",
    "        m1_train = tf.train.GradientDescentOptimizer(0.2)\n",
    "        m1_vars = [i1.variables, i2.variables, i3.variables, i4.variables]\n",
    "\n",
    "        o1 = keras.layers.Dense(4, activation=tf.nn.relu)\n",
    "        o2 = keras.layers.Dense(4, activation=tf.nn.relu)\n",
    "        o3 = keras.layers.Dense(4, activation=tf.nn.relu)\n",
    "        o4 = keras.layers.Dense(1)\n",
    "\n",
    "        m2 = o4(o3(o2(o1(y[:,2:]))))\n",
    "        m2_target = tf.keras.backend.reshape(y[:,1], (100,1))\n",
    "        m2_train = tf.train.GradientDescentOptimizer(0.2)\n",
    "        m2_vars = [o1.variables, o2.variables, o3.variables, o4.variables]\n",
    "\n",
    "        a1 = keras.layers.Dense(7, activation=tf.nn.relu)\n",
    "        a2 = keras.layers.Dense(5, activation=tf.nn.softmax)\n",
    "\n",
    "        users = a2(a1(y))\n",
    "        a_train = tf.train.GradientDescentOptimizer(0.08)\n",
    "        a_vars = [a1.variables, a2.variables]\n",
    "\n",
    "        m1_loss = tf.placeholder(tf.float32)\n",
    "        m2_loss = tf.placeholder(tf.float32)\n",
    "        map_error = tf.placeholder(tf.float32)\n",
    "        adversary_loss = tf.placeholder(tf.float32)\n",
    "        privatizer_loss = tf.placeholder(tf.float32)\n",
    "        penalty = tf.placeholder(tf.float32)\n",
    "        threshold = tf.placeholder(tf.float32)\n",
    "        testpoints = tf.placeholder(tf.float32)\n",
    "        grid = tf.placeholder(tf.float32)\n",
    "\n",
    "        sess.run(tf.global_variables_initializer())\n",
    "\n",
    "        m1_loss = tf.reduce_mean(tf.keras.losses.mean_squared_error(m1, m1_target))\n",
    "        m1_train = m1_train.minimize(m1_loss, var_list = m1_vars)\n",
    "\n",
    "        m2_loss = tf.reduce_mean(tf.keras.losses.mean_squared_error(m2, m2_target))\n",
    "        m2_train = m2_train.minimize(m2_loss, var_list = m2_vars)\n",
    "\n",
    "        adversary_loss = tf.reduce_mean(tf.keras.backend.sparse_categorical_crossentropy(trueusers, users))\n",
    "        a_train = a_train.minimize(adversary_loss, var_list = a_vars)\n",
    "\n",
    "        if strategy == \"simple\":\n",
    "            combined = a2(a1(y))\n",
    "\n",
    "        testpoints = np.mgrid[-1.5:0.75:15j, -1.5:0.75:15j].reshape(2,-1).T\n",
    "        grid = tf.constant(testpoints, dtype=tf.float32)\n",
    "        map_error = tf.reduce_mean(tf.keras.losses.mean_squared_error(i4(i3(i2(i1(y[:,2:])))), \n",
    "                                                                                o4(o3(o2(o1(y[:,2:]))))))\n",
    "        def train(trainstep, trainloss, max_iter, session):\n",
    "            plotlist = []\n",
    "            delta1 = 100\n",
    "            delta2 = 0\n",
    "            count_iter = 0\n",
    "            while abs(delta1 - delta2) >= 0.0001 and count_iter < max_iter:\n",
    "                count_iter += 1\n",
    "                delta1 = trainloss.eval(session=session)\n",
    "                trainstep.run(session=session)\n",
    "                delta2 = trainloss.eval(session=session)\n",
    "                plotlist.append(trainloss.eval(session=session))\n",
    "            return plotlist\n",
    "\n",
    "        if strategy == \"simple\":\n",
    "\n",
    "            m2plot = train(m2_train, m2_loss, 1000, sess)    \n",
    "            m1plot = train(m1_train, m1_loss, 1000, sess)\n",
    "            aplot = train(a_train, adversary_loss, 1000, sess)    \n",
    "            print(map_error.eval(session=sess), adversary_loss.eval(session=sess))\n",
    "\n",
    "        index = int(10*N+i)\n",
    "        all_data[index] = [NOISE[N], map_error.eval(session=sess), adversary_loss.eval(session=sess)]\n",
    "        \n",
    "        tf.keras.backend.clear_session()\n",
    "\n",
    "    average_data[N] = [NOISE[N], np.mean(all_data[np.where(all_data[:,0]==NOISE[N])][:,1]), np.mean(all_data[np.where(all_data[:,0]==NOISE[N])][:,2])]\n"
   ]
  },
  {
   "cell_type": "code",
   "execution_count": 66,
   "metadata": {},
   "outputs": [],
   "source": [
    "all_data = all_data[np.where(np.isnan(all_data[:,1])==False)]"
   ]
  },
  {
   "cell_type": "code",
   "execution_count": 107,
   "metadata": {},
   "outputs": [],
   "source": [
    "true_data = np.loadtxt(\"simplelossprime.txt\")"
   ]
  },
  {
   "cell_type": "code",
   "execution_count": 74,
   "metadata": {},
   "outputs": [],
   "source": [
    "true_data = np.append(true_data, all_data, axis=0)\n",
    "# true_data = all_data"
   ]
  },
  {
   "cell_type": "code",
   "execution_count": 108,
   "metadata": {
    "scrolled": true
   },
   "outputs": [
    {
     "data": {
      "text/plain": [
       "Text(0.5, 1.0, 'Privacy Utility Trade: Simple Privatizer, Worst Case Adversary')"
      ]
     },
     "execution_count": 108,
     "metadata": {},
     "output_type": "execute_result"
    },
    {
     "data": {
      "image/png": "[encoded data removed]",
      "text/plain": [
       "<Figure size 432x288 with 1 Axes>"
      ]
     },
     "metadata": {
      "needs_background": "light"
     },
     "output_type": "display_data"
    }
   ],
   "source": [
    "plt.scatter(true_data[:,2], true_data[:,1])\n",
    "plt.xlabel(\"Adversary Error\")\n",
    "plt.ylabel(\"Map Error\")\n",
    "plt.title(\"Privacy Utility Trade: Simple Privatizer, Worst Case Adversary\")"
   ]
  },
  {
   "cell_type": "code",
   "execution_count": 109,
   "metadata": {},
   "outputs": [
    {
     "data": {
      "text/plain": [
       "Text(0.5, 1.0, 'Privacy Utility Trade: Simple Privatizer, Worst Case Adversary')"
      ]
     },
     "execution_count": 109,
     "metadata": {},
     "output_type": "execute_result"
    },
    {
     "data": {
      "image/png": "[encoded data removed]",
      "text/plain": [
       "<Figure size 720x720 with 1 Axes>"
      ]
     },
     "metadata": {
      "needs_background": "light"
     },
     "output_type": "display_data"
    }
   ],
   "source": [
    "fig = plt.figure(figsize=(10,10))\n",
    "for i in np.unique(true_data[:,0]):\n",
    "    indices = np.where(true_data[:,0]==i)\n",
    "    plt.scatter(np.mean(true_data[indices][:,2]), np.mean(true_data[indices][:,1]))\n",
    "    plt.plot(np.mean(true_data[indices][:,2]), np.mean(true_data[indices][:,1]))\n",
    "    plt.text(np.mean(true_data[indices][:,2]), np.mean(true_data[indices][:,1]), str(true_data[indices][0][0]))\n",
    "plt.xlabel(\"Adversary Error\")\n",
    "plt.ylabel(\"Map Error\")\n",
    "plt.title(\"Privacy Utility Trade: Simple Privatizer, Worst Case Adversary\")"
   ]
  },
  {
   "cell_type": "code",
   "execution_count": 106,
   "metadata": {},
   "outputs": [],
   "source": [
    "np.savetxt(\"simplelossprime.txt\", true_data)"
   ]
  },
  {
   "cell_type": "code",
   "execution_count": null,
   "metadata": {},
   "outputs": [],
   "source": []
  }
 ],
 "metadata": {
  "kernelspec": {
   "display_name": "Python 3",
   "language": "python",
   "name": "python3"
  },
  "language_info": {
   "codemirror_mode": {
    "name": "ipython",
    "version": 3
   },
   "file_extension": ".py",
   "mimetype": "text/x-python",
   "name": "python",
   "nbconvert_exporter": "python",
   "pygments_lexer": "ipython3",
   "version": "3.6.6"
  }
 },
 "nbformat": 4,
 "nbformat_minor": 2
}

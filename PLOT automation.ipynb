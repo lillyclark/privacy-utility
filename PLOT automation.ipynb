{
 "cells": [
  {
   "cell_type": "code",
   "execution_count": 1,
   "metadata": {},
   "outputs": [],
   "source": [
    "import numpy as np\n",
    "import random\n",
    "import os\n",
    "\n",
    "import tensorflow as tf\n",
    "from tensorflow import keras\n",
    "import numpy as np\n",
    "import matplotlib.pyplot as plt\n",
    "\n",
    "from mpl_toolkits.mplot3d import Axes3D\n",
    "\n",
    "def norm_x(x):\n",
    "    for col in range(x.shape[1]):\n",
    "        vals = x[:,col]\n",
    "        vals = (vals-np.mean(vals))/np.std(vals)\n",
    "        x[:,col] = vals\n",
    "    return x\n",
    "\n",
    "def sampleChania(Chania, n_points):\n",
    "    np.random.seed(4)\n",
    "    data = Chania[:,0:8]\n",
    "    order = np.argsort(np.random.random(data.shape[0]))\n",
    "    x = data[order][:n_points, 1:5]   \n",
    "    trueusers = data[order][:n_points,0]\n",
    "    n_clusters = 5\n",
    "    x = norm_x(x)\n",
    "    return tf.constant(x, dtype=tf.float32), tf.constant(trueusers, dtype=tf.float32)\n",
    "\n",
    "Chania = np.genfromtxt('processedChania.csv', delimiter=',')\n",
    "\n",
    "Chania = Chania[np.where(Chania[:,2]<99)]"
   ]
  },
  {
   "cell_type": "code",
   "execution_count": 77,
   "metadata": {},
   "outputs": [],
   "source": [
    "# NOISE = [50]\n",
    "# all_data = np.empty((10*len(NOISE),3))\n",
    "# average_data = np.empty((6,3))\n",
    "\n",
    "# for N in range(len(NOISE)):\n",
    "\n",
    "#     for i in range(10):\n",
    "\n",
    "#         strategy = \"simple\"\n",
    "\n",
    "#         sess = tf.Session()\n",
    "#         keras.backend.set_session(sess)\n",
    "\n",
    "#         x, trueusers = sampleChania(Chania, 100)\n",
    "\n",
    "#         if strategy == \"simple\":\n",
    "#             yarray = x.eval(session=sess) + np.random.normal(scale=NOISE[N], size=(100,4))\n",
    "#             y = tf.constant(yarray, tf.float32)\n",
    "\n",
    "#         i1 = keras.layers.Dense(4, activation=tf.nn.relu)\n",
    "#         i2 = keras.layers.Dense(4, activation=tf.nn.relu)\n",
    "#         i3 = keras.layers.Dense(4, activation=tf.nn.relu)\n",
    "#         i4 = keras.layers.Dense(1)\n",
    "\n",
    "#         m1 = i4(i3(i2(i1(x[:,2:]))))\n",
    "#         m1_target = tf.keras.backend.reshape(x[:,1], (100,1))\n",
    "#         m1_train = tf.train.GradientDescentOptimizer(0.2)\n",
    "#         m1_vars = [i1.variables, i2.variables, i3.variables, i4.variables]\n",
    "\n",
    "#         o1 = keras.layers.Dense(4, activation=tf.nn.relu)\n",
    "#         o2 = keras.layers.Dense(4, activation=tf.nn.relu)\n",
    "#         o3 = keras.layers.Dense(4, activation=tf.nn.relu)\n",
    "#         o4 = keras.layers.Dense(1)\n",
    "\n",
    "#         m2 = o4(o3(o2(o1(y[:,2:]))))\n",
    "#         m2_target = tf.keras.backend.reshape(y[:,1], (100,1))\n",
    "#         m2_train = tf.train.GradientDescentOptimizer(0.2)\n",
    "#         m2_vars = [o1.variables, o2.variables, o3.variables, o4.variables]\n",
    "\n",
    "#         a1 = keras.layers.Dense(7, activation=tf.nn.relu)\n",
    "#         a2 = keras.layers.Dense(5, activation=tf.nn.softmax)\n",
    "\n",
    "#         users = a2(a1(y))\n",
    "#         a_train = tf.train.GradientDescentOptimizer(0.08)\n",
    "#         a_vars = [a1.variables, a2.variables]\n",
    "\n",
    "#         m1_loss = tf.placeholder(tf.float32)\n",
    "#         m2_loss = tf.placeholder(tf.float32)\n",
    "#         map_error = tf.placeholder(tf.float32)\n",
    "#         adversary_loss = tf.placeholder(tf.float32)\n",
    "#         privatizer_loss = tf.placeholder(tf.float32)\n",
    "#         penalty = tf.placeholder(tf.float32)\n",
    "#         threshold = tf.placeholder(tf.float32)\n",
    "#         testpoints = tf.placeholder(tf.float32)\n",
    "#         grid = tf.placeholder(tf.float32)\n",
    "\n",
    "#         sess.run(tf.global_variables_initializer())\n",
    "\n",
    "#         m1_loss = tf.reduce_mean(tf.keras.losses.mean_squared_error(m1, m1_target))\n",
    "#         m1_train = m1_train.minimize(m1_loss, var_list = m1_vars)\n",
    "\n",
    "#         m2_loss = tf.reduce_mean(tf.keras.losses.mean_squared_error(m2, m2_target))\n",
    "#         m2_train = m2_train.minimize(m2_loss, var_list = m2_vars)\n",
    "\n",
    "#         adversary_loss = tf.reduce_mean(tf.keras.backend.sparse_categorical_crossentropy(trueusers, users))\n",
    "#         a_train = a_train.minimize(adversary_loss, var_list = a_vars)\n",
    "\n",
    "#         if strategy == \"simple\":\n",
    "#             combined = a2(a1(y))\n",
    "\n",
    "#         testpoints = np.mgrid[-1.5:0.75:15j, -1.5:0.75:15j].reshape(2,-1).T\n",
    "#         grid = tf.constant(testpoints, dtype=tf.float32)\n",
    "#         map_error = tf.reduce_mean(tf.squared_difference(\n",
    "#             i4(i3(i2(i1(grid)))),\n",
    "#             o4(o3(o2(o1(grid))))))\n",
    "\n",
    "#         def train(trainstep, trainloss, max_iter, session):\n",
    "#             plotlist = []\n",
    "#             delta1 = 100\n",
    "#             delta2 = 0\n",
    "#             count_iter = 0\n",
    "#             while abs(delta1 - delta2) >= 0.0001 and count_iter < max_iter:\n",
    "#                 count_iter += 1\n",
    "#                 delta1 = trainloss.eval(session=session)\n",
    "#                 trainstep.run(session=session)\n",
    "#                 delta2 = trainloss.eval(session=session)\n",
    "#                 plotlist.append(trainloss.eval(session=session))\n",
    "#             return plotlist\n",
    "\n",
    "\n",
    "#         penalty = tf.constant(2.5, dtype=tf.float32)\n",
    "#         threshold = tf.constant(0, dtype=tf.float32)\n",
    "\n",
    "#         zero = tf.constant(0, dtype=tf.float32)\n",
    "#         privatizer_loss = tf.subtract(tf.multiply(penalty, tf.math.maximum(zero, tf.subtract(map_error, threshold))), \n",
    "#                                       tf.reduce_mean(tf.keras.backend.sparse_categorical_crossentropy(trueusers, combined)))\n",
    "\n",
    "#         if strategy == \"GAP\":\n",
    "#             p_train = p_train.minimize(privatizer_loss, var_list = p_vars)\n",
    "\n",
    "#         if strategy == \"simple\":\n",
    "\n",
    "#             m2plot = train(m2_train, m2_loss, 1000, sess)    \n",
    "#             m1plot = train(m1_train, m1_loss, 1000, sess)\n",
    "#             aplot = train(a_train, adversary_loss, 1000, sess)    \n",
    "#             print(map_error.eval(session=sess), adversary_loss.eval(session=sess))\n",
    "\n",
    "#         index = int(10*N+i)\n",
    "#         all_data[index] = [NOISE[N], map_error.eval(session=sess), adversary_loss.eval(session=sess)]\n",
    "        \n",
    "#         tf.keras.backend.clear_session()\n",
    "\n",
    "#     average_data[N] = [NOISE[N], np.mean(all_data[np.where(all_data[:,0]==NOISE[N])][:,1]), np.mean(all_data[np.where(all_data[:,0]==NOISE[N])][:,2])]\n"
   ]
  },
  {
   "cell_type": "code",
   "execution_count": 103,
   "metadata": {},
   "outputs": [],
   "source": [
    "# all_data = all_data[np.where(np.isnan(all_data[:,1])==False)]"
   ]
  },
  {
   "cell_type": "code",
   "execution_count": 68,
   "metadata": {},
   "outputs": [],
   "source": [
    "true_data = np.loadtxt(\"SimpleDataWorstAdversary\")"
   ]
  },
  {
   "cell_type": "code",
   "execution_count": 109,
   "metadata": {},
   "outputs": [],
   "source": [
    "# true_data = np.append(true_data, all_data, axis=0)"
   ]
  },
  {
   "cell_type": "code",
   "execution_count": 69,
   "metadata": {
    "scrolled": true
   },
   "outputs": [
    {
     "data": {
      "text/plain": [
       "Text(0.5, 1.0, 'Privacy Utility Trade: Simple Privatizer, Worst Case Adversary')"
      ]
     },
     "execution_count": 69,
     "metadata": {},
     "output_type": "execute_result"
    },
    {
     "data": {
      "image/png": "[encoded data removed]",
      "text/plain": [
       "<Figure size 432x288 with 1 Axes>"
      ]
     },
     "metadata": {
      "needs_background": "light"
     },
     "output_type": "display_data"
    }
   ],
   "source": [
    "plt.scatter(true_data[:,2], true_data[:,1])\n",
    "plt.xlabel(\"Adversary Error\")\n",
    "plt.ylabel(\"Map Error\")\n",
    "plt.title(\"Privacy Utility Trade: Simple Privatizer, Worst Case Adversary\")"
   ]
  },
  {
   "cell_type": "code",
   "execution_count": 122,
   "metadata": {},
   "outputs": [
    {
     "data": {
      "text/plain": [
       "Text(0.5, 1.0, 'Privacy Utility Trade: Simple Privatizer, Worst Case Adversary')"
      ]
     },
     "execution_count": 122,
     "metadata": {},
     "output_type": "execute_result"
    },
    {
     "data": {
      "image/png": "[encoded data removed]",
      "text/plain": [
       "<Figure size 720x720 with 1 Axes>"
      ]
     },
     "metadata": {
      "needs_background": "light"
     },
     "output_type": "display_data"
    }
   ],
   "source": [
    "fig = plt.figure(figsize=(10,10))\n",
    "for i in np.unique(true_data[:,0]):\n",
    "    indices = np.where(true_data[:,0]==i)\n",
    "    plt.scatter(np.mean(true_data[indices][:,2]), np.mean(true_data[indices][:,1]))\n",
    "    plt.plot(np.mean(true_data[indices][:,2]), np.mean(true_data[indices][:,1]))\n",
    "    plt.text(np.mean(true_data[indices][:,2]), np.mean(true_data[indices][:,1]), str(true_data[indices][0][0]))\n",
    "plt.xlabel(\"Adversary Error\")\n",
    "plt.ylabel(\"Map Error\")\n",
    "plt.title(\"Privacy Utility Trade: Simple Privatizer, Worst Case Adversary\")"
   ]
  },
  {
   "cell_type": "code",
   "execution_count": 2,
   "metadata": {},
   "outputs": [],
   "source": [
    "def train(trainstep, trainloss, max_iter, session):\n",
    "    plotlist = []\n",
    "    delta1 = 100\n",
    "    delta2 = 0\n",
    "    count_iter = 0\n",
    "    while abs(delta1 - delta2) >= 0.0001 and count_iter < max_iter:\n",
    "        count_iter += 1\n",
    "        delta1 = trainloss.eval(session=session)\n",
    "        trainstep.run(session=session)\n",
    "        delta2 = trainloss.eval(session=session)\n",
    "        plotlist.append(trainloss.eval(session=session))\n",
    "    return plotlist"
   ]
  },
  {
   "cell_type": "code",
   "execution_count": 196,
   "metadata": {
    "scrolled": false
   },
   "outputs": [
    {
     "name": "stdout",
     "output_type": "stream",
     "text": [
      "1.8565857 1.3287\n",
      "0.059425104 1.059407\n",
      "0.050087012 1.0714971\n",
      "7.9476995e-05 1.0422798\n",
      "0.059896685 0.8547379\n",
      "0.5856869 1.0414546\n",
      "0.3611578 1.0205225\n",
      "0.019177621 1.0300193\n",
      "0.6911695 1.0459603\n",
      "0.01751372 1.03727\n",
      "0.074293755 1.3150097\n",
      "0.12927313 0.8289429\n",
      "0.12993447 0.6424403\n",
      "0.7100337 0.47071508\n",
      "0.034980334 1.1841683\n",
      "0.0039588353 1.0366406\n",
      "0.26873952 0.15472975\n",
      "0.15677866 1.1076645\n",
      "0.055782236 1.0420393\n",
      "0.304119 0.48245555\n"
     ]
    }
   ],
   "source": [
    "def run_plot_automation():\n",
    "\n",
    "    PENALTY = [0.01, 0.2]\n",
    "    I = 10\n",
    "    all_data = np.empty((I*len(PENALTY),3))\n",
    "\n",
    "    for P in range(len(PENALTY)):\n",
    "\n",
    "        for i in range(I):\n",
    "\n",
    "            strategy = \"GAP\"\n",
    "\n",
    "            sess = tf.Session()\n",
    "            keras.backend.set_session(sess)\n",
    "\n",
    "            x, trueusers = sampleChania(Chania, 100)\n",
    "\n",
    "            if strategy == \"GAP\":\n",
    "\n",
    "                init = keras.initializers.Identity(gain=1.0)\n",
    "                p1 = keras.layers.Dense(4, kernel_initializer=init, activation=tf.nn.relu)\n",
    "                p2 = keras.layers.Dense(4, kernel_initializer=init, activation=tf.nn.relu)\n",
    "                p3 = keras.layers.Dense(4, kernel_initializer=init, activation=tf.nn.relu)\n",
    "                p4 = keras.layers.Dense(4, kernel_initializer=init, activation=tf.nn.relu)\n",
    "                p5 = keras.layers.Dense(4, kernel_initializer=init)\n",
    "\n",
    "                y = p5(p4(p3(p2(p1(x)))))\n",
    "                p_vars = [p1.variables, p2.variables, p3.variables, p4.variables, p5.variables]\n",
    "\n",
    "            i1 = keras.layers.Dense(4, activation=tf.nn.relu)\n",
    "            i2 = keras.layers.Dense(4, activation=tf.nn.relu)\n",
    "            i3 = keras.layers.Dense(4, activation=tf.nn.relu)\n",
    "            i4 = keras.layers.Dense(1)\n",
    "\n",
    "            m1 = i4(i3(i2(i1(x[:,2:]))))\n",
    "            m1_target = tf.keras.backend.reshape(x[:,1], (100,1))\n",
    "            m1_train = tf.train.GradientDescentOptimizer(0.2)\n",
    "            m1_vars = [i1.variables, i2.variables, i3.variables, i4.variables]\n",
    "\n",
    "            o1 = keras.layers.Dense(4, activation=tf.nn.relu)\n",
    "            o2 = keras.layers.Dense(4, activation=tf.nn.relu)\n",
    "            o3 = keras.layers.Dense(4, activation=tf.nn.relu)\n",
    "            o4 = keras.layers.Dense(1)\n",
    "\n",
    "            m2 = o4(o3(o2(o1(y[:,2:]))))\n",
    "            m2_target = tf.keras.backend.reshape(y[:,1], (100,1))\n",
    "            m2_train = tf.train.GradientDescentOptimizer(0.2)\n",
    "            m2_vars = [o1.variables, o2.variables, o3.variables, o4.variables]\n",
    "\n",
    "            a1 = keras.layers.Dense(7, activation=tf.nn.relu)\n",
    "            a2 = keras.layers.Dense(5, activation=tf.nn.softmax)\n",
    "\n",
    "            users = a2(a1(y))\n",
    "            a_train = tf.train.GradientDescentOptimizer(0.08)\n",
    "            a_vars = [a1.variables, a2.variables]\n",
    "\n",
    "            m1_loss = tf.placeholder(tf.float32)\n",
    "            m2_loss = tf.placeholder(tf.float32)\n",
    "            adversary_loss = tf.placeholder(tf.float32)\n",
    "            privatizer_loss = tf.placeholder(tf.float32)\n",
    "            penalty = tf.placeholder(tf.float32)\n",
    "            threshold = tf.placeholder(tf.float32)\n",
    "            testpoints = tf.placeholder(tf.float32)\n",
    "            grid = tf.placeholder(tf.float32)\n",
    "\n",
    "            sess.run(tf.global_variables_initializer())\n",
    "\n",
    "            m1_loss = tf.reduce_mean(tf.keras.losses.mean_squared_error(m1, m1_target))\n",
    "            m1_train = m1_train.minimize(m1_loss, var_list = m1_vars)\n",
    "\n",
    "            m2_loss = tf.reduce_mean(tf.keras.losses.mean_squared_error(m2, m2_target))\n",
    "            m2_train = m2_train.minimize(m2_loss, var_list = m2_vars)\n",
    "\n",
    "            adversary_loss = tf.reduce_mean(tf.keras.backend.sparse_categorical_crossentropy(trueusers, users))\n",
    "            a_train = a_train.minimize(adversary_loss, var_list = a_vars)\n",
    "\n",
    "            if strategy == \"GAP\":\n",
    "                combined = a2(a1(p5(p4(p3(p2(p1(x)))))))\n",
    "                p_train = tf.train.GradientDescentOptimizer(0.1)\n",
    "                \n",
    "            testpoints = np.mgrid[-1.5:0.75:15j, -1.5:0.75:15j].reshape(2,-1).T\n",
    "            grid = tf.constant(testpoints, dtype=tf.float32)\n",
    "\n",
    "            penalty = tf.constant(PENALTY[P], dtype=tf.float32)\n",
    "            threshold = tf.constant(0, dtype=tf.float32)\n",
    "\n",
    "            zero = tf.constant(0, dtype=tf.float32)\n",
    "            privatizer_loss = tf.subtract(tf.multiply(penalty, tf.math.maximum(zero, tf.subtract(tf.reduce_mean(tf.keras.losses.mean_squared_error(i4(i3(i2(i1(y[:,2:])))), \n",
    "                                                                                o4(o3(o2(o1(y[:,2:])))))), threshold))),\n",
    "                                          tf.reduce_mean(tf.keras.backend.sparse_categorical_crossentropy(trueusers, combined)))\n",
    "                                          \n",
    "            if strategy == \"GAP\":\n",
    "                p_train = p_train.minimize(privatizer_loss, var_list = p_vars)\n",
    "\n",
    "\n",
    "            delta1 = 1\n",
    "            delta2 = 0\n",
    "            count_iter = 0\n",
    "            max_iter = 10\n",
    "\n",
    "            while abs(delta1 - delta2) >= 0.0001 and count_iter < max_iter:\n",
    "\n",
    "                delta1 = privatizer_loss.eval(session=sess)\n",
    "                m2plot = train(m2_train, m2_loss, 100, sess)\n",
    "                m1plot = train(m1_train, m1_loss, 100, sess)\n",
    "                aplot = train(a_train, adversary_loss, 100, sess)\n",
    "                pplot = train(p_train, privatizer_loss, 1, sess)\n",
    "                delta2 = privatizer_loss.eval(session=sess)\n",
    "\n",
    "                count_iter += 1\n",
    "                \n",
    "            index = int(I*P+i)\n",
    "            \n",
    "            map_error = tf.reduce_mean(tf.keras.losses.mean_squared_error(i4(i3(i2(i1(y[:,2:])))), \n",
    "                                                                                o4(o3(o2(o1(y[:,2:]))))))\n",
    "            print(map_error.eval(session=sess), adversary_loss.eval(session=sess))\n",
    "            \n",
    "            all_data[index] = [PENALTY[P], map_error.eval(session=sess), adversary_loss.eval(session=sess)]\n",
    "\n",
    "            tf.keras.backend.clear_session()\n",
    "            \n",
    "    return all_data\n",
    "            \n",
    "all_data = run_plot_automation()"
   ]
  },
  {
   "cell_type": "code",
   "execution_count": 197,
   "metadata": {
    "scrolled": true
   },
   "outputs": [
    {
     "data": {
      "text/plain": [
       "Text(0.5, 1.0, 'Privacy Utility Trade: GAP Privatizer, Worst Case Adversary')"
      ]
     },
     "execution_count": 197,
     "metadata": {},
     "output_type": "execute_result"
    },
    {
     "data": {
      "image/png": "[encoded data removed]",
      "text/plain": [
       "<Figure size 432x288 with 1 Axes>"
      ]
     },
     "metadata": {
      "needs_background": "light"
     },
     "output_type": "display_data"
    }
   ],
   "source": [
    "plt.scatter(all_data[:,2], all_data[:,1])\n",
    "plt.xlabel(\"Privacy\")\n",
    "plt.ylabel(\"Utility\")\n",
    "plt.title(\"Privacy Utility Trade: GAP Privatizer, Worst Case Adversary\")"
   ]
  },
  {
   "cell_type": "code",
   "execution_count": 158,
   "metadata": {},
   "outputs": [],
   "source": [
    "all_data = all_data[np.where(np.isnan(all_data[:,1])==False)]\n",
    "all_data = all_data[np.where(all_data[:,2]>0.7)]"
   ]
  },
  {
   "cell_type": "code",
   "execution_count": 119,
   "metadata": {},
   "outputs": [],
   "source": [
    "GAP_data = all_data"
   ]
  },
  {
   "cell_type": "code",
   "execution_count": 198,
   "metadata": {},
   "outputs": [],
   "source": [
    "GAP_data = np.append(GAP_data, all_data, axis=0)"
   ]
  },
  {
   "cell_type": "code",
   "execution_count": 54,
   "metadata": {},
   "outputs": [],
   "source": [
    "GAP_data = GAP_data[np.where(GAP_data[:,2] < 10)]"
   ]
  },
  {
   "cell_type": "code",
   "execution_count": 163,
   "metadata": {},
   "outputs": [],
   "source": [
    "higherlearningrate = GAP_data"
   ]
  },
  {
   "cell_type": "code",
   "execution_count": 164,
   "metadata": {},
   "outputs": [],
   "source": [
    "np.savetxt(\"higherlearningrate.txt\", higherlearningrate)"
   ]
  },
  {
   "cell_type": "code",
   "execution_count": 3,
   "metadata": {},
   "outputs": [],
   "source": [
    "GAP_data = np.loadtxt(\"higherlearningrate.txt\")"
   ]
  },
  {
   "cell_type": "code",
   "execution_count": 106,
   "metadata": {},
   "outputs": [],
   "source": [
    "GAP_data = GAP_data[np.where(GAP_data[:,2] < 10)]"
   ]
  },
  {
   "cell_type": "code",
   "execution_count": 199,
   "metadata": {},
   "outputs": [
    {
     "data": {
      "text/plain": [
       "Text(0.5, 1.0, 'Privacy Utility Trade: GAP Privatizer, Worst Case Adversary')"
      ]
     },
     "execution_count": 199,
     "metadata": {},
     "output_type": "execute_result"
    },
    {
     "data": {
      "image/png": "[encoded data removed]",
      "text/plain": [
       "<Figure size 432x288 with 1 Axes>"
      ]
     },
     "metadata": {
      "needs_background": "light"
     },
     "output_type": "display_data"
    }
   ],
   "source": [
    "plt.scatter(GAP_data[:,2], GAP_data[:,1])\n",
    "plt.xlabel(\"Privacy\")\n",
    "plt.ylabel(\"Utility\")\n",
    "plt.title(\"Privacy Utility Trade: GAP Privatizer, Worst Case Adversary\")"
   ]
  },
  {
   "cell_type": "code",
   "execution_count": 200,
   "metadata": {
    "scrolled": false
   },
   "outputs": [
    {
     "data": {
      "text/plain": [
       "Text(0.5, 1.0, 'Privacy Utility Trade: GAP Privatizer, Worst Case Adversary')"
      ]
     },
     "execution_count": 200,
     "metadata": {},
     "output_type": "execute_result"
    },
    {
     "data": {
      "image/png": "[encoded data removed]",
      "text/plain": [
       "<Figure size 720x720 with 1 Axes>"
      ]
     },
     "metadata": {
      "needs_background": "light"
     },
     "output_type": "display_data"
    }
   ],
   "source": [
    "fig = plt.figure(figsize=(10,10))\n",
    "for i in np.unique(GAP_data[:,0]):\n",
    "    indices = np.where(GAP_data[:,0]==i)\n",
    "    plt.scatter(np.mean(GAP_data[indices][:,2]), np.mean(GAP_data[indices][:,1]))\n",
    "    plt.text(np.mean(GAP_data[indices][:,2]), np.mean(GAP_data[indices][:,1]), str(GAP_data[indices][0][0]))\n",
    "plt.xlabel(\"Adversary Error\")\n",
    "plt.ylabel(\"Map Error\")\n",
    "plt.title(\"Privacy Utility Trade: GAP Privatizer, Worst Case Adversary\")"
   ]
  },
  {
   "cell_type": "markdown",
   "metadata": {},
   "source": [
    "## SIMPLE"
   ]
  },
  {
   "cell_type": "code",
   "execution_count": 46,
   "metadata": {},
   "outputs": [
    {
     "name": "stdout",
     "output_type": "stream",
     "text": [
      "0.32856393 0.059640747\n",
      "0.28250274 0.05338914\n",
      "0.106790155 0.048492864\n",
      "0.20045015 0.04752367\n",
      "0.043549947 0.04969822\n",
      "0.05090663 0.05149092\n",
      "0.19356066 0.041797638\n",
      "0.2081393 0.047847524\n",
      "0.21393406 0.04695077\n",
      "0.30867577 0.044972096\n",
      "0.060062677 0.15312259\n",
      "0.0012927115 0.12140464\n",
      "0.0937362 0.16455515\n",
      "0.3432584 0.16922377\n",
      "0.10136067 0.14511603\n",
      "0.16147333 0.15519027\n",
      "0.58900946 0.11026596\n",
      "0.11073267 0.16174643\n",
      "0.19652463 0.14915493\n",
      "0.14740719 0.0993757\n",
      "0.37064007 0.32935712\n",
      "0.74001825 0.38153183\n",
      "0.2234661 0.33213803\n",
      "0.5190123 0.34402654\n",
      "0.41666627 0.3661362\n",
      "0.016523173 0.37668824\n",
      "0.19698815 0.31878752\n",
      "0.16000217 0.3473753\n",
      "0.2710276 0.39058477\n",
      "0.333981 0.36036026\n",
      "0.09921981 1.049115\n",
      "2.4150891 0.92845845\n",
      "18.755987 1.0035962\n",
      "0.048794407 0.91045576\n",
      "8.382084 1.0372537\n",
      "15.826377 0.9610663\n",
      "23.368685 0.8901536\n",
      "2.8720849 0.85186857\n",
      "0.28785968 1.0322926\n",
      "0.17709582 1.0305588\n"
     ]
    }
   ],
   "source": [
    "NOISE = [0.25, 0.5, 0.75, 5]\n",
    "all_data = np.empty((10*len(NOISE),3))\n",
    "average_data = np.empty((6,3))\n",
    "\n",
    "for N in range(len(NOISE)):\n",
    "\n",
    "    for i in range(10):\n",
    "\n",
    "        strategy = \"simple\"\n",
    "\n",
    "        sess = tf.Session()\n",
    "        keras.backend.set_session(sess)\n",
    "\n",
    "        x, trueusers = sampleChania(Chania, 100)\n",
    "\n",
    "        if strategy == \"simple\":\n",
    "            yarray = x.eval(session=sess) + np.random.normal(scale=NOISE[N], size=(100,4))\n",
    "            y = tf.constant(yarray, tf.float32)\n",
    "\n",
    "        i1 = keras.layers.Dense(4, activation=tf.nn.relu)\n",
    "        i2 = keras.layers.Dense(4, activation=tf.nn.relu)\n",
    "        i3 = keras.layers.Dense(4, activation=tf.nn.relu)\n",
    "        i4 = keras.layers.Dense(1)\n",
    "\n",
    "        m1 = i4(i3(i2(i1(x[:,2:]))))\n",
    "        m1_target = tf.keras.backend.reshape(x[:,1], (100,1))\n",
    "        m1_train = tf.train.GradientDescentOptimizer(0.2)\n",
    "        m1_vars = [i1.variables, i2.variables, i3.variables, i4.variables]\n",
    "\n",
    "        o1 = keras.layers.Dense(4, activation=tf.nn.relu)\n",
    "        o2 = keras.layers.Dense(4, activation=tf.nn.relu)\n",
    "        o3 = keras.layers.Dense(4, activation=tf.nn.relu)\n",
    "        o4 = keras.layers.Dense(1)\n",
    "\n",
    "        m2 = o4(o3(o2(o1(y[:,2:]))))\n",
    "        m2_target = tf.keras.backend.reshape(y[:,1], (100,1))\n",
    "        m2_train = tf.train.GradientDescentOptimizer(0.2)\n",
    "        m2_vars = [o1.variables, o2.variables, o3.variables, o4.variables]\n",
    "\n",
    "        a1 = keras.layers.Dense(7, activation=tf.nn.relu)\n",
    "        a2 = keras.layers.Dense(5, activation=tf.nn.softmax)\n",
    "\n",
    "        users = a2(a1(y))\n",
    "        a_train = tf.train.GradientDescentOptimizer(0.08)\n",
    "        a_vars = [a1.variables, a2.variables]\n",
    "\n",
    "        m1_loss = tf.placeholder(tf.float32)\n",
    "        m2_loss = tf.placeholder(tf.float32)\n",
    "        map_error = tf.placeholder(tf.float32)\n",
    "        adversary_loss = tf.placeholder(tf.float32)\n",
    "        privatizer_loss = tf.placeholder(tf.float32)\n",
    "        penalty = tf.placeholder(tf.float32)\n",
    "        threshold = tf.placeholder(tf.float32)\n",
    "        testpoints = tf.placeholder(tf.float32)\n",
    "        grid = tf.placeholder(tf.float32)\n",
    "\n",
    "        sess.run(tf.global_variables_initializer())\n",
    "\n",
    "        m1_loss = tf.reduce_mean(tf.keras.losses.mean_squared_error(m1, m1_target))\n",
    "        m1_train = m1_train.minimize(m1_loss, var_list = m1_vars)\n",
    "\n",
    "        m2_loss = tf.reduce_mean(tf.keras.losses.mean_squared_error(m2, m2_target))\n",
    "        m2_train = m2_train.minimize(m2_loss, var_list = m2_vars)\n",
    "\n",
    "        adversary_loss = tf.reduce_mean(tf.keras.backend.sparse_categorical_crossentropy(trueusers, users))\n",
    "        a_train = a_train.minimize(adversary_loss, var_list = a_vars)\n",
    "\n",
    "        if strategy == \"simple\":\n",
    "            combined = a2(a1(y))\n",
    "\n",
    "        testpoints = np.mgrid[-1.5:0.75:15j, -1.5:0.75:15j].reshape(2,-1).T\n",
    "        grid = tf.constant(testpoints, dtype=tf.float32)\n",
    "        map_error = tf.reduce_mean(tf.keras.losses.mean_squared_error(i4(i3(i2(i1(y[:,2:])))), \n",
    "                                                                                o4(o3(o2(o1(y[:,2:]))))))\n",
    "        def train(trainstep, trainloss, max_iter, session):\n",
    "            plotlist = []\n",
    "            delta1 = 100\n",
    "            delta2 = 0\n",
    "            count_iter = 0\n",
    "            while abs(delta1 - delta2) >= 0.0001 and count_iter < max_iter:\n",
    "                count_iter += 1\n",
    "                delta1 = trainloss.eval(session=session)\n",
    "                trainstep.run(session=session)\n",
    "                delta2 = trainloss.eval(session=session)\n",
    "                plotlist.append(trainloss.eval(session=session))\n",
    "            return plotlist\n",
    "\n",
    "        if strategy == \"simple\":\n",
    "\n",
    "            m2plot = train(m2_train, m2_loss, 1000, sess)    \n",
    "            m1plot = train(m1_train, m1_loss, 1000, sess)\n",
    "            aplot = train(a_train, adversary_loss, 1000, sess)    \n",
    "            print(map_error.eval(session=sess), adversary_loss.eval(session=sess))\n",
    "\n",
    "        index = int(10*N+i)\n",
    "        all_data[index] = [NOISE[N], map_error.eval(session=sess), adversary_loss.eval(session=sess)]\n",
    "        \n",
    "        tf.keras.backend.clear_session()\n",
    "\n",
    "    average_data[N] = [NOISE[N], np.mean(all_data[np.where(all_data[:,0]==NOISE[N])][:,1]), np.mean(all_data[np.where(all_data[:,0]==NOISE[N])][:,2])]\n"
   ]
  },
  {
   "cell_type": "code",
   "execution_count": 66,
   "metadata": {},
   "outputs": [],
   "source": [
    "all_data = all_data[np.where(np.isnan(all_data[:,1])==False)]"
   ]
  },
  {
   "cell_type": "code",
   "execution_count": 166,
   "metadata": {},
   "outputs": [],
   "source": [
    "true_data = np.loadtxt(\"simplelossprime.txt\")"
   ]
  },
  {
   "cell_type": "code",
   "execution_count": 74,
   "metadata": {},
   "outputs": [],
   "source": [
    "true_data = np.append(true_data, all_data, axis=0)\n",
    "# true_data = all_data"
   ]
  },
  {
   "cell_type": "code",
   "execution_count": 167,
   "metadata": {
    "scrolled": true
   },
   "outputs": [
    {
     "data": {
      "text/plain": [
       "Text(0.5, 1.0, 'Privacy Utility Trade: Simple Privatizer, Worst Case Adversary')"
      ]
     },
     "execution_count": 167,
     "metadata": {},
     "output_type": "execute_result"
    },
    {
     "data": {
      "image/png": "[encoded data removed]",
      "text/plain": [
       "<Figure size 432x288 with 1 Axes>"
      ]
     },
     "metadata": {
      "needs_background": "light"
     },
     "output_type": "display_data"
    }
   ],
   "source": [
    "plt.scatter(true_data[:,2], true_data[:,1])\n",
    "plt.xlabel(\"Adversary Error\")\n",
    "plt.ylabel(\"Map Error\")\n",
    "plt.title(\"Privacy Utility Trade: Simple Privatizer, Worst Case Adversary\")"
   ]
  },
  {
   "cell_type": "code",
   "execution_count": 168,
   "metadata": {},
   "outputs": [
    {
     "data": {
      "text/plain": [
       "Text(0.5, 1.0, 'Privacy Utility Trade: Simple Privatizer, Worst Case Adversary')"
      ]
     },
     "execution_count": 168,
     "metadata": {},
     "output_type": "execute_result"
    },
    {
     "data": {
      "image/png": "[encoded data removed]",
      "text/plain": [
       "<Figure size 720x720 with 1 Axes>"
      ]
     },
     "metadata": {
      "needs_background": "light"
     },
     "output_type": "display_data"
    }
   ],
   "source": [
    "fig = plt.figure(figsize=(10,10))\n",
    "for i in np.unique(true_data[:,0]):\n",
    "    indices = np.where(true_data[:,0]==i)\n",
    "    plt.scatter(np.mean(true_data[indices][:,2]), np.mean(true_data[indices][:,1]))\n",
    "    plt.plot(np.mean(true_data[indices][:,2]), np.mean(true_data[indices][:,1]))\n",
    "    plt.text(np.mean(true_data[indices][:,2]), np.mean(true_data[indices][:,1]), str(true_data[indices][0][0]))\n",
    "plt.xlabel(\"Adversary Error\")\n",
    "plt.ylabel(\"Map Error\")\n",
    "plt.title(\"Privacy Utility Trade: Simple Privatizer, Worst Case Adversary\")"
   ]
  },
  {
   "cell_type": "code",
   "execution_count": 106,
   "metadata": {},
   "outputs": [],
   "source": [
    "np.savetxt(\"simplelossprime.txt\", true_data)"
   ]
  },
  {
   "cell_type": "code",
   "execution_count": 189,
   "metadata": {},
   "outputs": [
    {
     "name": "stdout",
     "output_type": "stream",
     "text": [
      "For Worst Case Privacy, Best Case Utility\n",
      "[[0.5013218  0.12466952 0.12466952 0.12466952 0.12466952]\n",
      " [0.12786461 0.15158714 0.22145447 0.3794637  0.11963008]\n",
      " [0.1289534  0.18109724 0.21205015 0.36334935 0.11454985]\n",
      " [0.2680191  0.1501439  0.2815491  0.1501439  0.1501439 ]\n",
      " [0.28271297 0.10078062 0.19084823 0.32487753 0.10078062]\n",
      " [0.10292115 0.25328684 0.19335938 0.3475115  0.10292115]\n",
      " [0.16972326 0.16972326 0.32110703 0.16972326 0.16972326]\n",
      " [0.12861614 0.15145652 0.22126365 0.37913674 0.119527  ]\n",
      " [0.26873392 0.12502088 0.18305992 0.32452086 0.09866442]\n",
      " [0.16995028 0.16995028 0.32019895 0.16995028 0.16995028]]\n",
      "[[1. 0. 0. 0. 0.]\n",
      " [0. 0. 0. 1. 0.]\n",
      " [0. 0. 0. 1. 0.]\n",
      " [0. 0. 0. 0. 1.]\n",
      " [0. 0. 0. 1. 0.]\n",
      " [0. 0. 0. 1. 0.]\n",
      " [0. 0. 0. 0. 1.]\n",
      " [0. 0. 0. 1. 0.]\n",
      " [0. 0. 0. 1. 0.]\n",
      " [0. 0. 0. 0. 1.]]\n",
      "1.5651883\n",
      "1.4861212\n",
      "0.45973834 0.03663083\n"
     ]
    }
   ],
   "source": [
    "strategy = \"simple\"\n",
    "\n",
    "print(\"For Worst Case Privacy, Best Case Utility\")\n",
    "\n",
    "for i in range(1):\n",
    "\n",
    "    sess = tf.Session()\n",
    "    keras.backend.set_session(sess)\n",
    "    init = keras.initializers.Identity(gain=1.0)\n",
    "\n",
    "    x, trueusers = sampleChania(Chania, 100)\n",
    "\n",
    "    if strategy == \"simple\":\n",
    "        y = x\n",
    "\n",
    "    i1 = keras.layers.Dense(4, kernel_initializer=init, activation=tf.nn.relu)\n",
    "    i2 = keras.layers.Dense(4, kernel_initializer=init, activation=tf.nn.relu)\n",
    "    i3 = keras.layers.Dense(4, kernel_initializer=init, activation=tf.nn.relu)\n",
    "    i4 = keras.layers.Dense(1)\n",
    "\n",
    "    m1 = i4(i3(i2(i1(x[:,2:]))))\n",
    "    m1_target = tf.keras.backend.reshape(x[:,1], (100,1))\n",
    "    m1_train = tf.train.GradientDescentOptimizer(0.2)\n",
    "    m1_vars = [i1.variables, i2.variables, i3.variables, i4.variables]\n",
    "\n",
    "    o1 = keras.layers.Dense(4, kernel_initializer=init, activation=tf.nn.relu)\n",
    "    o2 = keras.layers.Dense(4, kernel_initializer=init, activation=tf.nn.relu)\n",
    "    o3 = keras.layers.Dense(4, kernel_initializer=init, activation=tf.nn.relu)\n",
    "    o4 = keras.layers.Dense(1)\n",
    "\n",
    "    m2 = o4(o3(o2(o1(y[:,2:]))))\n",
    "    m2_target = tf.keras.backend.reshape(y[:,1], (100,1))\n",
    "    m2_train = tf.train.GradientDescentOptimizer(0.2)\n",
    "    m2_vars = [o1.variables, o2.variables, o3.variables, o4.variables]\n",
    "\n",
    "    a1 = keras.layers.Dense(7, kernel_initializer=init, activation=tf.nn.relu)\n",
    "    a2 = keras.layers.Dense(5, kernel_initializer=init, activation=tf.nn.softmax)\n",
    "\n",
    "    users = a2(a1(y))\n",
    "    a_train = tf.train.GradientDescentOptimizer(0.08)\n",
    "    a_vars = [a1.variables, a2.variables]\n",
    "\n",
    "    m1_loss = tf.placeholder(tf.float32)\n",
    "    m2_loss = tf.placeholder(tf.float32)\n",
    "    map_error = tf.placeholder(tf.float32)\n",
    "    adversary_loss = tf.placeholder(tf.float32)\n",
    "    privatizer_loss = tf.placeholder(tf.float32)\n",
    "    penalty = tf.placeholder(tf.float32)\n",
    "    threshold = tf.placeholder(tf.float32)\n",
    "    testpoints = tf.placeholder(tf.float32)\n",
    "    grid = tf.placeholder(tf.float32)\n",
    "\n",
    "    sess.run(tf.global_variables_initializer())\n",
    "\n",
    "    m1_loss = tf.reduce_mean(tf.keras.losses.mean_squared_error(m1, m1_target))\n",
    "    m1_train = m1_train.minimize(m1_loss, var_list = m1_vars)\n",
    "\n",
    "    m2_loss = tf.reduce_mean(tf.keras.losses.mean_squared_error(m2, m2_target))\n",
    "    m2_train = m2_train.minimize(m2_loss, var_list = m2_vars)\n",
    "\n",
    "    print(users.eval(session=sess)[0:10])\n",
    "    print(tf.one_hot(trueusers.eval(session=sess),5).eval(session=sess)[0:10])\n",
    "    \n",
    "    print(tf.losses.softmax_cross_entropy(tf.one_hot(trueusers.eval(session=sess),5), users).eval(session=sess))\n",
    "    \n",
    "    adversary_loss = tf.reduce_mean(tf.keras.backend.sparse_categorical_crossentropy(trueusers, users))\n",
    "    \n",
    "    print(adversary_loss.eval(session=sess))\n",
    "    \n",
    "    a_train = a_train.minimize(adversary_loss, var_list = a_vars)\n",
    "\n",
    "    if strategy == \"simple\":\n",
    "        combined = a2(a1(y))\n",
    "\n",
    "    testpoints = np.mgrid[-1.5:0.75:15j, -1.5:0.75:15j].reshape(2,-1).T\n",
    "    grid = tf.constant(testpoints, dtype=tf.float32)\n",
    "\n",
    "    def train(trainstep, trainloss, max_iter, session):\n",
    "        plotlist = []\n",
    "        delta1 = 100\n",
    "        delta2 = 0\n",
    "        count_iter = 0\n",
    "        while abs(delta1 - delta2) >= 0.0001 and count_iter < max_iter:\n",
    "            count_iter += 1\n",
    "            delta1 = trainloss.eval(session=session)\n",
    "            trainstep.run(session=session)\n",
    "            delta2 = trainloss.eval(session=session)\n",
    "            plotlist.append(trainloss.eval(session=session))\n",
    "        return plotlist\n",
    "\n",
    "    if strategy == \"simple\":\n",
    "\n",
    "        m2plot = train(m2_train, m2_loss, 1000, sess) \n",
    "        m1plot = train(m1_train, m1_loss, 1000, sess)\n",
    "        aplot = train(a_train, adversary_loss, 1000, sess)  \n",
    "        map_error = tf.reduce_mean(tf.keras.losses.mean_squared_error(i4(i3(i2(i1(y[:,2:])))), \n",
    "                                                                            o4(o3(o2(o1(y[:,2:]))))))    \n",
    "        print(map_error.eval(session=sess), adversary_loss.eval(session=sess))"
   ]
  },
  {
   "cell_type": "markdown",
   "metadata": {},
   "source": [
    "### LOWER BOUNDS ON ERROR\n",
    "Map error: 0.1087612544  \n",
    "Adversary error: 0.0396815408"
   ]
  },
  {
   "cell_type": "markdown",
   "metadata": {},
   "source": [
    "### That new new"
   ]
  },
  {
   "cell_type": "code",
   "execution_count": 335,
   "metadata": {},
   "outputs": [],
   "source": [
    "import numpy as np\n",
    "import random\n",
    "import os\n",
    "\n",
    "import tensorflow as tf\n",
    "from tensorflow import keras\n",
    "import numpy as np\n",
    "import matplotlib.pyplot as plt\n",
    "\n",
    "from mpl_toolkits.mplot3d import Axes3D\n",
    "\n",
    "def norm_x(x):\n",
    "    for col in range(x.shape[1]):\n",
    "        vals = x[:,col]\n",
    "        vals = (vals-np.mean(vals))/np.std(vals)\n",
    "        x[:,col] = vals\n",
    "    return x\n",
    "\n",
    "def sampleChania(Chania, n_points):\n",
    "    np.random.seed(0)\n",
    "    data = Chania[:,0:8]\n",
    "    order = np.argsort(np.random.random(data.shape[0]))\n",
    "    x = data[order][:n_points, 1:5]   \n",
    "    trueusers = data[order][:n_points,0]\n",
    "    n_clusters = 5\n",
    "    x = norm_x(x)\n",
    "    return tf.constant(x, dtype=tf.float32), tf.constant(trueusers, dtype=tf.float32)\n",
    "\n",
    "Chania = np.genfromtxt('processedChania.csv', delimiter=',')\n",
    "\n",
    "Chania = Chania[np.where(Chania[:,2]<99)]"
   ]
  },
  {
   "cell_type": "code",
   "execution_count": 392,
   "metadata": {},
   "outputs": [],
   "source": [
    "def train(trainstep, trainloss, max_iter, session, vis=False):\n",
    "    plotlist = []\n",
    "    delta1 = 100\n",
    "    delta2 = 0\n",
    "    count_iter = 0\n",
    "    while abs(delta1 - delta2) >= 0.0001 and count_iter < max_iter:\n",
    "        count_iter += 1\n",
    "        delta1 = trainloss.eval(session=session)\n",
    "        trainstep.run(session=session)\n",
    "        delta2 = trainloss.eval(session=session)\n",
    "        plotlist.append(trainloss.eval(session=session))\n",
    "        \n",
    "        \n",
    "    if vis:\n",
    "        if abs(delta1-delta2) < 0.0001:\n",
    "#             print(\"converged in\", count_iter, \"steps\")\n",
    "            pass\n",
    "\n",
    "        else:\n",
    "            plt.plot(plotlist)\n",
    "            raise ValueError()\n",
    "    \n",
    "    return plotlist\n",
    "\n",
    "\n",
    "def train_adversary(trainstep, trainloss, max_iter, session, vis=False):\n",
    "    plotlist = []\n",
    "    delta1 = 100\n",
    "    delta2 = 0\n",
    "    count_iter = 0\n",
    "    while abs(delta1 - delta2) >= 0.001 and count_iter < max_iter:\n",
    "        count_iter += 1\n",
    "        delta1 = trainloss.eval(session=session)\n",
    "        trainstep.run(session=session)\n",
    "        delta2 = trainloss.eval(session=session)\n",
    "        plotlist.append(trainloss.eval(session=session))\n",
    "        \n",
    "        \n",
    "    if vis:\n",
    "        if abs(delta1-delta2) < 0.001:\n",
    "#             print(\"converged in\", count_iter, \"steps\")\n",
    "            pass\n",
    "\n",
    "        else:\n",
    "            plt.plot(plotlist)\n",
    "            raise ValueError()\n",
    "    \n",
    "    return plotlist"
   ]
  },
  {
   "cell_type": "code",
   "execution_count": 415,
   "metadata": {
    "scrolled": false
   },
   "outputs": [
    {
     "name": "stdout",
     "output_type": "stream",
     "text": [
      "Random-label Adversary Error:\n",
      "1.8665694\n",
      "Y=X Privatizer Map Error:\n",
      "0.66965365\n",
      "\n",
      "Y=X Adversary Error:\n",
      "0.073179364\n",
      "\n",
      "Privatizer converged in 71 steps\n",
      "Map Error: 0.5496159\n",
      "Adversary Error: 2.34283\n",
      "Privatizer converged in 215 steps\n",
      "Map Error: 17.924183\n",
      "Adversary Error: 1.3719603\n",
      "-2.6147723 5.341766\n",
      "-3.7859879 2.3296707\n"
     ]
    }
   ],
   "source": [
    "def run_plot_automation(bias=False, show=False):\n",
    "    \n",
    "    def vis():\n",
    "    \n",
    "        fig = plt.figure(figsize=(15, 5))\n",
    "        ax = fig.add_subplot(121, projection='3d')\n",
    "        ax1 = fig.add_subplot(122, projection='3d')\n",
    "\n",
    "        ax.scatter(x.eval(session=sess)[:,3], x.eval(session=sess)[:,2], x.eval(session=sess)[:,1], c=x.eval(session=sess)[:,1])\n",
    "        ax.set_title(\"True Received Signal Strengths\")\n",
    "        ax.set_xlim(-3, 1)\n",
    "        ax.set_ylim(-2, 1.5)\n",
    "        ax.set_zlim(-3.5, 2.5)\n",
    "\n",
    "        ax1.scatter(y.eval(session=sess)[:,3], y.eval(session=sess)[:,2], y.eval(session=sess)[:,1], c=y.eval(session=sess)[:,1])\n",
    "        ax1.set_title(\"Obfuscated Received Signal Strengths\")\n",
    "        ax1.set_xlim(-3, 1)\n",
    "        ax1.set_ylim(-2, 1.5)\n",
    "        ax1.set_zlim(-3.5, 2.5)\n",
    "\n",
    "#     PENALTY = [0.5, 0.45, 0.4, 0.35, 0.3, 0.25, 0.2, 0.15, 0.1, 0.5, 0.0]\n",
    "#     PENALTY = [0.0001, 0.0005, 0.01, 0.02, 0.1, 0.2, 0.3, 0.4, 0.48]\n",
    "    PENALTY = [0.0, 0.00001]\n",
    "    I = 1\n",
    "    all_data = np.empty((I*len(PENALTY),3))\n",
    "\n",
    "    for P in range(len(PENALTY)):\n",
    "\n",
    "        for i in range(I):\n",
    "\n",
    "            strategy = \"GAP\"\n",
    "\n",
    "            sess = tf.Session()\n",
    "            keras.backend.set_session(sess)\n",
    "            \n",
    "            npoints = 100\n",
    "\n",
    "            x, trueusers = sampleChania(Chania, npoints)\n",
    "\n",
    "            if strategy == \"GAP\":\n",
    "\n",
    "                p_init = keras.initializers.RandomUniform(minval=-1.0, maxval=1.0, seed=0)\n",
    "#                 p_init = keras.initializers.Identity(gain=1.0)\n",
    "                p1 = keras.layers.Dense(4, kernel_initializer=p_init)\n",
    "                p2 = keras.layers.Dense(4, kernel_initializer=p_init)\n",
    "                p3 = keras.layers.Dense(4, kernel_initializer=p_init)\n",
    "                p4 = keras.layers.Dense(4, kernel_initializer=p_init)\n",
    "                p5 = keras.layers.Dense(4, kernel_initializer=p_init)\n",
    "\n",
    "                y = p5(p4(p3(p2(p1(x)))))\n",
    "                p_vars = [p1.variables, p2.variables, p3.variables, p4.variables, p5.variables]\n",
    "\n",
    "            map1_init = keras.initializers.RandomUniform(minval=-1.0, maxval=1.0, seed=1)\n",
    "            i1 = keras.layers.Dense(4, kernel_initializer=map1_init)\n",
    "            i2 = keras.layers.Dense(4, kernel_initializer=map1_init)\n",
    "            i3 = keras.layers.Dense(4, kernel_initializer=map1_init)\n",
    "            i4 = keras.layers.Dense(1, kernel_initializer=map1_init)\n",
    "\n",
    "            m1 = i4(i3(i2(i1(x[:,2:]))))\n",
    "            m1_target = tf.keras.backend.reshape(x[:,1], (npoints,1))\n",
    "            m1_train = tf.train.GradientDescentOptimizer(0.01)\n",
    "            m1_vars = [i1.variables, i2.variables, i3.variables, i4.variables]\n",
    "\n",
    "            a_init = keras.initializers.RandomUniform(minval=-1.0, maxval=1.0, seed=3)\n",
    "            a1 = keras.layers.Dense(7, kernel_initializer=a_init, activation=tf.nn.relu)\n",
    "            a2 = keras.layers.Dense(5, kernel_initializer=a_init, activation=tf.nn.softmax)\n",
    "\n",
    "            users = a2(a1(y))\n",
    "            a_train = tf.train.GradientDescentOptimizer(0.08)\n",
    "            test_a_train = tf.train.GradientDescentOptimizer(0.08)\n",
    "            a_vars = [a1.variables, a2.variables]\n",
    "\n",
    "            m1_loss = tf.placeholder(tf.float32)\n",
    "            adversary_loss = tf.placeholder(tf.float32)\n",
    "            privatizer_loss = tf.placeholder(tf.float32)\n",
    "            map_error = tf.placeholder(tf.float32)\n",
    "            penalty = tf.placeholder(tf.float32)\n",
    "            threshold = tf.placeholder(tf.float32)\n",
    "            testpoints = np.mgrid[-2:1.5:15j, -3:1:15j].reshape(2,-1).T\n",
    "            grid = tf.constant(testpoints, dtype=tf.float32)\n",
    "            \n",
    "            sess.run(tf.global_variables_initializer())\n",
    "            \n",
    "            m1_loss = tf.reduce_mean(tf.keras.losses.mean_squared_error(m1_target, m1))\n",
    "            m1_train = m1_train.minimize(m1_loss, var_list = m1_vars)\n",
    "            \n",
    "            if P == 0:\n",
    "                random_users = tf.constant(np.random.rand(npoints,5),dtype=tf.float32)\n",
    "                print(\"Random-label Adversary Error:\")\n",
    "                random_ad = tf.reduce_mean(tf.keras.backend.sparse_categorical_crossentropy(trueusers, random_users)).eval(session=sess)\n",
    "                print(random_ad)\n",
    "            \n",
    "            adversary_loss = tf.reduce_mean(tf.keras.backend.sparse_categorical_crossentropy(trueusers, users))\n",
    "            a_train = a_train.minimize(adversary_loss, var_list = a_vars)\n",
    "\n",
    "            if strategy == \"GAP\":\n",
    "                p_train = tf.train.GradientDescentOptimizer(0.1)\n",
    "                p_train_spread = tf.train.GradientDescentOptimizer(0.1)\n",
    "                \n",
    "            penalty = tf.constant(PENALTY[P], dtype=tf.float32)\n",
    "            threshold = tf.constant(0, dtype=tf.float32)\n",
    "            \n",
    "            yprime = i4(i3(i2(i1(y[:,2:]))))\n",
    "            map_error = tf.reduce_mean(tf.keras.losses.mean_squared_error(tf.keras.backend.reshape(y[:,1], (npoints,1)),yprime))\n",
    "            spread_error = penalty*tf.reduce_mean(tf.keras.losses.mean_squared_error(x[:,2:],y[:,2:]))\n",
    "    \n",
    "            zero = tf.constant(0, dtype=tf.float32)\n",
    "            privatizer_loss = penalty*(map_error)-adversary_loss\n",
    "                \n",
    "            if strategy == \"GAP\":\n",
    "                p_train = p_train.minimize(privatizer_loss, var_list = p_vars)\n",
    "                p_train_spread = p_train_spread.minimize(spread_error, var_list = p_vars)\n",
    "\n",
    "            delta1 = 1\n",
    "            delta2 = 0\n",
    "            count_iter = 0\n",
    "            max_iter = 1000\n",
    "            \n",
    "            m1plot = train(m1_train, m1_loss, 10000, sess, True)\n",
    "            \n",
    "            if P == 0:\n",
    "                print(\"Y=X Privatizer Map Error:\")\n",
    "                low_map_error = m1_loss.eval(session=sess)\n",
    "                print(low_map_error)\n",
    "                print(\"\")\n",
    "\n",
    "            while abs(delta1 - delta2) >= 0.0001 and count_iter < max_iter:\n",
    "\n",
    "                delta1 = privatizer_loss.eval(session=sess)\n",
    "                aplot = train_adversary(a_train, adversary_loss, 5000, sess, True)\n",
    "                pplot = train(p_train, privatizer_loss, 1, sess)\n",
    "                # To do: decide how often to bias\n",
    "                if bias:\n",
    "                    spreadplot = train(p_train_spread, spread_error, 1, sess)\n",
    "                delta2 = privatizer_loss.eval(session=sess)\n",
    "\n",
    "                count_iter += 1\n",
    "                \n",
    "            if P == 0:\n",
    "                test_adversary_loss = tf.reduce_mean(tf.keras.backend.sparse_categorical_crossentropy(trueusers, a2(a1(x))))\n",
    "                test_a_train = test_a_train.minimize(test_adversary_loss, var_list=a_vars)\n",
    "                no_priv_ad = train(test_a_train, test_adversary_loss, 2000, sess, True)\n",
    "                print(\"Y=X Adversary Error:\")\n",
    "                no_priv_ad = no_priv_ad[-1]\n",
    "                print(no_priv_ad)\n",
    "                print(\"\")\n",
    "                \n",
    "                \n",
    "            if abs(delta1-delta2) < 0.0001:\n",
    "                print(\"Privatizer converged in\", count_iter, \"steps\")\n",
    "                \n",
    "            else:\n",
    "                print(pplot)\n",
    "                print(\"privatizer did not converge\")\n",
    "                \n",
    "            index = int(I*P+i)\n",
    "            \n",
    "            print(\"Map Error:\", map_error.eval(session=sess))\n",
    "            print(\"Adversary Error:\", adversary_loss.eval(session=sess))\n",
    "            \n",
    "            all_data[index] = [PENALTY[P], map_error.eval(session=sess), adversary_loss.eval(session=sess)]\n",
    "\n",
    "            if i != I:\n",
    "                tf.keras.backend.clear_session()\n",
    "        \n",
    "    if show:\n",
    "        vis()\n",
    "        \n",
    "    tf.keras.backend.clear_session()\n",
    "    \n",
    "    print(np.min(y.eval(session=sess)[:,2]), np.max(y.eval(session=sess)[:,2]))\n",
    "    print(np.min(y.eval(session=sess)[:,3]), np.max(y.eval(session=sess)[:,3]))\n",
    "    \n",
    "    return random_ad, no_priv_ad, low_map_error, all_data\n",
    "            \n",
    "random_ad, no_priv_ad, low_map_error, all_data = run_plot_automation(show=False)"
   ]
  },
  {
   "cell_type": "code",
   "execution_count": 398,
   "metadata": {},
   "outputs": [
    {
     "data": {
      "text/plain": [
       "array([[1.00000000e-03, 1.57910478e+00, 2.61720681e+00],\n",
       "       [2.00000000e-03, 6.41783857e+00, 1.41911113e+00],\n",
       "       [3.00000000e-03, 9.89319444e-01, 1.40487003e+00],\n",
       "       [4.00000000e-03, 4.90685177e+00, 1.42737806e+00],\n",
       "       [5.00000000e-03, 1.36285797e-01, 1.39636958e+00],\n",
       "       [6.00000000e-03, 2.38305703e-01, 1.40474927e+00],\n",
       "       [7.00000000e-03, 3.83747011e-01, 1.40161788e+00],\n",
       "       [8.00000000e-03, 2.03215122e-01, 1.39791369e+00],\n",
       "       [9.00000000e-03, 1.05322801e-01, 1.45172727e+00]])"
      ]
     },
     "execution_count": 398,
     "metadata": {},
     "output_type": "execute_result"
    }
   ],
   "source": [
    "all_data"
   ]
  },
  {
   "cell_type": "code",
   "execution_count": 399,
   "metadata": {},
   "outputs": [],
   "source": [
    "GAP_data = all_data"
   ]
  },
  {
   "cell_type": "code",
   "execution_count": 404,
   "metadata": {},
   "outputs": [],
   "source": [
    "GAP_data = np.append(GAP_data, all_data, axis=0)"
   ]
  },
  {
   "cell_type": "code",
   "execution_count": 411,
   "metadata": {},
   "outputs": [],
   "source": [
    "GAP_data = GAP_data[np.where(GAP_data[:,0]!=0)]"
   ]
  },
  {
   "cell_type": "code",
   "execution_count": 412,
   "metadata": {
    "scrolled": false
   },
   "outputs": [
    {
     "data": {
      "text/plain": [
       "Text(0.5, 1.0, 'Privacy Utility Trade: GAP Privatizer, Worst Case Adversary')"
      ]
     },
     "execution_count": 412,
     "metadata": {},
     "output_type": "execute_result"
    },
    {
     "data": {
      "image/png": "[encoded data removed]",
      "text/plain": [
       "<Figure size 720x720 with 1 Axes>"
      ]
     },
     "metadata": {
      "needs_background": "light"
     },
     "output_type": "display_data"
    }
   ],
   "source": [
    "fig = plt.figure(figsize=(10,10))\n",
    "for i in np.unique(GAP_data[:,0]):\n",
    "    indices = np.where(GAP_data[:,0]==i)\n",
    "    plt.scatter(np.mean(GAP_data[indices][:,2]), np.mean(GAP_data[indices][:,1]))\n",
    "    plt.text(np.mean(GAP_data[indices][:,2]), np.mean(GAP_data[indices][:,1]), str(GAP_data[indices][0][0]))\n",
    "\n",
    "plt.axvline(random_ad)\n",
    "plt.axvline(no_priv_ad)\n",
    "plt.axhline(low_map_error)\n",
    "plt.xlabel(\"Adversary Error\")\n",
    "plt.ylabel(\"Map Error\")\n",
    "plt.title(\"Privacy Utility Trade: GAP Privatizer, Worst Case Adversary\")"
   ]
  },
  {
   "cell_type": "code",
   "execution_count": null,
   "metadata": {},
   "outputs": [],
   "source": []
  }
 ],
 "metadata": {
  "kernelspec": {
   "display_name": "Python 3",
   "language": "python",
   "name": "python3"
  },
  "language_info": {
   "codemirror_mode": {
    "name": "ipython",
    "version": 3
   },
   "file_extension": ".py",
   "mimetype": "text/x-python",
   "name": "python",
   "nbconvert_exporter": "python",
   "pygments_lexer": "ipython3",
   "version": "3.6.6"
  }
 },
 "nbformat": 4,
 "nbformat_minor": 2
}

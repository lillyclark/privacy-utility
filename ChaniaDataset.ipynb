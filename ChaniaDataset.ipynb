{
 "cells": [
  {
   "cell_type": "code",
   "execution_count": 29,
   "metadata": {},
   "outputs": [],
   "source": [
    "import pandas as pd\n",
    "from matplotlib.dates import datestr2num"
   ]
  },
  {
   "cell_type": "code",
   "execution_count": null,
   "metadata": {},
   "outputs": [],
   "source": [
    "df=pd.read_csv('smallChaniaDataset.csv', sep=',',header=None)"
   ]
  },
  {
   "cell_type": "code",
   "execution_count": 26,
   "metadata": {},
   "outputs": [
    {
     "name": "stdout",
     "output_type": "stream",
     "text": [
      "[[0 ' 2013-04-04 22:49:46' 1.05 ... 833 1869.4 1774.4]\n",
      " [0 ' 2013-04-04 22:49:53' 1.04 ... 833 1869.4 1774.4]\n",
      " [0 ' 2013-04-04 22:50:00' 1.32 ... 833 1869.4 1774.4]\n",
      " ...\n",
      " [4 ' 2013-03-08 21:34:00' 1.03 ... 794 1861.6 1766.6]\n",
      " [4 ' 2013-03-08 21:34:07' 1.03 ... 794 1861.6 1766.6]\n",
      " [4 ' 2013-03-08 21:34:13' 1.04 ... 794 1861.6 1766.6]]\n"
     ]
    }
   ],
   "source": [
    "print(df.values)"
   ]
  },
  {
   "cell_type": "code",
   "execution_count": 52,
   "metadata": {},
   "outputs": [],
   "source": [
    "data = np.transpose(np.vstack([datestr2num(df.values[:,1]), df.values[:,13], df.values[:,14]]))"
   ]
  },
  {
   "cell_type": "code",
   "execution_count": 53,
   "metadata": {},
   "outputs": [],
   "source": [
    "labels = df.values[:,0]"
   ]
  },
  {
   "cell_type": "code",
   "execution_count": 38,
   "metadata": {},
   "outputs": [],
   "source": [
    "import tensorflow as tf\n",
    "from tensorflow import keras\n",
    "import numpy as np"
   ]
  },
  {
   "cell_type": "code",
   "execution_count": 56,
   "metadata": {},
   "outputs": [],
   "source": [
    "order = np.argsort(np.random.random(labels.shape))\n",
    "train_data = data[order][0:100]\n",
    "train_labels = labels[order][0:100]\n",
    "test_data = data[order][100:161]\n",
    "test_labels = labels[order][100:161]"
   ]
  },
  {
   "cell_type": "code",
   "execution_count": 63,
   "metadata": {},
   "outputs": [
    {
     "name": "stdout",
     "output_type": "stream",
     "text": [
      "61/61 [==============================] - 0s 2ms/step\n",
      "0.21311475727401796\n"
     ]
    }
   ],
   "source": [
    "model = keras.Sequential()\n",
    "model.add(keras.layers.Dense(3, activation=tf.nn.relu))\n",
    "model.add(keras.layers.Dense(3, activation=tf.nn.relu))\n",
    "model.add(keras.layers.Dense(5, activation=tf.nn.softmax))\n",
    "model.compile(optimizer=tf.train.AdamOptimizer(), loss='sparse_categorical_crossentropy', metrics=['accuracy'])\n",
    "model.fit(train_data, train_labels, epochs=1000, verbose=0)\n",
    "test_loss, test_acc = model.evaluate(test_data, test_labels)\n",
    "print(test_acc)"
   ]
  },
  {
   "cell_type": "code",
   "execution_count": 68,
   "metadata": {},
   "outputs": [
    {
     "name": "stdout",
     "output_type": "stream",
     "text": [
      "Hidden Units: 1 Epochs: 200 Hidden Layers: 1\n",
      "61/61 [==============================] - 0s 8ms/step\n",
      "Test accuracy: 0.1311475408614659\n",
      "BEST\n",
      "\n",
      "Hidden Units: 1 Epochs: 200 Hidden Layers: 2\n",
      "61/61 [==============================] - 0s 8ms/step\n",
      "Test accuracy: 0.21311475727401796\n",
      "BEST\n",
      "\n",
      "Hidden Units: 1 Epochs: 200 Hidden Layers: 3\n",
      "61/61 [==============================] - 1s 9ms/step\n",
      "Test accuracy: 0.21311475727401796\n",
      "\n",
      "Hidden Units: 1 Epochs: 200 Hidden Layers: 4\n",
      "61/61 [==============================] - 1s 9ms/step\n",
      "Test accuracy: 0.21311475727401796\n",
      "\n",
      "Hidden Units: 2 Epochs: 200 Hidden Layers: 1\n",
      "61/61 [==============================] - 1s 10ms/step\n",
      "Test accuracy: 0.18032787202811631\n",
      "\n",
      "Hidden Units: 2 Epochs: 200 Hidden Layers: 2\n",
      "61/61 [==============================] - 1s 10ms/step\n",
      "Test accuracy: 0.2622950761044612\n",
      "BEST\n",
      "\n",
      "Hidden Units: 2 Epochs: 200 Hidden Layers: 3\n",
      "61/61 [==============================] - 1s 11ms/step\n",
      "Test accuracy: 0.1311475408614659\n",
      "\n",
      "Hidden Units: 2 Epochs: 200 Hidden Layers: 4\n",
      "61/61 [==============================] - 1s 12ms/step\n",
      "Test accuracy: 0.21311475727401796\n",
      "\n",
      "Hidden Units: 3 Epochs: 200 Hidden Layers: 1\n",
      "61/61 [==============================] - 1s 12ms/step\n",
      "Test accuracy: 0.1311475408614659\n",
      "\n",
      "Hidden Units: 3 Epochs: 200 Hidden Layers: 2\n",
      "61/61 [==============================] - 1s 13ms/step\n",
      "Test accuracy: 0.21311475727401796\n",
      "\n",
      "Hidden Units: 3 Epochs: 200 Hidden Layers: 3\n",
      "61/61 [==============================] - 1s 14ms/step\n",
      "Test accuracy: 0.21311475727401796\n",
      "\n",
      "Hidden Units: 3 Epochs: 200 Hidden Layers: 4\n",
      "61/61 [==============================] - 1s 14ms/step\n",
      "Test accuracy: 0.21311475727401796\n",
      "\n"
     ]
    }
   ],
   "source": [
    "best_accuracy = 0\n",
    "for numunits in [1, 2, 3]:\n",
    "    for epochs in [200]:\n",
    "        for numlayers in [1, 2, 3, 4]:\n",
    "            print(\"Hidden Units:\", numunits, \"Epochs:\", epochs, \"Hidden Layers:\", numlayers)\n",
    "            model = keras.Sequential()\n",
    "            for i in range(numlayers):\n",
    "                model.add(keras.layers.Dense(numunits, activation=tf.nn.relu))\n",
    "            model.add(keras.layers.Dense(5, activation=tf.nn.softmax))\n",
    "            \n",
    "            model.compile(optimizer=tf.train.AdamOptimizer(), \n",
    "                          loss='sparse_categorical_crossentropy',\n",
    "                          metrics=['accuracy'])\n",
    "            model.fit(train_data, train_labels, epochs, verbose=0)\n",
    "            test_loss, test_acc = model.evaluate(test_data, test_labels)\n",
    "\n",
    "            print('Test accuracy:', test_acc)\n",
    "            if test_acc > best_accuracy:\n",
    "                best_accuracy = test_acc\n",
    "                print(\"BEST\")\n",
    "            print(\"\")"
   ]
  },
  {
   "cell_type": "code",
   "execution_count": null,
   "metadata": {},
   "outputs": [],
   "source": []
  }
 ],
 "metadata": {
  "kernelspec": {
   "display_name": "Python 3",
   "language": "python",
   "name": "python3"
  },
  "language_info": {
   "codemirror_mode": {
    "name": "ipython",
    "version": 3
   },
   "file_extension": ".py",
   "mimetype": "text/x-python",
   "name": "python",
   "nbconvert_exporter": "python",
   "pygments_lexer": "ipython3",
   "version": "3.6.6"
  }
 },
 "nbformat": 4,
 "nbformat_minor": 2
}

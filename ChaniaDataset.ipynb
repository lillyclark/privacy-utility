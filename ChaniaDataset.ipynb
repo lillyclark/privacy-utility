{
 "cells": [
  {
   "cell_type": "markdown",
   "metadata": {},
   "source": [
    "# Visualizing Users"
   ]
  },
  {
   "cell_type": "code",
   "execution_count": null,
   "metadata": {},
   "outputs": [],
   "source": [
    "import pandas as pd\n",
    "import numpy as np\n",
    "from matplotlib.dates import datestr2num\n",
    "from sklearn.preprocessing import normalize\n",
    "import random"
   ]
  },
  {
   "cell_type": "code",
   "execution_count": null,
   "metadata": {},
   "outputs": [],
   "source": [
    "usecolumns = [0, 6, 12, 13, 19, 20, 21]\n",
    "u1e33 = pd.read_csv('Chania/1e33.csv', sep=',', usecols = usecolumns, dtype={'timestamp': object}, header=None)\n",
    "u1e33 = np.hstack([np.zeros((len(u1e33),1), dtype=int), u1e33])\n",
    "u7cbc = pd.read_csv('Chania/7cbc.csv', sep=',', usecols = usecolumns, dtype={'timestamp': object}, header=None)\n",
    "u7cbc = np.hstack([np.zeros((len(u7cbc),1), dtype=int)+1, u7cbc])\n",
    "u2222 = pd.read_csv('Chania/2222.csv', sep=',', usecols = usecolumns, dtype={'timestamp': object}, header=None)\n",
    "u2222 = np.hstack([np.zeros((len(u2222),1), dtype=int)+2, u2222])\n",
    "u6882 = pd.read_csv('Chania/6882.csv', sep=',', usecols = usecolumns, dtype={'timestamp': object}, header=None)\n",
    "u6882 = np.hstack([np.zeros((len(u6882),1), dtype=int)+3, u6882])\n",
    "ua841 = pd.read_csv('Chania/a841.csv', sep=',', usecols = usecolumns, dtype={'timestamp': object}, header=None)\n",
    "ua841 = np.hstack([np.zeros((len(ua841),1), dtype=int)+4, ua841])\n",
    "print(\"Data includes user ID and...\")\n",
    "print(u1e33[0][1:])\n",
    "Chania = np.vstack([u1e33[1:len(u1e33),:],u7cbc[1:len(u7cbc),:], u2222[1:len(u2222),:], u6882[1:len(u6882),:], ua841[1:len(ua841),:]])"
   ]
  },
  {
   "cell_type": "code",
   "execution_count": null,
   "metadata": {},
   "outputs": [],
   "source": [
    "# Chania = np.transpose(np.vstack([Chania[:,0], datestr2num(Chania[:,1]), strorfloat(Chania[:,2]), Chania[:,3]]))\n",
    "Chania = np.transpose(np.vstack([Chania[:,0], datestr2num(Chania[:,1]), Chania[:,2], Chania[:,3], Chania[:,4], Chania[:,5], Chania[:,6], Chania[:,7]]))"
   ]
  },
  {
   "cell_type": "markdown",
   "metadata": {},
   "source": [
    "Only include data between April 4, 2013 and April 14, 2013"
   ]
  },
  {
   "cell_type": "code",
   "execution_count": null,
   "metadata": {},
   "outputs": [],
   "source": [
    "rows = np.where((Chania[:,1] >= Chania[0][1]) & (Chania[:,1] <= Chania[67050][1]))\n",
    "Chania = Chania[rows]"
   ]
  },
  {
   "cell_type": "code",
   "execution_count": null,
   "metadata": {
    "scrolled": true
   },
   "outputs": [],
   "source": [
    "for i in range(len(Chania[:,2])):\n",
    "    try:\n",
    "        Chania[:,2][i] = int(Chania[:,2][i])\n",
    "        Chania[:,3][i] = float(Chania[:,3][i])\n",
    "        Chania[:,4][i] = float(Chania[:,4][i])\n",
    "        Chania[:,5][i] = float(Chania[:,5][i])\n",
    "        Chania[:,6][i] = float(Chania[:,6][i])\n",
    "        Chania[:,7][i] = float(Chania[:,7][i])\n",
    "    except:\n",
    "        pass"
   ]
  },
  {
   "cell_type": "markdown",
   "metadata": {},
   "source": [
    "Remove data where the latitude indicates an error"
   ]
  },
  {
   "cell_type": "code",
   "execution_count": null,
   "metadata": {},
   "outputs": [],
   "source": [
    "Chania = Chania[np.where(Chania[:,3] != 0)]"
   ]
  },
  {
   "cell_type": "markdown",
   "metadata": {},
   "source": [
    "Latitude and Longitudes for users 0 through 4"
   ]
  },
  {
   "cell_type": "code",
   "execution_count": null,
   "metadata": {},
   "outputs": [],
   "source": [
    "import matplotlib.pyplot as plt\n",
    "\n",
    "fig, axes = plt.subplots(1, 5, sharex='all', sharey='all', figsize=(15, 5))\n",
    "plt.axis([24.015,24.04, 35.505,35.525])\n",
    "axes[0].scatter(Chania[np.where(Chania[:,0] == 0)][:,4], Chania[np.where(Chania[:,0] == 0)][:,3])\n",
    "axes[1].scatter(Chania[np.where(Chania[:,0] == 1)][:,4], Chania[np.where(Chania[:,0] == 1)][:,3])\n",
    "axes[2].scatter(Chania[np.where(Chania[:,0] == 2)][:,4], Chania[np.where(Chania[:,0] == 2)][:,3])\n",
    "axes[3].scatter(Chania[np.where(Chania[:,0] == 3)][:,4], Chania[np.where(Chania[:,0] == 3)][:,3])\n",
    "axes[4].scatter(Chania[np.where(Chania[:,0] == 4)][:,4], Chania[np.where(Chania[:,0] == 4)][:,3])\n",
    "plt.show()\n",
    "\n",
    "for user in [0, 1, 2, 3, 4]:\n",
    "    print(len(Chania[np.where(Chania[:,0] == user)]), \" points from user\", user)"
   ]
  },
  {
   "cell_type": "code",
   "execution_count": null,
   "metadata": {
    "scrolled": true
   },
   "outputs": [],
   "source": [
    "fig, ax = plt.subplots()\n",
    "ax.scatter(Chania[np.where(Chania[:,0] == 0)][:,4], Chania[np.where(Chania[:,0] == 0)][:,3], c='red', label='1e33')\n",
    "ax.scatter(Chania[np.where(Chania[:,0] == 1)][:,4], Chania[np.where(Chania[:,0] == 1)][:,3], c='orange', label='7cbc')\n",
    "ax.scatter(Chania[np.where(Chania[:,0] == 2)][:,4], Chania[np.where(Chania[:,0] == 2)][:,3], c='yellow', label='2222')\n",
    "ax.scatter(Chania[np.where(Chania[:,0] == 3)][:,4], Chania[np.where(Chania[:,0] == 3)][:,3], c='green', label='6882')\n",
    "ax.scatter(Chania[np.where(Chania[:,0] == 4)][:,4], Chania[np.where(Chania[:,0] == 4)][:,3], c='blue', label='a841')\n",
    "\n",
    "\n",
    "ax.legend()\n",
    "ax.grid(True)\n",
    "\n",
    "plt.axis([24.015,24.04,35.505,35.525])\n",
    "plt.show()"
   ]
  },
  {
   "cell_type": "markdown",
   "metadata": {},
   "source": [
    "points can jump at least 0.8148 km in 6 seconds"
   ]
  },
  {
   "cell_type": "code",
   "execution_count": null,
   "metadata": {
    "scrolled": false
   },
   "outputs": [],
   "source": [
    "fig, ax = plt.subplots(figsize=(15, 15))\n",
    "im = plt.imread(\"Chania.png\")\n",
    "ax.imshow(im)\n",
    "\n",
    "def convertx(x):\n",
    "    return 584/(24.04-24.015)*(x-24.015)\n",
    "\n",
    "def converty(y):\n",
    "    return 575 - 575/(35.525-35.505)*(y-35.505)\n",
    "\n",
    "colors = ['red','orange','yellow','green','blue']\n",
    "labels = ['1e33', '7cbc', '2222', '6882', 'a841']\n",
    "\n",
    "for user in [0,1,2,3,4]:\n",
    "    x = Chania[np.where(Chania[:,0] == user)][:,4]\n",
    "    y = Chania[np.where(Chania[:,0] == user)][:,3]\n",
    "    ax.scatter(convertx(x), converty(y), c=colors[user], label=labels[user])\n",
    "\n",
    "ax.legend()\n",
    "ax.grid(True)\n",
    "plt.show()"
   ]
  },
  {
   "cell_type": "markdown",
   "metadata": {},
   "source": [
    "one grid space  \n",
    "0.3798 km in the x direction  \n",
    "0.36895 km in the y direction"
   ]
  },
  {
   "cell_type": "markdown",
   "metadata": {},
   "source": [
    "# Signal Mapping"
   ]
  },
  {
   "cell_type": "code",
   "execution_count": null,
   "metadata": {},
   "outputs": [],
   "source": [
    "import tensorflow as tf\n",
    "from tensorflow import keras\n",
    "import numpy as np"
   ]
  },
  {
   "cell_type": "code",
   "execution_count": null,
   "metadata": {},
   "outputs": [],
   "source": [
    "Chania"
   ]
  },
  {
   "cell_type": "code",
   "execution_count": null,
   "metadata": {},
   "outputs": [],
   "source": [
    "plt.plot(Chania[:,2])\n",
    "plt.title(\"Reported RSSI\")"
   ]
  },
  {
   "cell_type": "code",
   "execution_count": null,
   "metadata": {},
   "outputs": [],
   "source": [
    "print(\"Plotting RSS values: low values are dark, high values are light\")\n",
    "\n",
    "fig, ax = plt.subplots(figsize=(15, 15))\n",
    "# im = plt.imread(\"Chania.png\")\n",
    "# ax.imshow(im)\n",
    "\n",
    "# remove possible error indicated by rssi = 99\n",
    "smoothrssi = Chania[np.where(Chania[:,2]<99)]\n",
    "\n",
    "x = smoothrssi[:,4]\n",
    "y = smoothrssi[:,3]\n",
    "\n",
    "plt.scatter(x, y, c=smoothrssi[:,2])\n",
    "plt.show()"
   ]
  },
  {
   "cell_type": "code",
   "execution_count": null,
   "metadata": {},
   "outputs": [],
   "source": [
    "# data = np.hstack([smoothrssi[:,0:2], smoothrssi[:,3:8]])\n",
    "# print(data)"
   ]
  },
  {
   "cell_type": "code",
   "execution_count": null,
   "metadata": {},
   "outputs": [],
   "source": [
    "# justcoords = data[:,2:4]"
   ]
  },
  {
   "cell_type": "code",
   "execution_count": null,
   "metadata": {},
   "outputs": [],
   "source": [
    "# labels = smoothrssi[:,2]\n",
    "# print(labels)"
   ]
  },
  {
   "cell_type": "code",
   "execution_count": null,
   "metadata": {},
   "outputs": [],
   "source": [
    "# print(data.shape)\n",
    "# print(justcoords.shape)"
   ]
  },
  {
   "cell_type": "code",
   "execution_count": null,
   "metadata": {},
   "outputs": [],
   "source": [
    "## Train on all data\n",
    "\n",
    "# ntrain, ntest = 10000, 200\n",
    "# order = np.argsort(np.random.random(labels.shape))\n",
    "# train_data = data[order][0:ntrain]\n",
    "# train_labels = labels[order][0:ntrain]\n",
    "# test_data = data[order][ntrain:ntrain+ntest]\n",
    "# test_labels = labels[order][ntrain:ntrain+ntest]"
   ]
  },
  {
   "cell_type": "code",
   "execution_count": null,
   "metadata": {},
   "outputs": [],
   "source": [
    "# ## Train on just coords\n",
    "\n",
    "# ntrain, ntest = 10000, 200\n",
    "# order = np.argsort(np.random.random(labels.shape))\n",
    "# train_data = justcoords[order][0:ntrain]\n",
    "# train_labels = labels[order][0:ntrain]\n",
    "# test_data = justcoords[order][ntrain:ntrain+ntest]\n",
    "# test_labels = labels[order][ntrain:ntrain+ntest]"
   ]
  },
  {
   "cell_type": "markdown",
   "metadata": {},
   "source": [
    "## Normalized Data"
   ]
  },
  {
   "cell_type": "code",
   "execution_count": null,
   "metadata": {},
   "outputs": [],
   "source": [
    "xcoord = smoothrssi[:,4]\n",
    "xcoord = (xcoord-np.mean(xcoord))/np.std(xcoord)\n",
    "ycoord = smoothrssi[:,3]\n",
    "ycoord = (ycoord-np.mean(ycoord))/np.std(ycoord)\n",
    "zlabel = smoothrssi[:,2]\n",
    "zlabel = (zlabel-np.mean(zlabel))/np.std(zlabel)"
   ]
  },
  {
   "cell_type": "code",
   "execution_count": null,
   "metadata": {},
   "outputs": [],
   "source": [
    "print(\"Plotting RSS values: low values are dark, high values are light\")\n",
    "fig, ax = plt.subplots(figsize=(15, 15))\n",
    "plt.scatter(xcoord, ycoord, c=zlabel)\n",
    "plt.show()"
   ]
  },
  {
   "cell_type": "code",
   "execution_count": null,
   "metadata": {},
   "outputs": [],
   "source": [
    "def build_model():\n",
    "    model = keras.Sequential([\n",
    "        keras.layers.Dense(10, activation=tf.nn.relu),\n",
    "        keras.layers.Dense(10, activation=tf.nn.relu),\n",
    "        keras.layers.Dense(1)\n",
    "    ])\n",
    "    \n",
    "#     optimizer = tf.train.RMSPropOptimizer(0.001)\n",
    "    optimizer = tf.train.FtrlOptimizer(0.001)\n",
    "    \n",
    "    model.compile(loss='mse',\n",
    "                  optimizer=optimizer,\n",
    "                  metrics=['mae', 'mse'])\n",
    "    \n",
    "    return model"
   ]
  },
  {
   "cell_type": "code",
   "execution_count": null,
   "metadata": {},
   "outputs": [],
   "source": [
    "model = build_model()"
   ]
  },
  {
   "cell_type": "code",
   "execution_count": null,
   "metadata": {},
   "outputs": [],
   "source": [
    "## Train on normalized data\n",
    "normcoords = np.transpose(np.vstack([xcoord, ycoord]))\n",
    "normlabels = zlabel\n",
    "\n",
    "ntrain, ntest = 800, 200\n",
    "order = np.argsort(np.random.random(labels.shape))\n",
    "train_data = normcoords[order][0:ntrain]\n",
    "train_labels = normlabels[order][0:ntrain]\n",
    "test_data = normcoords[order][ntrain:ntrain+ntest]\n",
    "test_labels = normlabels[order][ntrain:ntrain+ntest]"
   ]
  },
  {
   "cell_type": "code",
   "execution_count": null,
   "metadata": {},
   "outputs": [],
   "source": [
    "print(\"training...\")\n",
    "model.fit(train_data, train_labels, epochs=100, verbose=0)\n",
    "loss, mae, mse = model.evaluate(test_data, test_labels, verbose=0)\n",
    "print(loss, mae, mse)"
   ]
  },
  {
   "cell_type": "code",
   "execution_count": null,
   "metadata": {},
   "outputs": [],
   "source": [
    "fig, ax = plt.subplots(1, 2, figsize=(15, 5))\n",
    "\n",
    "x = test_data[:,0]\n",
    "y = test_data[:,1]\n",
    "\n",
    "z_est = model.predict(test_data)\n",
    "c_est = np.transpose(z_est).tolist()[0]\n",
    "z_true = test_labels\n",
    "c_true = np.transpose(z_true).tolist()\n",
    "\n",
    "ax[0].set_title(\"Predicted labels for test data\")\n",
    "ax[0].scatter(x, y, c=c_est)\n",
    "ax[1].set_title(\"Actual labels for test data\")\n",
    "ax[1].scatter(x, y, c=c_true)\n",
    "plt.show()"
   ]
  },
  {
   "cell_type": "markdown",
   "metadata": {},
   "source": [
    "what is this in bars on your phone"
   ]
  },
  {
   "cell_type": "code",
   "execution_count": null,
   "metadata": {},
   "outputs": [],
   "source": [
    "fig, ax = plt.subplots(figsize=(15, 15))\n",
    "\n",
    "n = 1000\n",
    "x = np.random.uniform(min(normcoords[:,0]), max(normcoords[:,0]), size=n)\n",
    "y = np.random.uniform(min(normcoords[:,1]), max(normcoords[:,1]), size=n)\n",
    "z = model.predict(np.transpose(np.vstack([x, y])))\n",
    "\n",
    "c=np.transpose(z).tolist()[0]\n",
    "\n",
    "plt.title(\"Signal Map\")\n",
    "plt.scatter(x, y, c=c)\n",
    "plt.show()"
   ]
  },
  {
   "cell_type": "markdown",
   "metadata": {},
   "source": [
    "## Supervised learning of user ID"
   ]
  },
  {
   "cell_type": "code",
   "execution_count": null,
   "metadata": {},
   "outputs": [],
   "source": [
    "data = Chania[:,1:8]"
   ]
  },
  {
   "cell_type": "code",
   "execution_count": null,
   "metadata": {},
   "outputs": [],
   "source": [
    "for col in range(data.shape[1]):\n",
    "    try:\n",
    "        data[:,col] = (data[:,col]-np.mean(data[:,col]))/np.std(data[:,col])\n",
    "    except:\n",
    "        data[:,col] = (data[:,col]-np.mean(data[:,col]))"
   ]
  },
  {
   "cell_type": "code",
   "execution_count": null,
   "metadata": {
    "scrolled": true
   },
   "outputs": [],
   "source": [
    "data[0]"
   ]
  },
  {
   "cell_type": "code",
   "execution_count": null,
   "metadata": {},
   "outputs": [],
   "source": [
    "labels = Chania[:,0]"
   ]
  },
  {
   "cell_type": "code",
   "execution_count": null,
   "metadata": {},
   "outputs": [],
   "source": [
    "ntrain, ntest = 800, 200\n",
    "order = np.argsort(np.random.random(labels.shape))\n",
    "train_data = data[order][0:ntrain]\n",
    "train_labels = labels[order][0:ntrain]\n",
    "test_data = data[order][ntrain:ntrain+ntest]\n",
    "test_labels = labels[order][ntrain:ntrain+ntest]"
   ]
  },
  {
   "cell_type": "code",
   "execution_count": null,
   "metadata": {},
   "outputs": [],
   "source": [
    "model = keras.Sequential()\n",
    "model.add(keras.layers.Dense(5, activation=tf.nn.relu))\n",
    "model.add(keras.layers.Dense(5, activation=tf.nn.relu))\n",
    "model.add(keras.layers.Dense(5, activation=tf.nn.softmax))\n",
    "model.compile(optimizer=tf.train.AdamOptimizer(), loss='sparse_categorical_crossentropy', metrics=['accuracy'])"
   ]
  },
  {
   "cell_type": "code",
   "execution_count": null,
   "metadata": {},
   "outputs": [],
   "source": [
    "model.fit(train_data, train_labels, epochs=1000, verbose=0)\n",
    "test_loss, test_acc = model.evaluate(test_data, test_labels)\n",
    "print(test_acc)"
   ]
  },
  {
   "cell_type": "code",
   "execution_count": null,
   "metadata": {},
   "outputs": [],
   "source": [
    "fig, ax = plt.subplots(1, 2, figsize=(15, 5))\n",
    "\n",
    "x = test_data[:,3]\n",
    "y = test_data[:,2]\n",
    "\n",
    "z_est = np.argmax(model.predict(test_data), axis=1)\n",
    "c_est = np.transpose(z_est).tolist()\n",
    "z_true = test_labels\n",
    "c_true = np.transpose(z_true).tolist()\n",
    "\n",
    "ax[0].set_title(\"Predicted users for test data\")\n",
    "ax[0].scatter(x, y, c=c_est)\n",
    "ax[1].set_title(\"Actual users for test data\")\n",
    "ax[1].scatter(x, y, c=c_true)\n",
    "plt.show()"
   ]
  },
  {
   "cell_type": "code",
   "execution_count": 92,
   "metadata": {},
   "outputs": [],
   "source": [
    "import numpy as np\n",
    "import random\n",
    "import os\n",
    "\n",
    "import tensorflow as tf\n",
    "from tensorflow import keras\n",
    "import numpy as np\n",
    "import matplotlib.pyplot as plt\n",
    "\n",
    "from mpl_toolkits.mplot3d import Axes3D\n",
    "\n",
    "from math import ceil, log\n",
    "\n",
    "def norm_x(x, changedB=False):\n",
    "    if changedB:\n",
    "        x[:,1] = 1/(10**(x[:,1]/10))\n",
    "    for col in range(x.shape[1]):\n",
    "        vals = x[:,col]\n",
    "        vals = (vals-np.mean(vals))/np.std(vals)\n",
    "        x[:,col] = vals\n",
    "    return x\n",
    "\n",
    "def sampleChania(Chania, n_points, seed_val=0, pathloss=False):\n",
    "    np.random.seed(seed_val)\n",
    "    data = Chania[:,0:8]\n",
    "    order = np.argsort(np.random.random(data.shape[0]))\n",
    "    x = data[order][:n_points, 1:5]   \n",
    "    trueusers = data[order][:n_points,0]\n",
    "    n_clusters = 5\n",
    "    x = norm_x(x, changedB=pathloss)\n",
    "    return tf.constant(x, dtype=tf.float32), tf.constant(trueusers, dtype=tf.float32)\n",
    "\n",
    "def tf_cov(x):\n",
    "    mean_x = tf.reduce_mean(x, axis=0, keepdims=True)\n",
    "    mx = tf.matmul(tf.transpose(mean_x), mean_x)\n",
    "    vx = tf.matmul(tf.transpose(x), x)/tf.cast(tf.shape(x)[0], tf.float32)\n",
    "    cov_xx = vx - mx\n",
    "    return cov_xx\n",
    "        \n",
    "def vandermonde(x):\n",
    "    vandermonde_x = tf.transpose(tf.stack([tf.ones_like(x[:,0]), \n",
    "                                           x[:,0], \n",
    "                                           x[:,1], \n",
    "                                           tf.square(x[:,0]), \n",
    "                                           tf.square(x[:,1]),\n",
    "                                          ]))\n",
    "#                                            tf.multiply(x[:,0], x[:,1])\n",
    "#                                           ]))\n",
    "    return vandermonde_x\n",
    "\n",
    "def vandermonde4(x):\n",
    "    vandermonde4_x = tf.transpose(tf.stack([tf.ones_like(x[:,0]),\n",
    "                                            x[:,0],\n",
    "                                            x[:,1],\n",
    "                                            tf.square(x[:,0]),\n",
    "                                            tf.square(x[:,1]),\n",
    "                                            tf.multiply(x[:,0], x[:,1]),\n",
    "                                            tf.multiply(tf.multiply(x[:,0], x[:,0]), x[:,0]),\n",
    "                                            tf.multiply(tf.multiply(x[:,1], x[:,1]), x[:,1]),\n",
    "                                            tf.multiply(tf.square(x[:,0]), x[:,1]),\n",
    "                                            tf.multiply(tf.square(x[:,1]), x[:,0]),\n",
    "                                            tf.multiply(tf.square(x[:,0]), tf.square(x[:,0])),\n",
    "                                            tf.multiply(tf.square(x[:,1]), tf.square(x[:,1])),\n",
    "                                            tf.multiply(tf.square(x[:,0]), tf.square(x[:,1])),\n",
    "                                            tf.multiply(tf.square(x[:,0]), tf.multiply(x[:,0], x[:,1])),\n",
    "                                            tf.multiply(tf.square(x[:,1]), tf.multiply(x[:,1], x[:,0]))\n",
    "                                           ]))\n",
    "    return vandermonde4_x\n",
    "\n",
    "def stats_matrix(x):\n",
    "    return tf.stack([tf.reduce_mean(x,0), tf.keras.backend.std(x,0)])\n",
    "\n",
    "Chania = np.genfromtxt('processedChania.csv', delimiter=',')\n",
    "\n",
    "Chania = Chania[np.where(Chania[:,2]<99)]"
   ]
  },
  {
   "cell_type": "code",
   "execution_count": 4,
   "metadata": {},
   "outputs": [],
   "source": [
    "def train(trainstep, trainloss, max_iter, session, vis=False):\n",
    "    plotlist = []\n",
    "    delta1 = 100\n",
    "    delta2 = 0\n",
    "    count_iter = 0\n",
    "    while abs(delta1 - delta2) >= 0.0005*delta1 and count_iter < max_iter:\n",
    "        count_iter += 1\n",
    "        delta1 = trainloss.eval(session=session)\n",
    "        trainstep.run(session=session)\n",
    "        delta2 = trainloss.eval(session=session)\n",
    "        plotlist.append(delta2)\n",
    "        \n",
    "        \n",
    "    if vis:\n",
    "        if abs(delta1-delta2) < 0.0005*delta1:\n",
    "#             print(\"converged in\", count_iter, \"steps\")\n",
    "            pass\n",
    "\n",
    "        else:\n",
    "            plt.plot(plotlist)\n",
    "            raise ValueError()\n",
    "    \n",
    "    return plotlist, count_iter==1"
   ]
  },
  {
   "cell_type": "markdown",
   "metadata": {},
   "source": [
    "## Unsupervised learning of user ID"
   ]
  },
  {
   "cell_type": "code",
   "execution_count": 116,
   "metadata": {},
   "outputs": [],
   "source": [
    "def dist(x, y, xprime, yprime):\n",
    "    return ((abs(x-xprime)**2)+(abs(y-yprime))**2)**1/2"
   ]
  },
  {
   "cell_type": "code",
   "execution_count": 117,
   "metadata": {},
   "outputs": [],
   "source": [
    "def point_dist(new, old):\n",
    "    x, y = new[4], new[3]\n",
    "    xprime, yprime = old[4], old[3]\n",
    "    return dist(x, y, xprime, yprime)"
   ]
  },
  {
   "cell_type": "code",
   "execution_count": 118,
   "metadata": {},
   "outputs": [],
   "source": [
    "def findlabels(label, data, epsilon, plotdata, plotlabels):\n",
    "    if len(data) == 0:\n",
    "        return int(plotlabels[-1]+1), plotdata, plotlabels\n",
    "    sorted_data, dist_from_start = sortbydistfromstart(data[0], data)\n",
    "    neighbors = sorted_data[np.where(dist_from_start < epsilon)]\n",
    "    labels = np.ones(len(neighbors))*label\n",
    "    if label == 0:\n",
    "        plotdata = neighbors\n",
    "        plotlabels = labels\n",
    "    else:\n",
    "        plotdata = np.concatenate((plotdata, neighbors), axis=0)\n",
    "        plotlabels = np.concatenate((plotlabels, labels), axis=0)\n",
    "\n",
    "    return findlabels(label+1, sorted_data[np.where(dist_from_start >= epsilon)], epsilon, plotdata, plotlabels)"
   ]
  },
  {
   "cell_type": "code",
   "execution_count": 119,
   "metadata": {},
   "outputs": [],
   "source": [
    "def sortbydistfromstart(startpoint, data):\n",
    "    dist_from_start = np.array(list(map(lambda point: point_dist(point, startpoint), data)))\n",
    "    closeness = np.argsort(dist_from_start)\n",
    "    return data[closeness], dist_from_start[closeness]"
   ]
  },
  {
   "cell_type": "code",
   "execution_count": 146,
   "metadata": {},
   "outputs": [],
   "source": [
    "def cluster(data, num_users):\n",
    "    mindist = 0\n",
    "    _, distarr = sortbydistfromstart(data[0], data)\n",
    "    maxdist = distarr[-1]\n",
    "    n_iter = 0\n",
    "    \n",
    "    while n_iter < 50:\n",
    "        n_iter += 1\n",
    "        epsilon = (mindist+maxdist)/2\n",
    "        num_clusters, plotdata, plotlabels = findlabels(0, data, epsilon, None, None)\n",
    "        if num_clusters == num_users:\n",
    "            return plotlabels, plotdata\n",
    "        elif num_clusters < num_users:\n",
    "            maxdist = epsilon\n",
    "        else:\n",
    "            mindist = epsilon\n",
    "    return plotlabels, plotdata"
   ]
  },
  {
   "cell_type": "code",
   "execution_count": 147,
   "metadata": {},
   "outputs": [],
   "source": [
    "from itertools import permutations"
   ]
  },
  {
   "cell_type": "code",
   "execution_count": 186,
   "metadata": {},
   "outputs": [],
   "source": [
    "def cluster_accuracy(clusterlabels, truelabels, plotdata):\n",
    "    a, ix = np.unique(truelabels, return_inverse=True)\n",
    "    accuracy = []\n",
    "    perms = []\n",
    "    for p in permutations(a):\n",
    "        p = np.array(p)\n",
    "        acc = np.count_nonzero(np.equal(clusterlabels, p[ix]))/len(clusterlabels)\n",
    "        if acc == 1.0:\n",
    "            plotdata[:,0] = p[ix]\n",
    "            return acc*100\n",
    "        accuracy.append(acc)\n",
    "        perms.append(p[ix])\n",
    "    accuracy = np.array(accuracy)\n",
    "    plotdata[:,0] = perms[np.argmax(accuracy)]\n",
    "    return np.max(accuracy)*100"
   ]
  },
  {
   "cell_type": "code",
   "execution_count": 149,
   "metadata": {},
   "outputs": [],
   "source": [
    "sess = tf.Session()\n",
    "x, trueusers = sampleChania(Chania, 100, seed_val=0, pathloss=True)\n",
    "\n",
    "# TODO stack x and trueusers\n",
    "\n",
    "x_with_labels = tf.concat([tf.reshape(trueusers, [100,1]), x], axis=1)\n",
    "sess.run(tf.global_variables_initializer())"
   ]
  },
  {
   "cell_type": "code",
   "execution_count": 150,
   "metadata": {},
   "outputs": [],
   "source": [
    "yarray = x.eval(session=sess) + np.random.normal(scale=0.5, size=(100,4))\n",
    "y = tf.constant(yarray, tf.float32)\n",
    "y_with_labels = tf.concat([tf.reshape(trueusers, [100,1]), y], axis=1)"
   ]
  },
  {
   "cell_type": "code",
   "execution_count": 187,
   "metadata": {
    "scrolled": false
   },
   "outputs": [
    {
     "name": "stdout",
     "output_type": "stream",
     "text": [
      "Cluster Accuracy (%): 100.0\n"
     ]
    },
    {
     "data": {
      "text/plain": [
       "<matplotlib.colorbar.Colorbar at 0x7fc45e020908>"
      ]
     },
     "execution_count": 187,
     "metadata": {},
     "output_type": "execute_result"
    },
    {
     "data": {
      "image/png": "[encoded data removed]",
      "text/plain": [
       "<Figure size 1080x360 with 2 Axes>"
      ]
     },
     "metadata": {
      "needs_background": "light"
     },
     "output_type": "display_data"
    },
    {
     "data": {
      "image/png": "[encoded data removed]",
      "text/plain": [
       "<Figure size 1080x360 with 2 Axes>"
      ]
     },
     "metadata": {
      "needs_background": "light"
     },
     "output_type": "display_data"
    }
   ],
   "source": [
    "clusterlabels, plotdata = cluster(x_with_labels.eval(session=sess), 5)\n",
    "print(\"Cluster Accuracy (%):\", cluster_accuracy(clusterlabels, plotdata[:,0], plotdata))\n",
    "# print(clusterlabels)\n",
    "# plotdata[:,0].sort()\n",
    "# print(plotdata[:,0])\n",
    "fig = plt.figure(figsize=(15,5))\n",
    "plt.scatter(plotdata[:,4], plotdata[:,3], c=plotdata[:,0])\n",
    "plt.title(\"True Users\")\n",
    "plt.colorbar()\n",
    "fig = plt.figure(figsize=(15,5))\n",
    "plt.scatter(plotdata[:,4], plotdata[:,3], c=clusterlabels)\n",
    "plt.title(\"True Users\")\n",
    "plt.colorbar()"
   ]
  },
  {
   "cell_type": "code",
   "execution_count": null,
   "metadata": {},
   "outputs": [],
   "source": []
  },
  {
   "cell_type": "code",
   "execution_count": 142,
   "metadata": {},
   "outputs": [
    {
     "data": {
      "image/png": "[encoded data removed]",
      "text/plain": [
       "<Figure size 432x288 with 2 Axes>"
      ]
     },
     "metadata": {
      "needs_background": "light"
     },
     "output_type": "display_data"
    }
   ],
   "source": [
    "# Scatter the points, using size and color but no label\n",
    "plt.scatter([1,2,3,4], [3,7,6,2], label=None,\n",
    "            c=np.log10([1,2,10,1]), cmap='viridis',\n",
    "            s=1, linewidth=0, alpha=0.5)\n",
    "plt.axis(aspect='equal')\n",
    "plt.xlabel('longitude')\n",
    "plt.ylabel('latitude')\n",
    "plt.colorbar(label='log$_{10}$(population)')\n",
    "plt.clim(3, 7)\n",
    "\n",
    "# Here we create a legend:\n",
    "# we'll plot empty lists with the desired size and label\n",
    "for area in [100, 300, 500]:\n",
    "    plt.scatter([], [], c='k', alpha=0.3, s=area,\n",
    "                label=str(area) + ' km$^2$')\n",
    "plt.legend(scatterpoints=1, frameon=False, labelspacing=1, title='City Area')\n",
    "\n",
    "plt.title('California Cities: Area and Population');"
   ]
  },
  {
   "cell_type": "code",
   "execution_count": null,
   "metadata": {},
   "outputs": [],
   "source": []
  },
  {
   "cell_type": "markdown",
   "metadata": {},
   "source": [
    "## PRIVITIZER"
   ]
  },
  {
   "cell_type": "markdown",
   "metadata": {},
   "source": [
    "input: userID, RSSI, lat, long  \n",
    "output: userID, RSSI', lat', long'  \n",
    "  \n",
    "map(input) -> inputmap(x, y) = rss1  \n",
    "map(output) -> outputmap(x, y) = rss2\n",
    "\n",
    "cluster(input) -> cluster_accuracy(clusterinput, trueinput) = acc1  \n",
    "cluster(output) -> cluster_accuracy(clusteroutput, trueoutput) = acc2\n",
    "  \n",
    "lossMAP: mse(rss1, rss2)  \n",
    "lossAD: acc2\n",
    "\n",
    "loss = wA(lossMAP) + wB(lossAD)"
   ]
  },
  {
   "cell_type": "code",
   "execution_count": null,
   "metadata": {},
   "outputs": [],
   "source": [
    "import tensorflow as tf\n",
    "from tensorflow import keras\n",
    "import numpy as np\n",
    "import matplotlib.pyplot as plt"
   ]
  },
  {
   "cell_type": "code",
   "execution_count": null,
   "metadata": {},
   "outputs": [],
   "source": [
    "# normalize data\n",
    "data = Chania[:,0:8]\n",
    "n_points = 100\n",
    "order = np.argsort(np.random.random(data.shape[0]))\n",
    "x = data[order][:n_points, 1:5]\n",
    "trueusers = data[order][:n_points,0]\n",
    "n_clusters = 5"
   ]
  },
  {
   "cell_type": "code",
   "execution_count": null,
   "metadata": {},
   "outputs": [],
   "source": [
    "def norm_x(x):\n",
    "    for col in range(x.shape[1]):\n",
    "        vals = x[:,col]\n",
    "        vals = (vals-np.mean(vals))/np.std(vals)\n",
    "        x[:,col] = vals\n",
    "    return x\n",
    "\n",
    "x = norm_x(x)"
   ]
  },
  {
   "cell_type": "code",
   "execution_count": null,
   "metadata": {},
   "outputs": [],
   "source": [
    "x = tf.constant(x, dtype=tf.float32)"
   ]
  },
  {
   "cell_type": "code",
   "execution_count": null,
   "metadata": {},
   "outputs": [],
   "source": [
    "nn_model = keras.Sequential([keras.layers.Dense(1), keras.layers.Dense(x.shape[1].value)])\n",
    "y = nn_model(x)"
   ]
  },
  {
   "cell_type": "code",
   "execution_count": null,
   "metadata": {
    "scrolled": true
   },
   "outputs": [],
   "source": [
    "sess = tf.Session()\n",
    "init = tf.global_variables_initializer()\n",
    "sess.run(init)\n",
    "\n",
    "print(\"input shape:\", x.shape)\n",
    "print(\"output shape:\", y.shape)"
   ]
  },
  {
   "cell_type": "code",
   "execution_count": null,
   "metadata": {},
   "outputs": [],
   "source": [
    "def build_model():\n",
    "    model = keras.Sequential([\n",
    "        keras.layers.Dense(10, activation=tf.nn.relu),\n",
    "        keras.layers.Dense(10, activation=tf.nn.relu),\n",
    "        keras.layers.Dense(1)\n",
    "    ])\n",
    "    \n",
    "#     optimizer = tf.train.RMSPropOptimizer(0.001)\n",
    "    optimizer = tf.train.FtrlOptimizer(0.001)\n",
    "    \n",
    "    model.compile(loss='mse',\n",
    "                  optimizer=optimizer,\n",
    "                  metrics=['mae', 'mse'])\n",
    "    \n",
    "    return model"
   ]
  },
  {
   "cell_type": "code",
   "execution_count": null,
   "metadata": {},
   "outputs": [],
   "source": [
    "def lossMAP(trueusers, x, y, sess):\n",
    "    inputdata = x.eval(session=sess)\n",
    "    inputdata = np.vstack((trueusers.T, inputdata.T)).T\n",
    "    outputdata = y.eval(session=sess)\n",
    "    outputdata = np.vstack((trueusers.T, outputdata.T)).T\n",
    "    testpoints = createtestpoints(inputdata)\n",
    "    inputmodel = makemodel(inputdata)\n",
    "    inputmap = inputmodel.predict(testpoints)\n",
    "    outputmodel = makemodel(outputdata)\n",
    "    outputmap = outputmodel.predict(testpoints)\n",
    "    \n",
    "    fig, ax = plt.subplots(1, 2, figsize=(15, 5))\n",
    "    \n",
    "    c1 = np.transpose(inputmap)\n",
    "    c2 = np.transpose(outputmap)\n",
    "    \n",
    "    ax[0].scatter(testpoints[:,1], testpoints[:,0], c=c1[0])\n",
    "    ax[0].set_title(\"Map created from unobfuscated data\")\n",
    "    ax[1].scatter(testpoints[:,1], testpoints[:,0], c=c2[0])\n",
    "    ax[1].set_title(\"Map created from obfuscated data\")\n",
    "    \n",
    "    return mse(inputmap, outputmap)\n",
    "\n",
    "def createtestpoints(inputdata):\n",
    "    xmin, xmax = np.min(inputdata[:,3]), np.max(inputdata[:,3])\n",
    "    ymin, ymax = np.min(inputdata[:,4]), np.max(inputdata[:,4])\n",
    "    return np.mgrid[xmin:xmax:15j, ymin:ymax:15j].reshape(2,-1).T\n",
    "\n",
    "def makemodel(inputdata):\n",
    "    model = build_model()\n",
    "    train_data = inputdata[:,3:]\n",
    "    train_labels = inputdata[:,2]\n",
    "    model.fit(train_data, train_labels, epochs=100, verbose=0)\n",
    "    return model\n",
    "\n",
    "def mse(inputmap, outputmap):\n",
    "    delta = inputmap - outputmap\n",
    "    return tf.constant(np.mean(np.square(delta)), dtype=tf.float32)\n",
    "\n",
    "def lossAD(trueusers, x, y, numusers, sess):\n",
    "    print(\"Unobfuscated Data\")\n",
    "    inputdata = x.eval(session=sess)\n",
    "    inputdata = np.vstack((trueusers.T, inputdata.T)).T\n",
    "    icl, itl = cluster(inputdata, numusers)\n",
    "    iacc = cluster_accuracy(icl, itl)\n",
    "    print(\"clustering accuracy:\", iacc)\n",
    "    \n",
    "    print(\"Obfuscated Data\")\n",
    "    outputdata = y.eval(session=sess)\n",
    "    outputdata = np.vstack((trueusers.T, outputdata.T)).T\n",
    "    clusterlabels, truelabels = cluster(outputdata, numusers)\n",
    "    acc = cluster_accuracy(clusterlabels, truelabels)\n",
    "    print(\"clustering accuracy:\", acc)\n",
    "    return tf.constant(acc, dtype=tf.float32)"
   ]
  },
  {
   "cell_type": "code",
   "execution_count": null,
   "metadata": {},
   "outputs": [],
   "source": [
    "lossAD(trueusers, x, y, 5, sess)"
   ]
  },
  {
   "cell_type": "code",
   "execution_count": null,
   "metadata": {},
   "outputs": [],
   "source": [
    "loss1 = lossMAP(trueusers, x, y, sess)\n",
    "loss2 = lossAD(trueusers, x, y, 5, sess)\n",
    "print(sess.run(loss))"
   ]
  },
  {
   "cell_type": "code",
   "execution_count": null,
   "metadata": {},
   "outputs": [],
   "source": [
    "loss3 = tf.reduce_mean(tf.squared_difference(x, y))"
   ]
  },
  {
   "cell_type": "code",
   "execution_count": null,
   "metadata": {},
   "outputs": [],
   "source": [
    "optimizer = tf.train.GradientDescentOptimizer(0.01)\n",
    "train = optimizer.minimize(loss3)"
   ]
  },
  {
   "cell_type": "code",
   "execution_count": null,
   "metadata": {},
   "outputs": [],
   "source": [
    "for i in range(100):\n",
    "  _, loss_value = sess.run((train, loss3))\n",
    "#   print(loss_value)"
   ]
  },
  {
   "cell_type": "code",
   "execution_count": null,
   "metadata": {},
   "outputs": [],
   "source": [
    "y_pred = nn_model(x)"
   ]
  },
  {
   "cell_type": "code",
   "execution_count": null,
   "metadata": {},
   "outputs": [],
   "source": [
    "lossMAP(trueusers, x, y_pred, sess)"
   ]
  },
  {
   "cell_type": "code",
   "execution_count": null,
   "metadata": {},
   "outputs": [],
   "source": [
    "lossAD(trueusers, x, y_pred, 5, sess)"
   ]
  },
  {
   "cell_type": "code",
   "execution_count": null,
   "metadata": {},
   "outputs": [],
   "source": []
  },
  {
   "cell_type": "code",
   "execution_count": null,
   "metadata": {},
   "outputs": [],
   "source": []
  }
 ],
 "metadata": {
  "kernelspec": {
   "display_name": "Python 3",
   "language": "python",
   "name": "python3"
  },
  "language_info": {
   "codemirror_mode": {
    "name": "ipython",
    "version": 3
   },
   "file_extension": ".py",
   "mimetype": "text/x-python",
   "name": "python",
   "nbconvert_exporter": "python",
   "pygments_lexer": "ipython3",
   "version": "3.6.6"
  }
 },
 "nbformat": 4,
 "nbformat_minor": 2
}

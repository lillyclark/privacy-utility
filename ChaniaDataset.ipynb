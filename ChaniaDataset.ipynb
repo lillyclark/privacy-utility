{
 "cells": [
  {
   "cell_type": "code",
   "execution_count": 477,
   "metadata": {},
   "outputs": [],
   "source": [
    "import pandas as pd\n",
    "from matplotlib.dates import datestr2num\n",
    "from sklearn.preprocessing import normalize\n",
    "import random"
   ]
  },
  {
   "cell_type": "code",
   "execution_count": 538,
   "metadata": {},
   "outputs": [],
   "source": [
    "usecolumns = [0, 6, 12, 13, 19, 20, 21]\n",
    "u1e33 = pd.read_csv('Chania/1e33.csv', sep=',', usecols = usecolumns, dtype={'timestamp': object}, header=None)\n",
    "u1e33 = np.hstack([np.zeros((len(u1e33),1), dtype=int), u1e33])\n",
    "u7cbc = pd.read_csv('Chania/7cbc.csv', sep=',', usecols = usecolumns, dtype={'timestamp': object}, header=None)\n",
    "u7cbc = np.hstack([np.zeros((len(u7cbc),1), dtype=int)+1, u7cbc])\n",
    "u2222 = pd.read_csv('Chania/2222.csv', sep=',', usecols = usecolumns, dtype={'timestamp': object}, header=None)\n",
    "u2222 = np.hstack([np.zeros((len(u2222),1), dtype=int)+2, u2222])\n",
    "u6882 = pd.read_csv('Chania/6882.csv', sep=',', usecols = usecolumns, dtype={'timestamp': object}, header=None)\n",
    "u6882 = np.hstack([np.zeros((len(u6882),1), dtype=int)+3, u6882])\n",
    "ua841 = pd.read_csv('Chania/a841.csv', sep=',', usecols = usecolumns, dtype={'timestamp': object}, header=None)\n",
    "ua841 = np.hstack([np.zeros((len(ua841),1), dtype=int)+4, ua841])\n",
    "Chania = np.vstack([u1e33[1:len(u1e33),:],u7cbc[1:len(u7cbc),:], u2222[1:len(u2222),:], u6882[1:len(u6882),:], ua841[1:len(ua841),:]])"
   ]
  },
  {
   "cell_type": "code",
   "execution_count": 542,
   "metadata": {},
   "outputs": [],
   "source": [
    "# Chania = np.transpose(np.vstack([Chania[:,0], datestr2num(Chania[:,1]), strorfloat(Chania[:,2]), Chania[:,3]]))\n",
    "Chania = np.transpose(np.vstack([Chania[:,0], datestr2num(Chania[:,1]), Chania[:,2], Chania[:,3], Chania[:,4], Chania[:,5], Chania[:,6], Chania[:,7]]))"
   ]
  },
  {
   "cell_type": "code",
   "execution_count": 546,
   "metadata": {},
   "outputs": [],
   "source": [
    "rows = np.where((Chania[:,1] >= Chania[0][1]) & (Chania[:,1] <= Chania[67050][1]))\n",
    "Chania = Chania[rows]"
   ]
  },
  {
   "cell_type": "code",
   "execution_count": 547,
   "metadata": {
    "scrolled": true
   },
   "outputs": [],
   "source": [
    "for i in range(len(Chania[:,2])):\n",
    "    try:\n",
    "        Chania[:,2][i] = float(Chania[:,2][i])\n",
    "        Chania[:,3][i] = float(Chania[:,3][i])\n",
    "        Chania[:,4][i] = float(Chania[:,4][i])\n",
    "        Chania[:,5][i] = float(Chania[:,5][i])\n",
    "        Chania[:,6][i] = float(Chania[:,6][i])\n",
    "        Chania[:,7][i] = float(Chania[:,7][i])\n",
    "    except:\n",
    "        pass"
   ]
  },
  {
   "cell_type": "code",
   "execution_count": 548,
   "metadata": {},
   "outputs": [],
   "source": [
    "Chania = Chania[np.where(Chania[:,3] != 0)]"
   ]
  },
  {
   "cell_type": "code",
   "execution_count": 563,
   "metadata": {},
   "outputs": [
    {
     "data": {
      "text/plain": [
       "array([60563.0, 60563.0, 60563.0, ..., 60561.0, 60561.0, 60561.0],\n",
       "      dtype=object)"
      ]
     },
     "execution_count": 563,
     "metadata": {},
     "output_type": "execute_result"
    }
   ],
   "source": [
    "Chania[:,5]"
   ]
  },
  {
   "cell_type": "code",
   "execution_count": 558,
   "metadata": {},
   "outputs": [
    {
     "data": {
      "image/png": "[encoded data removed]",
      "text/plain": [
       "<Figure size 432x288 with 6 Axes>"
      ]
     },
     "metadata": {
      "needs_background": "light"
     },
     "output_type": "display_data"
    }
   ],
   "source": [
    "import matplotlib.pyplot as plt\n",
    "\n",
    "fig, axes = plt.subplots(2, 3, sharex='all', sharey='all')\n",
    "plt.axis([35.505,35.525,24.02,24.04])\n",
    "axes[0, 0].scatter(Chania[np.where(Chania[:,0] == 0)][:,3], Chania[np.where(Chania[:,0] == 0)][:,4])\n",
    "axes[0, 1].scatter(Chania[np.where(Chania[:,0] == 1)][:,3], Chania[np.where(Chania[:,0] == 1)][:,4])\n",
    "axes[0, 2].scatter(Chania[np.where(Chania[:,0] == 2)][:,3], Chania[np.where(Chania[:,0] == 2)][:,4])\n",
    "axes[1, 0].scatter(Chania[np.where(Chania[:,0] == 3)][:,3], Chania[np.where(Chania[:,0] == 3)][:,4])\n",
    "axes[1, 1].scatter(Chania[np.where(Chania[:,0] == 4)][:,3], Chania[np.where(Chania[:,0] == 4)][:,4])\n",
    "plt.show()"
   ]
  },
  {
   "cell_type": "code",
   "execution_count": 559,
   "metadata": {},
   "outputs": [
    {
     "data": {
      "image/png": "[encoded data removed]",
      "text/plain": [
       "<Figure size 432x288 with 1 Axes>"
      ]
     },
     "metadata": {
      "needs_background": "light"
     },
     "output_type": "display_data"
    }
   ],
   "source": [
    "fig, ax = plt.subplots()\n",
    "ax.scatter(Chania[np.where(Chania[:,0] == 0)][:,3], Chania[np.where(Chania[:,0] == 0)][:,4], c='red', label='1e33')\n",
    "ax.scatter(Chania[np.where(Chania[:,0] == 1)][:,3], Chania[np.where(Chania[:,0] == 1)][:,4], c='orange', label='7cbc')\n",
    "ax.scatter(Chania[np.where(Chania[:,0] == 2)][:,3], Chania[np.where(Chania[:,0] == 2)][:,4], c='yellow', label='2222')\n",
    "ax.scatter(Chania[np.where(Chania[:,0] == 3)][:,3], Chania[np.where(Chania[:,0] == 3)][:,4], c='green', label='6882')\n",
    "ax.scatter(Chania[np.where(Chania[:,0] == 4)][:,3], Chania[np.where(Chania[:,0] == 4)][:,4], c='blue', label='a841')\n",
    "\n",
    "\n",
    "ax.legend()\n",
    "ax.grid(True)\n",
    "\n",
    "plt.axis([35.505,35.525,24.02,24.04])\n",
    "plt.show()"
   ]
  },
  {
   "cell_type": "code",
   "execution_count": 592,
   "metadata": {},
   "outputs": [
    {
     "name": "stdout",
     "output_type": "stream",
     "text": [
      "1e33 67051\n",
      "7cbc 3676\n",
      "2222 19161\n",
      "6882 93818\n",
      "a841 63468\n"
     ]
    }
   ],
   "source": [
    "print('1e33', len(Chania[np.where(Chania[:,0] == 0)]))\n",
    "print('7cbc', len(Chania[np.where(Chania[:,0] == 1)]))\n",
    "print('2222', len(Chania[np.where(Chania[:,0] == 2)]))\n",
    "print('6882', len(Chania[np.where(Chania[:,0] == 3)]))\n",
    "print('a841', len(Chania[np.where(Chania[:,0] == 4)]))"
   ]
  },
  {
   "cell_type": "code",
   "execution_count": 564,
   "metadata": {},
   "outputs": [],
   "source": [
    "data = Chania[:,1:6]"
   ]
  },
  {
   "cell_type": "code",
   "execution_count": 566,
   "metadata": {},
   "outputs": [],
   "source": [
    "labels = Chania[:,0]"
   ]
  },
  {
   "cell_type": "code",
   "execution_count": 567,
   "metadata": {},
   "outputs": [],
   "source": [
    "import tensorflow as tf\n",
    "from tensorflow import keras\n",
    "import numpy as np"
   ]
  },
  {
   "cell_type": "code",
   "execution_count": 568,
   "metadata": {},
   "outputs": [],
   "source": [
    "ntrain, ntest = 2000, 200\n",
    "order = np.argsort(np.random.random(labels.shape))\n",
    "train_data = data[order][0:ntrain]\n",
    "train_labels = labels[order][0:ntrain]\n",
    "test_data = data[order][ntrain:ntrain+ntest]\n",
    "test_labels = labels[order][ntrain:ntrain+ntest]"
   ]
  },
  {
   "cell_type": "code",
   "execution_count": 573,
   "metadata": {},
   "outputs": [
    {
     "data": {
      "text/plain": [
       "array([1.0000020944559969, 1.0, 1.0147247217142858, 1.0012806968055417,\n",
       "       1.0], dtype=object)"
      ]
     },
     "execution_count": 573,
     "metadata": {},
     "output_type": "execute_result"
    }
   ],
   "source": [
    "test_data[0]"
   ]
  },
  {
   "cell_type": "code",
   "execution_count": 572,
   "metadata": {},
   "outputs": [],
   "source": [
    "train_data[:,0] = train_data[:,0]/734965\n",
    "train_data[:,1] = train_data[:,1]/-79\n",
    "train_data[:,2] = train_data[:,2]/35\n",
    "train_data[:,3] = train_data[:,3]/24\n",
    "train_data[:,4] = train_data[:,4]/60562\n",
    "\n",
    "test_data[:,0] = test_data[:,0]/734965\n",
    "test_data[:,1] = test_data[:,1]/-79\n",
    "test_data[:,2] = test_data[:,2]/35\n",
    "test_data[:,3] = test_data[:,3]/24\n",
    "test_data[:,4] = test_data[:,4]/60562"
   ]
  },
  {
   "cell_type": "code",
   "execution_count": 574,
   "metadata": {},
   "outputs": [
    {
     "name": "stdout",
     "output_type": "stream",
     "text": [
      "200/200 [==============================] - 8s 40ms/step\n",
      "0.48\n"
     ]
    }
   ],
   "source": [
    "model = keras.Sequential()\n",
    "model.add(keras.layers.Dense(5, activation=tf.nn.relu))\n",
    "model.add(keras.layers.Dense(5, activation=tf.nn.relu))\n",
    "model.add(keras.layers.Dense(5, activation=tf.nn.softmax))\n",
    "model.compile(optimizer=tf.train.AdamOptimizer(), loss='sparse_categorical_crossentropy', metrics=['accuracy'])\n",
    "model.fit(train_data, train_labels, epochs=1000, verbose=0)\n",
    "test_loss, test_acc = model.evaluate(test_data, test_labels)\n",
    "print(test_acc)"
   ]
  },
  {
   "cell_type": "code",
   "execution_count": 455,
   "metadata": {},
   "outputs": [
    {
     "name": "stdout",
     "output_type": "stream",
     "text": [
      "Hidden Units: 3 Epochs: 1000 Hidden Layers: 2\n",
      "100/100 [==============================] - 8s 76ms/step\n",
      "Test accuracy: 0.31\n",
      "BEST\n",
      "\n",
      "Hidden Units: 3 Epochs: 1000 Hidden Layers: 3\n",
      "100/100 [==============================] - 9s 87ms/step\n",
      "Test accuracy: 0.2\n",
      "\n",
      "Hidden Units: 5 Epochs: 1000 Hidden Layers: 2\n",
      "100/100 [==============================] - 8s 80ms/step\n",
      "Test accuracy: 0.1\n",
      "\n",
      "Hidden Units: 5 Epochs: 1000 Hidden Layers: 3\n",
      "100/100 [==============================] - 8s 80ms/step\n",
      "Test accuracy: 0.1\n",
      "\n"
     ]
    }
   ],
   "source": [
    "best_accuracy = 0\n",
    "for numunits in [3, 5]:\n",
    "    for epochs in [1000]:\n",
    "        for numlayers in [2, 3]:\n",
    "            print(\"Hidden Units:\", numunits, \"Epochs:\", epochs, \"Hidden Layers:\", numlayers)\n",
    "            model = keras.Sequential()\n",
    "            for i in range(numlayers):\n",
    "                model.add(keras.layers.Dense(numunits, activation=tf.nn.relu))\n",
    "            model.add(keras.layers.Dense(5, activation=tf.nn.softmax))\n",
    "            \n",
    "            model.compile(optimizer=tf.train.AdamOptimizer(), \n",
    "                          loss='sparse_categorical_crossentropy',\n",
    "                          metrics=['accuracy'])\n",
    "            model.fit(train_data, train_labels, epochs, verbose=0)\n",
    "            test_loss, test_acc = model.evaluate(test_data, test_labels)\n",
    "\n",
    "            print('Test accuracy:', test_acc)\n",
    "            if test_acc > best_accuracy:\n",
    "                best_accuracy = test_acc\n",
    "                print(\"BEST\")\n",
    "            print(\"\")"
   ]
  },
  {
   "cell_type": "code",
   "execution_count": null,
   "metadata": {},
   "outputs": [],
   "source": []
  }
 ],
 "metadata": {
  "kernelspec": {
   "display_name": "Python 3",
   "language": "python",
   "name": "python3"
  },
  "language_info": {
   "codemirror_mode": {
    "name": "ipython",
    "version": 3
   },
   "file_extension": ".py",
   "mimetype": "text/x-python",
   "name": "python",
   "nbconvert_exporter": "python",
   "pygments_lexer": "ipython3",
   "version": "3.6.6"
  }
 },
 "nbformat": 4,
 "nbformat_minor": 2
}
